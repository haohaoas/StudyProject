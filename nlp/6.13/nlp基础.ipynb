{
 "cells": [
  {
   "cell_type": "code",
   "id": "initial_id",
   "metadata": {
    "collapsed": true,
    "ExecuteTime": {
     "end_time": "2025-06-13T09:20:28.067949Z",
     "start_time": "2025-06-13T09:20:26.900109Z"
    }
   },
   "source": [
    "import nltk\n",
    "from nltk.tokenize import word_tokenize#把一句话拆成单词列表\n",
    "from nltk.corpus import stopwords#停止词\n",
    "from nltk.stem import PorterStemmer, WordNetLemmatizer #把单词变成词干   #词行还原\n"
   ],
   "outputs": [],
   "execution_count": 2
  },
  {
   "metadata": {
    "ExecuteTime": {
     "end_time": "2025-06-13T09:18:20.362902Z",
     "start_time": "2025-06-13T09:18:20.357691Z"
    }
   },
   "cell_type": "code",
   "source": [
    "nltk.download('punkt')\n",
    "nltk.download('stopwords')\n",
    "nltk.download('wordnet')\n"
   ],
   "id": "d4c3b598a19c5c3a",
   "outputs": [
    {
     "name": "stderr",
     "output_type": "stream",
     "text": [
      "[nltk_data] Downloading package punkt to /Users/haohao/nltk_data...\n",
      "[nltk_data]   Package punkt is already up-to-date!\n",
      "[nltk_data] Downloading package stopwords to\n",
      "[nltk_data]     /Users/haohao/nltk_data...\n",
      "[nltk_data]   Package stopwords is already up-to-date!\n",
      "[nltk_data] Downloading package wordnet to /Users/haohao/nltk_data...\n",
      "[nltk_data]   Package wordnet is already up-to-date!\n"
     ]
    },
    {
     "data": {
      "text/plain": [
       "True"
      ]
     },
     "execution_count": 75,
     "metadata": {},
     "output_type": "execute_result"
    }
   ],
   "execution_count": 75
  },
  {
   "metadata": {
    "ExecuteTime": {
     "end_time": "2025-06-13T12:50:36.489230Z",
     "start_time": "2025-06-13T12:50:36.479681Z"
    }
   },
   "cell_type": "code",
   "source": [
    "text = \"The cats are sitting on the mat, enjoying the warm sunlight.\"\n",
    "tokens = word_tokenize(text)"
   ],
   "id": "585430ee731af6ae",
   "outputs": [],
   "execution_count": 5
  }
 ],
 "metadata": {
  "kernelspec": {
   "display_name": "Python 3",
   "language": "python",
   "name": "python3"
  },
  "language_info": {
   "codemirror_mode": {
    "name": "ipython",
    "version": 2
   },
   "file_extension": ".py",
   "mimetype": "text/x-python",
   "name": "python",
   "nbconvert_exporter": "python",
   "pygments_lexer": "ipython2",
   "version": "2.7.6"
  }
 },
 "nbformat": 4,
 "nbformat_minor": 5
}
