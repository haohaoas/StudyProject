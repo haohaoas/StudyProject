{
 "cells": [
  {
   "cell_type": "code",
   "id": "initial_id",
   "metadata": {
    "collapsed": true,
    "ExecuteTime": {
     "end_time": "2025-06-03T08:53:52.120123Z",
     "start_time": "2025-06-03T08:53:51.802096Z"
    }
   },
   "source": [
    "import torch\n",
    "import numpy as np\n",
    "import matplotlib.pyplot as plt\n",
    "\n",
    "from ollamaModel import y_pred"
   ],
   "outputs": [],
   "execution_count": 56
  },
  {
   "metadata": {
    "ExecuteTime": {
     "end_time": "2025-06-03T06:34:43.384081Z",
     "start_time": "2025-06-03T06:34:43.371309Z"
    }
   },
   "cell_type": "code",
   "source": [
    "#1. 创建张量标量\n",
    "data=torch.tensor(10)\n",
    "print(data)"
   ],
   "id": "e6e6123cf1da36fd",
   "outputs": [
    {
     "name": "stdout",
     "output_type": "stream",
     "text": [
      "tensor(10)\n"
     ]
    }
   ],
   "execution_count": 3
  },
  {
   "metadata": {
    "ExecuteTime": {
     "end_time": "2025-06-03T06:36:03.958947Z",
     "start_time": "2025-06-03T06:36:03.938253Z"
    }
   },
   "cell_type": "code",
   "source": [
    "# 2. numpy 数组, 由于 data 为 float64, 下面代码也使用该类型\n",
    "data=np.random.randn(2,3)\n",
    "data=torch.tensor(data)\n",
    "print(data)"
   ],
   "id": "a955732ee021eed3",
   "outputs": [
    {
     "name": "stdout",
     "output_type": "stream",
     "text": [
      "tensor([[-2.2736, -2.1528, -0.8792],\n",
      "        [-0.1859,  0.3528,  0.8989]], dtype=torch.float64)\n"
     ]
    }
   ],
   "execution_count": 4
  },
  {
   "metadata": {
    "ExecuteTime": {
     "end_time": "2025-06-03T06:36:35.935238Z",
     "start_time": "2025-06-03T06:36:35.929444Z"
    }
   },
   "cell_type": "code",
   "source": [
    "# 3. 列表, 下面代码使用默认元素类型 float32\n",
    "data=[[10.,20.,30.],[40.,50.,60.]]\n",
    "data=torch.tensor(data)\n",
    "print(data)"
   ],
   "id": "95e5ff7875d3b53e",
   "outputs": [
    {
     "name": "stdout",
     "output_type": "stream",
     "text": [
      "tensor([[10., 20., 30.],\n",
      "        [40., 50., 60.]])\n"
     ]
    }
   ],
   "execution_count": 5
  },
  {
   "metadata": {
    "ExecuteTime": {
     "end_time": "2025-06-03T06:38:35.428743Z",
     "start_time": "2025-06-03T06:38:35.421670Z"
    }
   },
   "cell_type": "code",
   "source": [
    "# 1. 创建2行3列的张量, 默认 dtype 为 float32\n",
    "data=torch.Tensor(2,3)\n",
    "print(data)\n",
    "print(data.dtype)\n",
    "# 2. 注意: 如果传递列表, 则创建包含指定元素的张量\n",
    "data=torch.Tensor([10])\n",
    "print(data)\n",
    "data=torch.Tensor([10,20])\n",
    "print(data)"
   ],
   "id": "403b8be9d5fd4e4",
   "outputs": [
    {
     "name": "stdout",
     "output_type": "stream",
     "text": [
      "tensor([[0., 0., 0.],\n",
      "        [0., 0., 0.]])\n",
      "torch.float32\n",
      "tensor([10.])\n",
      "tensor([10., 20.])\n"
     ]
    }
   ],
   "execution_count": 8
  },
  {
   "metadata": {},
   "cell_type": "code",
   "outputs": [],
   "execution_count": null,
   "source": [
    "# 1. 创建2行3列, dtype 为 int32 的张量\n",
    "data=torch.IntTensor(2,3)\n",
    "print(data)\n",
    "# 2. 注意: 如果传递的元素类型不正确, 则会进行类型转换\n",
    "data=torch.IntTensor([2.5,3.6])\n",
    "print(data)\n",
    "# 3. 其他的类型\n",
    "data=torch.ShortTensor()\n",
    "data=torch.LongTensor()\n",
    "data=torch.FloatTensor()\n",
    "data=torch.DoubleTensor()"
   ],
   "id": "edf3443818163602"
  },
  {
   "metadata": {},
   "cell_type": "code",
   "outputs": [],
   "execution_count": null,
   "source": [
    "# 1. 在指定区间按照步长生成元素 [start, end, step)\n",
    "data=np.arange(0,10,2)\n",
    "print(data)\n",
    "# 2. 在指定区间按照元素个数生成 [start, end, steps]\n",
    "data=np.linspace(0,11,10)\n",
    "print(data)"
   ],
   "id": "e48f03562d207d59"
  },
  {
   "metadata": {
    "ExecuteTime": {
     "end_time": "2025-06-03T06:43:05.120449Z",
     "start_time": "2025-06-03T06:43:05.108243Z"
    }
   },
   "cell_type": "code",
   "source": [
    "# 1. 创建随机张量\n",
    "data=torch.randn(2,3)\n",
    "print(data)\n",
    "# 查看随机数种子\n",
    "print(f'随机数种子: {torch.random.initial_seed()}')\n",
    "# 2. 随机数种子设置\n",
    "torch.manual_seed(100)\n",
    "data=torch.randn(2,3)\n",
    "print(data)\n",
    "# 查看随机数种子\n",
    "print(f'随机数种子: {torch.random.initial_seed()}')"
   ],
   "id": "592a3a8eabf4d67d",
   "outputs": [
    {
     "name": "stdout",
     "output_type": "stream",
     "text": [
      "tensor([[-1.5208,  0.9616,  0.7019],\n",
      "        [-0.1791, -0.5050,  2.2503]])\n",
      "随机数种子: 18367621835086207994\n",
      "tensor([[ 0.3607, -0.2859, -0.3938],\n",
      "        [ 0.2429, -1.3833, -2.3134]])\n",
      "随机数种子: 100\n"
     ]
    }
   ],
   "execution_count": 11
  },
  {
   "metadata": {
    "ExecuteTime": {
     "end_time": "2025-06-03T06:44:05.569139Z",
     "start_time": "2025-06-03T06:44:05.563320Z"
    }
   },
   "cell_type": "code",
   "source": [
    "# 1. 创建指定形状全0张量\n",
    "data=torch.zeros(2,3)\n",
    "print(data)\n",
    "# 2. 根据张量形状创建全0张量\n",
    "data=torch.zeros_like(data)\n",
    "print(data)"
   ],
   "id": "e627b177e74accec",
   "outputs": [
    {
     "name": "stdout",
     "output_type": "stream",
     "text": [
      "tensor([[0., 0., 0.],\n",
      "        [0., 0., 0.]])\n",
      "tensor([[0., 0., 0.],\n",
      "        [0., 0., 0.]])\n"
     ]
    }
   ],
   "execution_count": 12
  },
  {
   "metadata": {},
   "cell_type": "code",
   "outputs": [],
   "execution_count": null,
   "source": [
    "# 1. 创建指定形状全1张量\n",
    "data=torch.ones(2,3)\n",
    "print(data)\n",
    "# 2. 根据张量形状创建全1张量\n",
    "data=torch.ones_like(data)\n",
    "print(data)"
   ],
   "id": "4ea7c5f070619418"
  },
  {
   "metadata": {
    "ExecuteTime": {
     "end_time": "2025-06-03T06:46:24.298177Z",
     "start_time": "2025-06-03T06:46:24.291691Z"
    }
   },
   "cell_type": "code",
   "source": [
    "# 1. 创建指定形状指定值的张量\n",
    "data=torch.full((2,3), 10)\n",
    "print(data)\n",
    "# 2. 根据张量形状创建指定值的张量\n",
    "data=torch.full_like(data, 20)\n",
    "print(data)"
   ],
   "id": "72b515cd25ccc1e9",
   "outputs": [
    {
     "name": "stdout",
     "output_type": "stream",
     "text": [
      "tensor([[10, 10, 10],\n",
      "        [10, 10, 10]])\n",
      "tensor([[20, 20, 20],\n",
      "        [20, 20, 20]])\n"
     ]
    }
   ],
   "execution_count": 13
  },
  {
   "metadata": {
    "ExecuteTime": {
     "end_time": "2025-06-03T06:49:00.998191Z",
     "start_time": "2025-06-03T06:49:00.993644Z"
    }
   },
   "cell_type": "code",
   "source": [
    "data = torch.full([2, 3], 10)\n",
    "print(data.dtype)\n",
    "# 将 data 元素类型转换为 float64 类型\n",
    "data=data.double()\n",
    "print(data.dtype)"
   ],
   "id": "936823b9fe2201d2",
   "outputs": [
    {
     "name": "stdout",
     "output_type": "stream",
     "text": [
      "torch.int64\n",
      "torch.float64\n",
      "torch.int32\n",
      "torch.float32\n",
      "torch.int64\n",
      "torch.int16\n"
     ]
    }
   ],
   "execution_count": 17
  },
  {
   "metadata": {
    "ExecuteTime": {
     "end_time": "2025-06-03T06:49:40.539439Z",
     "start_time": "2025-06-03T06:49:40.535646Z"
    }
   },
   "cell_type": "code",
   "source": [
    "data = torch.full([2, 3], 10)\n",
    "print(data.dtype)\n",
    "# 将 data 元素类型转换为 float64 类型\n",
    "data=data.double()\n",
    "print(data.dtype)"
   ],
   "id": "5abe50253ea289d3",
   "outputs": [
    {
     "name": "stdout",
     "output_type": "stream",
     "text": [
      "torch.int64\n",
      "torch.float32\n"
     ]
    }
   ],
   "execution_count": 18
  },
  {
   "metadata": {
    "ExecuteTime": {
     "end_time": "2025-06-03T06:52:19.854317Z",
     "start_time": "2025-06-03T06:52:19.849928Z"
    }
   },
   "cell_type": "code",
   "source": [
    "# 1. 将张量转换为 numpy 数组\n",
    "data=torch.randn(2,3)\n",
    "data_numpy=data.numpy()\n",
    "print(type(data_numpy))\n",
    "print(type(data))\n",
    "# 注意: data_tensor 和 data_numpy 共享内存\n",
    "# 修改其中的一个，另外一个也会发生改变\n",
    "# data_tensor[0] = 100\n",
    "data_numpy[0] = 100\n",
    "print(data)\n",
    "print(data_numpy)"
   ],
   "id": "86390b364b2136",
   "outputs": [
    {
     "name": "stdout",
     "output_type": "stream",
     "text": [
      "<class 'numpy.ndarray'>\n",
      "<class 'torch.Tensor'>\n",
      "tensor([[100.0000, 100.0000, 100.0000],\n",
      "        [ -0.2586,  -0.2510,   0.4770]])\n",
      "[[100.         100.         100.        ]\n",
      " [ -0.25856334  -0.25097468   0.47698054]]\n"
     ]
    }
   ],
   "execution_count": 20
  },
  {
   "metadata": {
    "ExecuteTime": {
     "end_time": "2025-06-03T06:54:13.453991Z",
     "start_time": "2025-06-03T06:54:13.448252Z"
    }
   },
   "cell_type": "code",
   "source": [
    "# 2. 对象拷贝避免共享内存\n",
    "data_tensor=torch.tensor([2,3,4])\n",
    "# 使用张量对象中的 numpy 函数进行转换，通过copy方法拷贝对象\n",
    "data_numpy=data_tensor.numpy().copy()\n",
    "print(type(data_numpy))\n",
    "print(type(data_tensor))\n",
    "# 注意: data_tensor 和 data_numpy 此时不共享内存\n",
    "# 修改其中的一个，另外一个不会发生改变\n",
    "# data_tensor[0] = 100\n",
    "data_numpy[0] = 100\n",
    "print(data_tensor)\n",
    "print(data_numpy)"
   ],
   "id": "3f6400fe0612cd21",
   "outputs": [
    {
     "name": "stdout",
     "output_type": "stream",
     "text": [
      "<class 'numpy.ndarray'>\n",
      "<class 'torch.Tensor'>\n",
      "tensor([2, 3, 4])\n",
      "[100   3   4]\n"
     ]
    }
   ],
   "execution_count": 23
  },
  {
   "metadata": {
    "ExecuteTime": {
     "end_time": "2025-06-03T06:56:26.525329Z",
     "start_time": "2025-06-03T06:56:26.520584Z"
    }
   },
   "cell_type": "code",
   "source": [
    "data_numpy = np.array([2, 3, 4])\n",
    "# 将 numpy 数组转换为张量类型\n",
    "# 1. from_numpy\n",
    "# 2. torch.tensor(ndarray)\n",
    "data_tensor=torch.from_numpy(data_numpy)\n",
    "# nunpy 和 tensor 共享内存\n",
    "# data_numpy[0] = 100\n",
    "data_tensor[0]=100\n",
    "print(data_numpy)\n",
    "print(data_tensor)"
   ],
   "id": "e2b16e0ec53e5fdf",
   "outputs": [
    {
     "name": "stdout",
     "output_type": "stream",
     "text": [
      "[100   3   4]\n",
      "tensor([100,   3,   4])\n"
     ]
    }
   ],
   "execution_count": 25
  },
  {
   "metadata": {
    "ExecuteTime": {
     "end_time": "2025-06-03T06:57:33.204709Z",
     "start_time": "2025-06-03T06:57:33.200317Z"
    }
   },
   "cell_type": "code",
   "source": [
    "# 当张量只包含一个元素时, 可以通过 item() 函数提取出该值\n",
    "data=torch.tensor([30,])\n",
    "print(data.item())\n",
    "data=torch.tensor(30)\n",
    "print(data.item())"
   ],
   "id": "8e323640fbf4f079",
   "outputs": [
    {
     "name": "stdout",
     "output_type": "stream",
     "text": [
      "30\n",
      "30\n"
     ]
    }
   ],
   "execution_count": 26
  },
  {
   "metadata": {
    "ExecuteTime": {
     "end_time": "2025-06-03T06:59:32.623495Z",
     "start_time": "2025-06-03T06:59:32.615299Z"
    }
   },
   "cell_type": "code",
   "source": [
    "data = torch.randint(0, 10, [2, 3])\n",
    "print(data)\n",
    "# 1. 不修改原数据\n",
    "new_data=data.add(10)\n",
    "print(new_data)\n",
    "# 2. 直接修改原数据 注意: 带下划线的函数为修改原数据本身\n",
    "new_data=data.add_(10)\n",
    "print(new_data)\n",
    "#其他函数\n",
    "print(data.sub(100))\n",
    "print(data.mul(100))\n",
    "print(data.div(100))\n",
    "print(data.neg())"
   ],
   "id": "e10b838350be5249",
   "outputs": [
    {
     "name": "stdout",
     "output_type": "stream",
     "text": [
      "tensor([[8, 9, 7],\n",
      "        [9, 2, 6]])\n",
      "tensor([[18, 19, 17],\n",
      "        [19, 12, 16]])\n",
      "tensor([[18, 19, 17],\n",
      "        [19, 12, 16]])\n",
      "tensor([[-82, -81, -83],\n",
      "        [-81, -88, -84]])\n",
      "tensor([[1800, 1900, 1700],\n",
      "        [1900, 1200, 1600]])\n",
      "tensor([[0.1800, 0.1900, 0.1700],\n",
      "        [0.1900, 0.1200, 0.1600]])\n",
      "tensor([[-18, -19, -17],\n",
      "        [-19, -12, -16]])\n"
     ]
    }
   ],
   "execution_count": 29
  },
  {
   "metadata": {},
   "cell_type": "code",
   "outputs": [],
   "execution_count": null,
   "source": "#点乘运算",
   "id": "54db17b8fe6c5edf"
  },
  {
   "metadata": {
    "ExecuteTime": {
     "end_time": "2025-06-03T07:01:33.415851Z",
     "start_time": "2025-06-03T07:01:33.411412Z"
    }
   },
   "cell_type": "code",
   "source": [
    "data1 = torch.tensor([[1, 2], [3, 4]])\n",
    "data2 = torch.tensor([[5, 6], [7, 8]])\n",
    "# 第一种方式\n",
    "data=torch.mul(data1, data2)\n",
    "print(data)\n",
    "# 第二种方式\n",
    "data=data1*data2\n",
    "print(data)"
   ],
   "id": "e0f00800b0ec3590",
   "outputs": [
    {
     "name": "stdout",
     "output_type": "stream",
     "text": [
      "tensor([[ 5, 12],\n",
      "        [21, 32]])\n"
     ]
    }
   ],
   "execution_count": 30
  },
  {
   "metadata": {},
   "cell_type": "code",
   "outputs": [],
   "execution_count": null,
   "source": "# 点积运算",
   "id": "486d5598db7685e6"
  },
  {
   "metadata": {},
   "cell_type": "code",
   "outputs": [],
   "execution_count": null,
   "source": [
    "data1 = torch.tensor([[1, 2], [3, 4], [5, 6]])\n",
    "data2 = torch.tensor([[5, 6], [7, 8]])\n",
    "# 第一种方式\n",
    "data=data1@data2\n",
    "print(data)\n",
    "# 第二种方式\n",
    "data=torch.matmul(data1, data2)\n",
    "print(data)"
   ],
   "id": "b480b29709943593"
  },
  {
   "metadata": {},
   "cell_type": "code",
   "outputs": [],
   "execution_count": null,
   "source": "# 矩阵乘法运算",
   "id": "e43b5091b2632b51"
  },
  {
   "metadata": {},
   "cell_type": "code",
   "outputs": [],
   "execution_count": null,
   "source": [
    "data1 = torch.tensor([[1, 2], [3, 4]])\n",
    "data2 = torch.tensor([[5, 6], [7, 8]])\n",
    "# 第一种方式\n",
    "data=torch.mm(data1, data2)\n",
    "print(data)\n",
    "# 第二种方式\n",
    "data=data1.mm(data2)\n",
    "print(data)"
   ],
   "id": "b59509ff945dd3d3"
  },
  {
   "metadata": {},
   "cell_type": "code",
   "outputs": [],
   "execution_count": null,
   "source": "# 转置操作",
   "id": "ffab7c8a4348cde2"
  },
  {
   "metadata": {},
   "cell_type": "code",
   "outputs": [],
   "execution_count": null,
   "source": [
    "data = torch.randn(2, 3)\n",
    "print(data)\n",
    "new_data=data.t()\n",
    "print(new_data)"
   ],
   "id": "e225022daea2a70c"
  },
  {
   "metadata": {},
   "cell_type": "code",
   "outputs": [],
   "execution_count": null,
   "source": "# 维度变换",
   "id": "f0b71282e7588b61"
  },
  {
   "metadata": {
    "ExecuteTime": {
     "end_time": "2025-06-03T07:03:14.731921Z",
     "start_time": "2025-06-03T07:03:14.727161Z"
    }
   },
   "cell_type": "code",
   "source": [
    "data = torch.randn(2, 3)\n",
    "print(data)\n",
    "# 第一种方式\n",
    "new_data=data.view(-1, 1)\n",
    "print(new_data)\n",
    "# 第二种方式\n",
    "new_data=data.reshape(-1, 1)\n",
    "print(new_data)"
   ],
   "id": "ba29bfa991c8e6c3",
   "outputs": [
    {
     "name": "stdout",
     "output_type": "stream",
     "text": [
      "tensor([[ 1.1836, -0.2322,  0.0522],\n",
      "        [ 1.0611, -0.7679, -0.4989]])\n",
      "tensor([[ 1.1836],\n",
      "        [-0.2322],\n",
      "        [ 0.0522],\n",
      "        [ 1.0611],\n",
      "        [-0.7679],\n",
      "        [-0.4989]])\n",
      "tensor([[ 1.1836],\n",
      "        [-0.2322],\n",
      "        [ 0.0522],\n",
      "        [ 1.0611],\n",
      "        [-0.7679],\n",
      "        [-0.4989]])\n"
     ]
    }
   ],
   "execution_count": 31
  },
  {
   "metadata": {},
   "cell_type": "code",
   "outputs": [],
   "execution_count": null,
   "source": "#常见运算函数",
   "id": "e552967b1693bf27"
  },
  {
   "metadata": {
    "ExecuteTime": {
     "end_time": "2025-06-03T07:05:27.885674Z",
     "start_time": "2025-06-03T07:05:27.876598Z"
    }
   },
   "cell_type": "code",
   "source": [
    "data = torch.randint(0, 10, [2, 3], dtype=torch.float64)\n",
    "print(data)\n",
    "# 1. 计算均值\n",
    "# 注意: tensor 必须为 Float 或者 Double 类型\n",
    "print(data.mean())\n",
    "print(data.mean(dim=0))# 按行计算均值\n",
    "print(data.mean(dim=1))# 按列计算均值\n",
    "# 2. 计算总和\n",
    "print(data.sum())\n",
    "print(data.sum(dim=0))\n",
    "print(data.sum(dim=1))\n",
    "# 3. 计算平方\n",
    "print(data.pow(2))"
   ],
   "id": "50e9e6f4353ffd5a",
   "outputs": [
    {
     "name": "stdout",
     "output_type": "stream",
     "text": [
      "tensor([[4., 0., 8.],\n",
      "        [4., 7., 2.]], dtype=torch.float64)\n",
      "tensor(4.1667, dtype=torch.float64)\n",
      "tensor([4.0000, 3.5000, 5.0000], dtype=torch.float64)\n",
      "tensor([4.0000, 4.3333], dtype=torch.float64)\n",
      "tensor(25., dtype=torch.float64)\n",
      "tensor([ 8.,  7., 10.], dtype=torch.float64)\n",
      "tensor([12., 13.], dtype=torch.float64)\n",
      "tensor([[16.,  0., 64.],\n",
      "        [16., 49.,  4.]], dtype=torch.float64)\n"
     ]
    }
   ],
   "execution_count": 33
  },
  {
   "metadata": {},
   "cell_type": "code",
   "outputs": [],
   "execution_count": null,
   "source": [
    "# 4. 计算平方根\n",
    "print(data.sqrt())\n",
    "# 5. 指数计算, e^n 次方\n",
    "print(data.exp())\n",
    "# 6. 对数计算\n",
    "print(data.log())# 以 e 为底的对数\n",
    "print(data.log2())\n",
    "print(data.log10())"
   ],
   "id": "ed52b707e676491f"
  },
  {
   "metadata": {},
   "cell_type": "code",
   "outputs": [],
   "execution_count": null,
   "source": "#索引操作在操作张量时，经常要去获取某些元素进行处理或者修改操作，在这里需要了解torch中的索引操作。准备数据",
   "id": "6fe3a10b3b4cbcf9"
  },
  {
   "metadata": {
    "ExecuteTime": {
     "end_time": "2025-06-03T07:08:36.932482Z",
     "start_time": "2025-06-03T07:08:36.928327Z"
    }
   },
   "cell_type": "code",
   "source": [
    "# 随机生成数据\n",
    "data=torch.randint(0,10,[4,5])\n",
    "print(data)\n",
    "#简单行、列索引\n",
    "print(data[0])\n",
    "print(data[0,:])\n",
    "#列表索引\n",
    "print(data[[0,1],[2,3]])\n",
    "# 返回 0、1 行的 1、2 列共4个元素\n",
    "print(data[[[0], [1]], [1, 2]])\n",
    "# 前3行的前2列数据\n",
    "print(data[:3, :2])\n",
    "# 第2行到最后的前2列数据\n",
    "print(data[2:, :2])\n",
    "# 第三列大于5的行数据\n",
    "print(data[data[:, 2] > 5])\n",
    "# 第二行大于5的列数据\n",
    "print(data[:, data[1] > 5])"
   ],
   "id": "ddc5cc6950ae6ad4",
   "outputs": [
    {
     "name": "stdout",
     "output_type": "stream",
     "text": [
      "tensor([[7, 2, 5, 6, 1],\n",
      "        [4, 5, 6, 9, 2],\n",
      "        [3, 1, 0, 2, 1],\n",
      "        [2, 7, 9, 2, 4]])\n",
      "tensor([7, 2, 5, 6, 1])\n",
      "tensor([7, 2, 5, 6, 1])\n"
     ]
    }
   ],
   "execution_count": 35
  },
  {
   "metadata": {},
   "cell_type": "code",
   "outputs": [],
   "execution_count": null,
   "source": "#多维张量索引",
   "id": "6fd2f43e4946a819"
  },
  {
   "metadata": {},
   "cell_type": "code",
   "outputs": [],
   "execution_count": null,
   "source": [
    "data = torch.randint(0, 10, [3, 4, 5])\n",
    "print(data)\n",
    "# 获取0轴上的第一个数据\n",
    "print(data[0, :, :])\n",
    "# 获取1轴上的第一个数据\n",
    "print(data[:, 0, :])\n",
    "# 获取2轴上的第一个数据\n",
    "print(data[:, :, 0])"
   ],
   "id": "f96fb132247cbdba"
  },
  {
   "metadata": {},
   "cell_type": "code",
   "outputs": [],
   "execution_count": null,
   "source": [
    "#reshape()函数\n",
    "#reshape 函数可以在保证张量数据不变的前提下改变数据的维度，将其转换成指定的形状。"
   ],
   "id": "54a14f427b1b98c5"
  },
  {
   "metadata": {
    "ExecuteTime": {
     "end_time": "2025-06-03T07:11:23.560672Z",
     "start_time": "2025-06-03T07:11:23.555070Z"
    }
   },
   "cell_type": "code",
   "source": [
    "data = torch.tensor([[10, 20, 30], [40, 50, 60]])\n",
    "# 1. 使用 shape 属性或者 size 方法都可以获得张量的形状\n",
    "print(data.shape)\n",
    "print(data.size())\n",
    "# 2. 使用 reshape 函数修改张量形状\n",
    "data=data.reshape(1,6)\n",
    "print(data)\n",
    "print(data.shape)\n",
    "print(data.size())"
   ],
   "id": "db90e19a12f2331c",
   "outputs": [
    {
     "name": "stdout",
     "output_type": "stream",
     "text": [
      "torch.Size([2, 3])\n",
      "torch.Size([2, 3])\n",
      "tensor([[10, 20, 30, 40, 50, 60]])\n",
      "torch.Size([1, 6])\n",
      "torch.Size([1, 6])\n"
     ]
    }
   ],
   "execution_count": 36
  },
  {
   "metadata": {},
   "cell_type": "code",
   "outputs": [],
   "execution_count": null,
   "source": [
    "#squeeze()和unsqueeze()函数\n",
    "#squeeze 函数删除形状为 1 的维度（降维），unsqueeze 函数添加形状为1的维度（升维）。"
   ],
   "id": "4e92a3e0375b2930"
  },
  {
   "metadata": {},
   "cell_type": "code",
   "outputs": [],
   "execution_count": null,
   "source": [
    "mydata1 = torch.tensor([1, 2, 3, 4, 5])\n",
    "print('mydata1--->', mydata1.shape, mydata1) # 一个普通的数组 1维数据\n",
    "mydata2 = mydata1.unsqueeze(0)\n",
    "print('在0维度上 拓展维度：', mydata2, mydata2.shape) #1*5\n",
    "mydata3 = mydata1.unsqueeze(dim=1)\n",
    "print('在1维度上 拓展维度：', mydata3, mydata3.shape) #5*1\n",
    "mydata4 = mydata1.unsqueeze(dim=-1)\n",
    "print('在-1维度上 拓展维度：', mydata4, mydata4.shape) #5*1\n",
    "mydata5 = mydata4.squeeze()\n",
    "print('压缩维度：', mydata5, mydata5.shape)"
   ],
   "id": "5a5158998bb3b355"
  },
  {
   "metadata": {},
   "cell_type": "code",
   "outputs": [],
   "execution_count": null,
   "source": [
    "#transpose()和permute()函数\n",
    "#transpose 函数可以实现交换张量形状的指定维度, 例如: 一个张量的形状为 (2, 3, 4) 可以通过 transpose 函数把 3 和\n",
    "#4 进行交换, 将张量的形状变为 (2, 4, 3) 。 permute 函数可以一次交换更多的维"
   ],
   "id": "93643875b45ad669"
  },
  {
   "metadata": {
    "ExecuteTime": {
     "end_time": "2025-06-03T07:25:00.628056Z",
     "start_time": "2025-06-03T07:25:00.622662Z"
    }
   },
   "cell_type": "code",
   "source": [
    "data=torch.tensor(np.random.randint(0, 10, [3,4,5]))\n",
    "print('data shape:', data.size())\n",
    "# 1 交换1和2维度\n",
    "mydata2=torch.transpose(data,1,2)\n",
    "print('mydata2 shape:', mydata2.shape)\n",
    "# 2 将data 的形状修改为 (4, 5, 3), 需要变换多次\n",
    "mydata3=torch.transpose(data,0,1)\n",
    "mydata3=torch.transpose(mydata3,1,2)\n",
    "print('mydata3 shape:', mydata3.shape)\n",
    "# 3 使用 permute 函数将形状修改为 (4, 5, 3)\n",
    "#方法1\n",
    "mydata4=torch.permute(data,(1,2,0))\n",
    "print('mydata4 shape:', mydata4.shape)\n",
    "#方法2\n",
    "mydata6 = data.permute([1, 2, 0])\n",
    "print('mydata6.shape--->', mydata6.shape)"
   ],
   "id": "d286871fe5541eb3",
   "outputs": [
    {
     "name": "stdout",
     "output_type": "stream",
     "text": [
      "data shape: torch.Size([3, 4, 5])\n",
      "mydata2 shape: torch.Size([3, 5, 4])\n",
      "mydata3 shape: torch.Size([4, 5, 3])\n",
      "mydata4 shape: torch.Size([4, 5, 3])\n",
      "mydata6.shape---> torch.Size([4, 5, 3])\n"
     ]
    }
   ],
   "execution_count": 47
  },
  {
   "metadata": {},
   "cell_type": "code",
   "outputs": [],
   "execution_count": null,
   "source": [
    "#view()和contiguous()函数\n",
    "#view 函数也可以用于修改张量的形状，只能用于存储在整块内存中的张量。在 PyTorch 中，有些张量是由不同的数据\n",
    "#块组成的，它们并没有存储在整块的内存中，view 函数无法对这样的张量进行变形处理，例如: 一个张量经过了\n",
    "#transpose 或者 permute 函数的处理之后，就无法使用 view 函数进行形状操作。"
   ],
   "id": "c81181bd2e7aedda"
  },
  {
   "metadata": {},
   "cell_type": "code",
   "outputs": [],
   "execution_count": null,
   "source": [
    "# 1 一个张量经过了 transpose 或者 permute 函数的处理之后，就无法使用\n",
    "#view 函数进行形状操作\n",
    "# 若要使用view函数, 需要使用contiguous() 变成连续以后再使用view函数\n",
    "# 2 判断张量是否使用整块内存\n",
    "data = torch.tensor( [[10, 20, 30],[40, 50, 60]])\n",
    "print('data--->', data, data.shape)\n",
    "# 1 判断是否使用整块内存\n",
    "print(data.is_contiguous())\n",
    "# 2 view\n",
    "mydata2=data.view(3,2)\n",
    "print('mydata2--->', mydata2, mydata2.shape)\n",
    "#3 判断是否使用整块\n",
    "print('mydata2.is_contiguous()--->', mydata2.is_contiguous())"
   ],
   "id": "56677cec13424a91"
  },
  {
   "metadata": {},
   "cell_type": "code",
   "outputs": [],
   "execution_count": null,
   "source": [
    "#view()和contiguous()函数\n",
    "# 4 使用 transpose 函数修改形状\n",
    "mydata3=torch.transpose(data,0,1)\n",
    "print('mydata3--->', mydata3, mydata3.shape)\n",
    "print('mydata3.is_contiguous()--->', mydata3.is_contiguous())\n",
    "# 5 使用 contiguous()函数变成连续的张量\n",
    "print('mydata3.contiguous()--->', mydata3.contiguous())\n",
    "mydata4=mydata3.contiguous().view(2,3)\n",
    "print('mydata4--->', mydata4, mydata4.shape)"
   ],
   "id": "b88c3cf126305b44"
  },
  {
   "metadata": {},
   "cell_type": "code",
   "outputs": [],
   "execution_count": null,
   "source": [
    "#torch.cat()\n",
    "#torch.cat()函数可以将两个张量根据指定的维度拼接起来，不改变维度数"
   ],
   "id": "70f8814dfad4b7ba"
  },
  {
   "metadata": {
    "ExecuteTime": {
     "end_time": "2025-06-03T07:41:53.701301Z",
     "start_time": "2025-06-03T07:41:53.692421Z"
    }
   },
   "cell_type": "code",
   "source": [
    "data1 = torch.randint(0, 10, [1, 2, 3])\n",
    "data2 = torch.randint(0, 10, [1, 2, 3])\n",
    "print(data1)\n",
    "print(data2)\n",
    "# 1. 按0维度拼接\n",
    "data3=torch.cat([data1, data2], dim=0)\n",
    "print(data3)\n",
    "print(data3.shape)\n",
    "# 2. 按1维度拼接\n",
    "new_data = torch.cat([data1, data2], dim=1)\n",
    "print(new_data)\n",
    "print(new_data.shape)\n",
    "# 3. 按2维度拼接\n",
    "new_data = torch.cat([data1, data2], dim=2)\n",
    "print(new_data)\n",
    "print(new_data.shape)"
   ],
   "id": "f61badc271734b48",
   "outputs": [
    {
     "name": "stdout",
     "output_type": "stream",
     "text": [
      "tensor([[[3, 7, 1],\n",
      "         [5, 0, 2]]])\n",
      "tensor([[[3, 7, 0],\n",
      "         [2, 5, 2]]])\n",
      "tensor([[[3, 7, 1],\n",
      "         [5, 0, 2]],\n",
      "\n",
      "        [[3, 7, 0],\n",
      "         [2, 5, 2]]])\n",
      "torch.Size([2, 2, 3])\n",
      "tensor([[[3, 7, 1],\n",
      "         [5, 0, 2],\n",
      "         [3, 7, 0],\n",
      "         [2, 5, 2]]])\n",
      "torch.Size([1, 4, 3])\n",
      "tensor([[[3, 7, 1, 3, 7, 0],\n",
      "         [5, 0, 2, 2, 5, 2]]])\n",
      "torch.Size([1, 2, 6])\n"
     ]
    }
   ],
   "execution_count": 50
  },
  {
   "metadata": {
    "SqlCellData": {
     "variableName$1": "df_sql1"
    }
   },
   "cell_type": "code",
   "outputs": [],
   "execution_count": null,
   "source": "%%sql\n",
   "id": "247eb0aba3afa406"
  },
  {
   "metadata": {},
   "cell_type": "code",
   "outputs": [],
   "execution_count": null,
   "source": [
    "#自动微分模块\n",
    "#1.当x为标量时梯度的计算\n",
    "def test01():\n",
    "    x=torch.tensor(5)\n",
    "    #目标值\n",
    "    y=torch.tensor(0.)\n",
    "    #设置要更新的权重和偏置的初始值\n",
    "    w=torch.tensor(1.,requires_grad=True,dtype=torch.float32)\n",
    "    b=torch.tensor(3.,requires_grad=True,dtype=torch.float32)\n",
    "    #设置网络的输出值\n",
    "    z=w*x+b#矩阵乘法\n",
    "    #计算损失,并进行损失的计算\n",
    "    loss=torch.nn.MSELoss()\n",
    "    loss_value=loss(z,y)\n",
    "    #自动微分\n",
    "    loss.backward()\n",
    "    #打印w，b变量的梯度\n",
    "    #backward函数计算的梯度值会储存在张量的grad变量中\n",
    "    print(w.grad)\n",
    "    print(b.grad)\n",
    "\n"
   ],
   "id": "8f2d1e4be7a544e7"
  },
  {
   "metadata": {},
   "cell_type": "code",
   "outputs": [],
   "execution_count": null,
   "source": [
    "def test02():\n",
    "    # 输入张量 2*5\n",
    "    x=torch.ones(2,5)\n",
    "    # 目标值是 2*3\n",
    "    y=torch.ones(2,3)\n",
    "    # 设置要更新的权重和偏置的初始值\n",
    "    w=torch.randn(5,3,requires_grad=True)\n",
    "    b=torch.randn(3,requires_grad=True)\n",
    "    # 设置网络的输出值\n",
    "    z=torch.matmul(x,w)+b\n",
    "    # 自动微分\n",
    "    loss=torch.nn.MSELoss()\n",
    "    loss=loss(z,y)\n",
    "    loss.backward()\n",
    "    # 打印 w,b 变量的梯度\n",
    "    # backward 函数计算的梯度值会存储在张量的 grad 变量中\n",
    "    print(w.grad)\n",
    "    print(b.grad)"
   ],
   "id": "237ba734db227353"
  },
  {
   "metadata": {
    "ExecuteTime": {
     "end_time": "2025-06-03T08:54:44.311830Z",
     "start_time": "2025-06-03T08:54:44.308791Z"
    }
   },
   "cell_type": "code",
   "source": [
    "#导入相关模块\n",
    "# 构造数据集对象\n",
    "from torch.utils.data import TensorDataset\n",
    "# 构造数据集对象\n",
    "from torch.utils.data import DataLoader\n",
    "# nn模块中有平方损失函数和假设函数\n",
    "from torch import nn\n",
    "# 导入随机数模块\n",
    "from torch import optim\n",
    "# 创建线性回归模型数据集\n",
    "from sklearn.datasets import make_regression\n",
    "# 用来正常显示中文标签\n",
    "plt.rcParams['font.sans-serif']=['SimHei']\n",
    "plt.rcParams['axes.unicode_minus']=False\n",
    "# 用来正常显示负号"
   ],
   "id": "3e29500230fdc586",
   "outputs": [],
   "execution_count": 58
  },
  {
   "metadata": {
    "ExecuteTime": {
     "end_time": "2025-06-03T08:53:31.842678Z",
     "start_time": "2025-06-03T08:53:31.838475Z"
    }
   },
   "cell_type": "code",
   "source": [
    "def create_dataset():\n",
    "    x,y,coef=make_regression(\n",
    "        n_samples=100,\n",
    "        n_features=1,\n",
    "        noise=10,\n",
    "        coef=True,\n",
    "        bias=1.5,#随机偏置值\n",
    "        random_state=0)\n",
    "    #将构建数据转换为张量类型\n",
    "    x=torch.tensor(x,dtype=torch.float32)\n",
    "    y=torch.tensor(y,dtype=torch.float32)\n",
    "    return x,y,coef"
   ],
   "id": "cb2a9a2e75c301bb",
   "outputs": [],
   "execution_count": 52
  },
  {
   "metadata": {
    "ExecuteTime": {
     "end_time": "2025-06-03T08:54:48.704175Z",
     "start_time": "2025-06-03T08:54:48.621035Z"
    }
   },
   "cell_type": "code",
   "source": [
    "if __name__ == '__main__':\n",
    "    #生成的数据\n",
    "    x,y,coef=create_dataset()\n",
    "    #绘制数据的真实的线性回归结果\n",
    "    plt.scatter(x,y)\n",
    "    x=torch.linspace(x.min(),x.max(),1000)\n",
    "    y1=torch.tensor([v*coef+1.5 for v in x])\n",
    "    plt.plot(x,y1,label='真实线性回归结果')\n",
    "    plt.legend()\n",
    "    plt.grid()\n",
    "    plt.show()\n"
   ],
   "id": "15de751236a72281",
   "outputs": [
    {
     "data": {
      "text/plain": [
       "<Figure size 640x480 with 1 Axes>"
      ],
      "image/png": "[encoded data removed]"
     },
     "metadata": {},
     "output_type": "display_data"
    }
   ],
   "execution_count": 59
  },
  {
   "metadata": {
    "ExecuteTime": {
     "end_time": "2025-06-03T09:15:14.934015Z",
     "start_time": "2025-06-03T09:15:14.928349Z"
    }
   },
   "cell_type": "code",
   "source": [
    "# 构造数据集\n",
    "x,y,coef=create_dataset()\n",
    "# 构造数据集对象\n",
    "dataset=TensorDataset(x,y)\n",
    "# 构造数据加载器\n",
    "dataloader=DataLoader(dataset,batch_size=10,shuffle=True)\n",
    "# dataset=:数据集对象\n",
    "# batch_size=:批量训练样本数据\n",
    "# shuffle=:样本数据是否进行乱序\n",
    "# 构造模型\n",
    "model=nn.Linear(in_features=1,out_features=1)\n",
    "# in_features指的是输入张量的大小size\n",
    "# out_features指的是输出张量的大小size\n",
    "# 构造平方损失函数\n",
    "criterion=nn.MSELoss()\n",
    "# 构造优化函数\n",
    "optimizer=optim.SGD(model.parameters(),lr=0.01)"
   ],
   "id": "eef47558dcfde0bd",
   "outputs": [],
   "execution_count": 65
  },
  {
   "metadata": {
    "ExecuteTime": {
     "end_time": "2025-06-03T09:15:16.998408Z",
     "start_time": "2025-06-03T09:15:16.896278Z"
    }
   },
   "cell_type": "code",
   "source": [
    "epochs=100#整个数据集重复训练的次数\n",
    "#损失的变化\n",
    "loss_epoch=[]#储存训练中的损失值\n",
    "total_loss=0.0#总的损失值\n",
    "train_sample=0.0#总的训练样本数\n",
    "for _ in range(epochs):\n",
    "    for train_x,train_y in dataloader:\n",
    "        #将一个batch的训练数据送入模型\n",
    "        y_pred=model(train_x.type(torch.float32))\n",
    "        #计算损失\n",
    "        loss=criterion(y_pred,train_y.reshape(-1,1).type(torch.float32))\n",
    "        total_loss+=loss.item()\n",
    "        train_sample+=len(train_y)\n",
    "        #梯度清零\n",
    "        optimizer.zero_grad()\n",
    "        #反向传播\n",
    "        loss.backward()\n",
    "        #更新参数\n",
    "        optimizer.step()\n",
    "        #获取每个batch的损失\n",
    "    print('epoch:{},loss:{:.4f}'.format(_,total_loss/train_sample))\n",
    "    loss_epoch.append(total_loss/train_sample)\n"
   ],
   "id": "9fc753459052c4b3",
   "outputs": [
    {
     "name": "stdout",
     "output_type": "stream",
     "text": [
      "epoch:0,loss:172.7188\n",
      "epoch:1,loss:145.4685\n",
      "epoch:2,loss:124.3654\n",
      "epoch:3,loss:107.7873\n",
      "epoch:4,loss:94.7137\n",
      "epoch:5,loss:84.2486\n",
      "epoch:6,loss:75.7789\n",
      "epoch:7,loss:68.8637\n",
      "epoch:8,loss:63.1469\n",
      "epoch:9,loss:58.3720\n",
      "epoch:10,loss:54.3448\n",
      "epoch:11,loss:50.9153\n",
      "epoch:12,loss:47.9708\n",
      "epoch:13,loss:45.4170\n",
      "epoch:14,loss:43.1892\n",
      "epoch:15,loss:41.2275\n",
      "epoch:16,loss:39.4914\n",
      "epoch:17,loss:37.9435\n",
      "epoch:18,loss:36.5546\n",
      "epoch:19,loss:35.3022\n",
      "epoch:20,loss:34.1678\n",
      "epoch:21,loss:33.1361\n",
      "epoch:22,loss:32.1936\n",
      "epoch:23,loss:31.3305\n",
      "epoch:24,loss:30.5351\n",
      "epoch:25,loss:29.8013\n",
      "epoch:26,loss:29.1225\n",
      "epoch:27,loss:28.4916\n",
      "epoch:28,loss:27.9044\n",
      "epoch:29,loss:27.3557\n",
      "epoch:30,loss:26.8431\n",
      "epoch:31,loss:26.3619\n",
      "epoch:32,loss:25.9101\n",
      "epoch:33,loss:25.4847\n",
      "epoch:34,loss:25.0837\n",
      "epoch:35,loss:24.7045\n",
      "epoch:36,loss:24.3465\n",
      "epoch:37,loss:24.0073\n",
      "epoch:38,loss:23.6855\n",
      "epoch:39,loss:23.3799\n",
      "epoch:40,loss:23.0887\n",
      "epoch:41,loss:22.8116\n",
      "epoch:42,loss:22.5478\n",
      "epoch:43,loss:22.2959\n",
      "epoch:44,loss:22.0551\n",
      "epoch:45,loss:21.8243\n",
      "epoch:46,loss:21.6043\n",
      "epoch:47,loss:21.3926\n",
      "epoch:48,loss:21.1899\n",
      "epoch:49,loss:20.9950\n",
      "epoch:50,loss:20.8079\n",
      "epoch:51,loss:20.6278\n",
      "epoch:52,loss:20.4544\n",
      "epoch:53,loss:20.2879\n",
      "epoch:54,loss:20.1271\n",
      "epoch:55,loss:19.9722\n",
      "epoch:56,loss:19.8229\n",
      "epoch:57,loss:19.6784\n",
      "epoch:58,loss:19.5390\n",
      "epoch:59,loss:19.4039\n",
      "epoch:60,loss:19.2735\n",
      "epoch:61,loss:19.1473\n",
      "epoch:62,loss:19.0253\n",
      "epoch:63,loss:18.9070\n",
      "epoch:64,loss:18.7924\n",
      "epoch:65,loss:18.6813\n",
      "epoch:66,loss:18.5736\n",
      "epoch:67,loss:18.4691\n",
      "epoch:68,loss:18.3673\n",
      "epoch:69,loss:18.2688\n",
      "epoch:70,loss:18.1728\n",
      "epoch:71,loss:18.0794\n",
      "epoch:72,loss:17.9887\n",
      "epoch:73,loss:17.9004\n",
      "epoch:74,loss:17.8144\n",
      "epoch:75,loss:17.7307\n",
      "epoch:76,loss:17.6492\n",
      "epoch:77,loss:17.5697\n",
      "epoch:78,loss:17.4924\n",
      "epoch:79,loss:17.4170\n",
      "epoch:80,loss:17.3435\n",
      "epoch:81,loss:17.2717\n",
      "epoch:82,loss:17.2015\n",
      "epoch:83,loss:17.1334\n",
      "epoch:84,loss:17.0667\n",
      "epoch:85,loss:17.0013\n",
      "epoch:86,loss:16.9377\n",
      "epoch:87,loss:16.8754\n",
      "epoch:88,loss:16.8146\n",
      "epoch:89,loss:16.7552\n",
      "epoch:90,loss:16.6971\n",
      "epoch:91,loss:16.6401\n",
      "epoch:92,loss:16.5843\n",
      "epoch:93,loss:16.5295\n",
      "epoch:94,loss:16.4760\n",
      "epoch:95,loss:16.4239\n",
      "epoch:96,loss:16.3726\n",
      "epoch:97,loss:16.3223\n",
      "epoch:98,loss:16.2732\n",
      "epoch:99,loss:16.2249\n"
     ]
    }
   ],
   "execution_count": 66
  }
 ],
 "metadata": {
  "kernelspec": {
   "display_name": "Python 3",
   "language": "python",
   "name": "python3"
  },
  "language_info": {
   "codemirror_mode": {
    "name": "ipython",
    "version": 2
   },
   "file_extension": ".py",
   "mimetype": "text/x-python",
   "name": "python",
   "nbconvert_exporter": "python",
   "pygments_lexer": "ipython2",
   "version": "2.7.6"
  }
 },
 "nbformat": 4,
 "nbformat_minor": 5
}
