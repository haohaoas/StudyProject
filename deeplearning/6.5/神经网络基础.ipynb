{
 "cells": [
  {
   "cell_type": "code",
   "id": "initial_id",
   "metadata": {
    "collapsed": true,
    "ExecuteTime": {
     "end_time": "2025-06-09T11:08:37.930613Z",
     "start_time": "2025-06-09T11:08:37.922144Z"
    }
   },
   "source": [
    "import torch\n",
    "import matplotlib.pyplot as plt\n",
    "import torch.nn as nn\n",
    "from numpy.random import standard_t\n",
    "from sklearn.preprocessing import StandardScaler\n",
    "from torchinfo import summary\n"
   ],
   "outputs": [],
   "execution_count": 7
  },
  {
   "metadata": {
    "ExecuteTime": {
     "end_time": "2025-06-05T02:49:05.653569Z",
     "start_time": "2025-06-05T02:49:05.643621Z"
    }
   },
   "cell_type": "code",
   "source": [
    "linear=nn.Linear(5,3)\n",
    "nn.init.uniform_(linear.weight)\n",
    "print(linear.weight.data)"
   ],
   "id": "d49b944a2842b2f6",
   "outputs": [
    {
     "name": "stdout",
     "output_type": "stream",
     "text": [
      "tensor([[0.6303, 0.4463, 0.2627, 0.0409, 0.2022],\n",
      "        [0.9133, 0.7225, 0.1711, 0.0032, 0.8158],\n",
      "        [0.3323, 0.8213, 0.1706, 0.8245, 0.3978]])\n"
     ]
    }
   ],
   "execution_count": 16
  },
  {
   "metadata": {
    "ExecuteTime": {
     "end_time": "2025-06-05T02:49:47.324991Z",
     "start_time": "2025-06-05T02:49:47.319765Z"
    }
   },
   "cell_type": "code",
   "source": [
    "linear=nn.Linear(5,3)\n",
    "nn.init.constant_(linear.weight,5)\n",
    "print(linear.weight.data)"
   ],
   "id": "2093524a111fc1a3",
   "outputs": [
    {
     "name": "stdout",
     "output_type": "stream",
     "text": [
      "tensor([[5., 5., 5., 5., 5.],\n",
      "        [5., 5., 5., 5., 5.],\n",
      "        [5., 5., 5., 5., 5.]])\n"
     ]
    }
   ],
   "execution_count": 17
  },
  {
   "metadata": {
    "ExecuteTime": {
     "end_time": "2025-06-05T02:50:43.054502Z",
     "start_time": "2025-06-05T02:50:43.050143Z"
    }
   },
   "cell_type": "code",
   "source": [
    "linear=nn.Linear(5,3)\n",
    "nn.init.zeros_(linear.weight)\n",
    "print(linear.weight.data)"
   ],
   "id": "b0818250b95175a9",
   "outputs": [
    {
     "name": "stdout",
     "output_type": "stream",
     "text": [
      "tensor([[0., 0., 0., 0., 0.],\n",
      "        [0., 0., 0., 0., 0.],\n",
      "        [0., 0., 0., 0., 0.]])\n"
     ]
    }
   ],
   "execution_count": 18
  },
  {
   "metadata": {
    "ExecuteTime": {
     "end_time": "2025-06-05T02:51:04.629493Z",
     "start_time": "2025-06-05T02:51:04.623978Z"
    }
   },
   "cell_type": "code",
   "source": [
    "linear=nn.Linear(5,3)\n",
    "nn.init.ones_(linear.weight)\n",
    "print(linear.weight.data)"
   ],
   "id": "3d1787c66d1c3d79",
   "outputs": [
    {
     "name": "stdout",
     "output_type": "stream",
     "text": [
      "tensor([[1., 1., 1., 1., 1.],\n",
      "        [1., 1., 1., 1., 1.],\n",
      "        [1., 1., 1., 1., 1.]])\n"
     ]
    }
   ],
   "execution_count": 19
  },
  {
   "metadata": {
    "ExecuteTime": {
     "end_time": "2025-06-05T02:51:45.529453Z",
     "start_time": "2025-06-05T02:51:45.523566Z"
    }
   },
   "cell_type": "code",
   "source": [
    "linear=nn.Linear(5,3)\n",
    "nn.init.normal_(linear.weight,mean=0,std=1)\n",
    "print(linear.weight.data)"
   ],
   "id": "a0e058c9d5025f04",
   "outputs": [
    {
     "name": "stdout",
     "output_type": "stream",
     "text": [
      "tensor([[-0.1196,  0.5444,  1.2949, -0.2346, -0.8818],\n",
      "        [ 0.4551,  1.2848,  0.1806,  0.4005, -0.8524],\n",
      "        [ 0.0649, -0.1144, -1.1852, -1.3571, -1.3947]])\n"
     ]
    }
   ],
   "execution_count": 20
  },
  {
   "metadata": {
    "ExecuteTime": {
     "end_time": "2025-06-08T11:51:19.740836Z",
     "start_time": "2025-06-08T11:51:19.727770Z"
    }
   },
   "cell_type": "code",
   "source": [
    "class Model(nn.Module):\n",
    "    def __init__(self):\n",
    "        super(Model,self).__init__()\n",
    "        self.hidden1=nn.Linear(3,3)\n",
    "        nn.init.xavier_normal_(self.hidden1.weight)\n",
    "        self.hidden2=nn.Linear(3,2)\n",
    "        nn.init.kaiming_normal_(self.hidden2.weight)\n",
    "        self.output=nn.Linear(2,2)\n",
    "\n",
    "    # ✅ forward 必须与 init 同级缩进！\n",
    "    def forward(self,x):\n",
    "        x=self.hidden1(x)\n",
    "        x=torch.sigmoid(x)\n",
    "        x=self.hidden2(x)\n",
    "        x=torch.relu(x)\n",
    "        x=self.output(x)\n",
    "        x=torch.softmax(x,dim=-1)\n",
    "        return x"
   ],
   "id": "45c084ee2c93d64d",
   "outputs": [],
   "execution_count": 25
  },
  {
   "metadata": {
    "ExecuteTime": {
     "end_time": "2025-06-08T11:51:26.564574Z",
     "start_time": "2025-06-08T11:51:26.156861Z"
    }
   },
   "cell_type": "code",
   "source": [
    "# 实例化model对象\n",
    "if __name__=='__main__':\n",
    "    device = torch.device(\"mps\" if torch.backends.mps.is_available() else \"cpu\")\n",
    "    model=Model().to(device)\n",
    "# 随机产生数据\n",
    "    my_data=torch.randn(5,3).to(device)\n",
    "    print(my_data.shape)\n",
    "# 数据经过神经网络模型训练\n",
    "    output=model(my_data)\n",
    "    print(output.shape)\n",
    "# 计算模型参数\n",
    "    summary(model,input_size=(3,),device=device)\n",
    "# 计算每层每个神经元的w和b个数总和\n",
    "    print(\"======查看模型参数w和b======\")\n",
    "    for name, parameter in model.named_parameters():\n",
    "     print(name, parameter)\n",
    "# 查看模型参数"
   ],
   "id": "8b0e760d7ec9b26e",
   "outputs": [
    {
     "name": "stdout",
     "output_type": "stream",
     "text": [
      "torch.Size([5, 3])\n",
      "torch.Size([5, 2])\n",
      "======查看模型参数w和b======\n",
      "hidden1.weight Parameter containing:\n",
      "tensor([[ 0.1105, -0.1715, -0.0543],\n",
      "        [-0.0180,  1.6179, -0.4338],\n",
      "        [-0.3672, -0.2303, -0.3315]], device='mps:0', requires_grad=True)\n",
      "hidden1.bias Parameter containing:\n",
      "tensor([-0.3063,  0.0671, -0.3668], device='mps:0', requires_grad=True)\n",
      "hidden2.weight Parameter containing:\n",
      "tensor([[-0.5045,  0.5238, -1.1293],\n",
      "        [-0.1864, -1.1667,  0.1769]], device='mps:0', requires_grad=True)\n",
      "hidden2.bias Parameter containing:\n",
      "tensor([-0.5233, -0.0211], device='mps:0', requires_grad=True)\n",
      "output.weight Parameter containing:\n",
      "tensor([[-0.5119,  0.1797],\n",
      "        [-0.2698, -0.3115]], device='mps:0', requires_grad=True)\n",
      "output.bias Parameter containing:\n",
      "tensor([0.1812, 0.1655], device='mps:0', requires_grad=True)\n"
     ]
    }
   ],
   "execution_count": 26
  },
  {
   "metadata": {
    "ExecuteTime": {
     "end_time": "2025-06-08T11:51:29.802080Z",
     "start_time": "2025-06-08T11:51:29.799364Z"
    }
   },
   "cell_type": "code",
   "source": "",
   "id": "876cc52b413d2dca",
   "outputs": [],
   "execution_count": null
  },
  {
   "metadata": {},
   "cell_type": "code",
   "outputs": [],
   "execution_count": null,
   "source": "#价格分类案例",
   "id": "c8f363dd5acac932"
  },
  {
   "metadata": {
    "ExecuteTime": {
     "end_time": "2025-06-09T11:08:27.131429Z",
     "start_time": "2025-06-09T11:08:24.626038Z"
    }
   },
   "cell_type": "code",
   "source": [
    "from torch.utils.data import TensorDataset,DataLoader\n",
    "import torch.nn as nn\n",
    "import torch.optim as optim\n",
    "from sklearn.datasets import make_regression\n",
    "from sklearn.model_selection import train_test_split\n",
    "import matplotlib.pyplot as plt\n",
    "import numpy as np\n",
    "import pandas as pd\n",
    "import time"
   ],
   "id": "aa2b18ea886586c6",
   "outputs": [],
   "execution_count": 5
  },
  {
   "metadata": {
    "ExecuteTime": {
     "end_time": "2025-06-09T11:08:17.155340Z",
     "start_time": "2025-06-09T11:08:17.148729Z"
    }
   },
   "cell_type": "code",
   "source": [
    "def create_dataset():\n",
    "    #  创建数据集\n",
    "    data=pd.read_csv('手机价格预测.csv')\n",
    "    #特征值和标签\n",
    "    x,y=data.iloc[:,:-1],data.iloc[:,-1]\n",
    "    #类型转换，特征值，目标值\n",
    "    x=x.astype(np.float32)\n",
    "\n",
    "    y=y.astype(np.int64)\n",
    "    # 数据集划分\n",
    "    X_train,X_test,y_train,y_test=train_test_split(x,y,test_size=0.2,random_state=42)\n",
    "    # 构建数据集,转换为pytorch的形式\n",
    "    train_dataset=TensorDataset(torch.from_numpy(X_train.values),torch.tensor(y_train.values))\n",
    "    test_dataset=TensorDataset(torch.from_numpy(X_test.values),torch.tensor(y_test.values))\n",
    "    # 返回结果\n",
    "    return train_dataset,test_dataset,X_train.shape[1], len(np.unique(y))"
   ],
   "id": "3ec12524b47e6dab",
   "outputs": [],
   "execution_count": 3
  },
  {
   "metadata": {},
   "cell_type": "code",
   "outputs": [],
   "execution_count": null,
   "source": "#获取数据的结果",
   "id": "64d142bb05fa2fd4"
  },
  {
   "metadata": {
    "ExecuteTime": {
     "end_time": "2025-06-09T11:08:43.294640Z",
     "start_time": "2025-06-09T11:08:43.282155Z"
    }
   },
   "cell_type": "code",
   "source": [
    "if __name__ == '__main__':\n",
    "    train_dataset,test_dataset,input_dim,class_num=create_dataset()\n",
    "    print(input_dim)\n",
    "    print(class_num)"
   ],
   "id": "a339f4ffcea031e5",
   "outputs": [
    {
     "name": "stdout",
     "output_type": "stream",
     "text": [
      "20\n",
      "4\n"
     ]
    }
   ],
   "execution_count": 8
  },
  {
   "metadata": {
    "ExecuteTime": {
     "end_time": "2025-06-09T11:08:51.583374Z",
     "start_time": "2025-06-09T11:08:51.575037Z"
    }
   },
   "cell_type": "code",
   "source": [
    "class PhonePriceModel(nn.Module):\n",
    "    def __init__(self, input_dim, class_num):\n",
    "        super(PhonePriceModel, self).__init__()\n",
    "        self.Linear1 = nn.Linear(input_dim, 128)\n",
    "        self.bn1 = nn.BatchNorm1d(128)\n",
    "        self.Linear2 = nn.Linear(128, 256)\n",
    "        self.bn2 = nn.BatchNorm1d(256)\n",
    "        self.Linear3 = nn.Linear(256, class_num)\n",
    "        nn.init.kaiming_normal_(self.Linear1.weight, nonlinearity='relu')\n",
    "        nn.init.kaiming_normal_(self.Linear2.weight, nonlinearity='relu')\n",
    "        nn.init.xavier_normal_(self.Linear3.weight)\n",
    "    def forward(self, x):\n",
    "        x = torch.selu_(self.bn1(self.Linear1(x)))\n",
    "        x = torch.selu_(self.bn2(self.Linear2(x)))\n",
    "        output = self.Linear3(x)\n",
    "        return output\n"
   ],
   "id": "29b718b369b0daef",
   "outputs": [],
   "execution_count": 10
  },
  {
   "metadata": {
    "ExecuteTime": {
     "end_time": "2025-06-09T11:08:53.446043Z",
     "start_time": "2025-06-09T11:08:53.432187Z"
    }
   },
   "cell_type": "code",
   "source": [
    "#模型实例化\n",
    "if __name__ == '__main__':\n",
    "    model=PhonePriceModel(input_dim,class_num)\n",
    "    summary(model, input_size=(16, input_dim))"
   ],
   "id": "280772d244ee7a20",
   "outputs": [],
   "execution_count": 11
  },
  {
   "metadata": {
    "ExecuteTime": {
     "end_time": "2025-06-09T11:08:55.876597Z",
     "start_time": "2025-06-09T11:08:55.866915Z"
    }
   },
   "cell_type": "code",
   "source": [
    "def train(train_dataset, input_dim, class_num):\n",
    "    device = torch.device(\"mps\" if torch.backends.mps.is_available() else \"cpu\")\n",
    "    model = PhonePriceModel(input_dim, class_num).to(device)\n",
    "    criterion = nn.CrossEntropyLoss()\n",
    "    optimizer = optim.AdamW(model.parameters(), lr=0.001, weight_decay=1e-4)\n",
    "\n",
    "    # 使用 ReduceLROnPlateau 调度器（监控验证集 loss）\n",
    "    scheduler = optim.lr_scheduler.ReduceLROnPlateau(optimizer, mode='min', factor=0.5, patience=5)\n",
    "    correct = 0\n",
    "    epochs = 80\n",
    "    for epoch in range(epochs):\n",
    "        model.train()\n",
    "        train_loader = DataLoader(train_dataset, batch_size=16, shuffle=True)\n",
    "        total_loss = 0\n",
    "\n",
    "        for x, y in train_loader:\n",
    "            x,y= x.to(device), y.to(device)\n",
    "            output = model(x)\n",
    "            loss = criterion(output, y)\n",
    "            optimizer.zero_grad()\n",
    "            loss.backward()\n",
    "            optimizer.step()\n",
    "            total_loss += loss.item()\n",
    "\n",
    "        avg_train_loss = total_loss / len(train_loader)\n",
    "\n",
    "        # 验证集评估\n",
    "        model.eval()\n",
    "        val_loader = DataLoader(test_dataset, batch_size=16, shuffle=False)\n",
    "        val_loss = 0\n",
    "        correct = 0\n",
    "        total = 0\n",
    "\n",
    "        with torch.no_grad():\n",
    "            for x_val, y_val in val_loader:\n",
    "                x_val, y_val = x_val.to(device), y_val.to(device)\n",
    "                val_output = model(x_val)\n",
    "                loss = criterion(val_output, y_val)\n",
    "                val_loss += loss.item()\n",
    "\n",
    "                # ✅ 验证精度统计\n",
    "                y_pred = torch.argmax(val_output, dim=1)\n",
    "                correct += (y_pred == y_val).sum().item()\n",
    "                total += y_val.size(0)\n",
    "\n",
    "        avg_val_loss = val_loss / len(val_loader)\n",
    "\n",
    "\n",
    "        # 使用验证集 loss 调整学习率\n",
    "        scheduler.step(avg_val_loss)\n",
    "        current_lr = optimizer.param_groups[0]['lr']\n",
    "        print(\n",
    "            f\"第{epoch + 1}轮 | 训练损失: {avg_train_loss:.4f} | 验证损失: {avg_val_loss:.4f}  | 当前学习率: {current_lr:.6f}\")\n",
    "    val_accuracy = correct / total\n",
    "    print(f\"验证精度: {val_accuracy:.4f}\")\n",
    "    # 保存模型\n",
    "    torch.save(model.state_dict(), '手机价格预测.pth')"
   ],
   "id": "9adf1c0200145193",
   "outputs": [],
   "execution_count": 12
  },
  {
   "metadata": {
    "ExecuteTime": {
     "end_time": "2025-06-09T11:09:46.132343Z",
     "start_time": "2025-06-09T11:09:01.359995Z"
    }
   },
   "cell_type": "code",
   "source": [
    "#模型训练\n",
    "if __name__ == '__main__':\n",
    "    train_dataset,test_dataset,input_dim,class_num=create_dataset()\n",
    "    train(train_dataset, input_dim, class_num)"
   ],
   "id": "6e83c489cbcd1378",
   "outputs": [
    {
     "name": "stdout",
     "output_type": "stream",
     "text": [
      "第1轮 | 训练损失: 0.8231 | 验证损失: 0.5123  | 当前学习率: 0.001000\n",
      "第2轮 | 训练损失: 0.5897 | 验证损失: 0.3453  | 当前学习率: 0.001000\n",
      "第3轮 | 训练损失: 0.4770 | 验证损失: 0.2719  | 当前学习率: 0.001000\n",
      "第4轮 | 训练损失: 0.4849 | 验证损失: 0.2536  | 当前学习率: 0.001000\n",
      "第5轮 | 训练损失: 0.4596 | 验证损失: 0.2452  | 当前学习率: 0.001000\n",
      "第6轮 | 训练损失: 0.5326 | 验证损失: 0.3227  | 当前学习率: 0.001000\n",
      "第7轮 | 训练损失: 0.4700 | 验证损失: 0.2492  | 当前学习率: 0.001000\n",
      "第8轮 | 训练损失: 0.4934 | 验证损失: 0.2557  | 当前学习率: 0.001000\n",
      "第9轮 | 训练损失: 0.4742 | 验证损失: 0.2310  | 当前学习率: 0.001000\n",
      "第10轮 | 训练损失: 0.4563 | 验证损失: 0.2922  | 当前学习率: 0.001000\n",
      "第11轮 | 训练损失: 0.4755 | 验证损失: 0.3378  | 当前学习率: 0.001000\n",
      "第12轮 | 训练损失: 0.4566 | 验证损失: 0.2430  | 当前学习率: 0.001000\n",
      "第13轮 | 训练损失: 0.4197 | 验证损失: 0.2727  | 当前学习率: 0.001000\n",
      "第14轮 | 训练损失: 0.4669 | 验证损失: 0.2058  | 当前学习率: 0.001000\n",
      "第15轮 | 训练损失: 0.5236 | 验证损失: 0.2889  | 当前学习率: 0.001000\n",
      "第16轮 | 训练损失: 0.3911 | 验证损失: 0.2392  | 当前学习率: 0.001000\n",
      "第17轮 | 训练损失: 0.4616 | 验证损失: 0.2218  | 当前学习率: 0.001000\n",
      "第18轮 | 训练损失: 0.5270 | 验证损失: 0.2558  | 当前学习率: 0.001000\n",
      "第19轮 | 训练损失: 0.5335 | 验证损失: 0.2402  | 当前学习率: 0.001000\n",
      "第20轮 | 训练损失: 0.4399 | 验证损失: 0.2594  | 当前学习率: 0.000500\n",
      "第21轮 | 训练损失: 0.4231 | 验证损失: 0.2306  | 当前学习率: 0.000500\n",
      "第22轮 | 训练损失: 0.3989 | 验证损失: 0.2279  | 当前学习率: 0.000500\n",
      "第23轮 | 训练损失: 0.3595 | 验证损失: 0.1984  | 当前学习率: 0.000500\n",
      "第24轮 | 训练损失: 0.4010 | 验证损失: 0.2104  | 当前学习率: 0.000500\n",
      "第25轮 | 训练损失: 0.3981 | 验证损失: 0.2165  | 当前学习率: 0.000500\n",
      "第26轮 | 训练损失: 0.4367 | 验证损失: 0.2308  | 当前学习率: 0.000500\n",
      "第27轮 | 训练损失: 0.4164 | 验证损失: 0.2146  | 当前学习率: 0.000500\n",
      "第28轮 | 训练损失: 0.3711 | 验证损失: 0.2489  | 当前学习率: 0.000500\n",
      "第29轮 | 训练损失: 0.4087 | 验证损失: 0.2339  | 当前学习率: 0.000250\n",
      "第30轮 | 训练损失: 0.3741 | 验证损失: 0.2075  | 当前学习率: 0.000250\n",
      "第31轮 | 训练损失: 0.4326 | 验证损失: 0.2376  | 当前学习率: 0.000250\n",
      "第32轮 | 训练损失: 0.3407 | 验证损失: 0.2343  | 当前学习率: 0.000250\n",
      "第33轮 | 训练损失: 0.3967 | 验证损失: 0.2042  | 当前学习率: 0.000250\n",
      "第34轮 | 训练损失: 0.4364 | 验证损失: 0.2277  | 当前学习率: 0.000250\n",
      "第35轮 | 训练损失: 0.4010 | 验证损失: 0.2614  | 当前学习率: 0.000125\n",
      "第36轮 | 训练损失: 0.4243 | 验证损失: 0.2098  | 当前学习率: 0.000125\n",
      "第37轮 | 训练损失: 0.3917 | 验证损失: 0.2120  | 当前学习率: 0.000125\n",
      "第38轮 | 训练损失: 0.4278 | 验证损失: 0.2101  | 当前学习率: 0.000125\n",
      "第39轮 | 训练损失: 0.3963 | 验证损失: 0.2478  | 当前学习率: 0.000125\n",
      "第40轮 | 训练损失: 0.3917 | 验证损失: 0.2163  | 当前学习率: 0.000125\n",
      "第41轮 | 训练损失: 0.3580 | 验证损失: 0.2290  | 当前学习率: 0.000063\n",
      "第42轮 | 训练损失: 0.3932 | 验证损失: 0.2438  | 当前学习率: 0.000063\n",
      "第43轮 | 训练损失: 0.3868 | 验证损失: 0.2042  | 当前学习率: 0.000063\n",
      "第44轮 | 训练损失: 0.3838 | 验证损失: 0.2376  | 当前学习率: 0.000063\n",
      "第45轮 | 训练损失: 0.3628 | 验证损失: 0.2176  | 当前学习率: 0.000063\n",
      "第46轮 | 训练损失: 0.3598 | 验证损失: 0.2123  | 当前学习率: 0.000063\n",
      "第47轮 | 训练损失: 0.3746 | 验证损失: 0.2126  | 当前学习率: 0.000031\n",
      "第48轮 | 训练损失: 0.3922 | 验证损失: 0.2227  | 当前学习率: 0.000031\n",
      "第49轮 | 训练损失: 0.3753 | 验证损失: 0.2236  | 当前学习率: 0.000031\n",
      "第50轮 | 训练损失: 0.3898 | 验证损失: 0.2049  | 当前学习率: 0.000031\n",
      "第51轮 | 训练损失: 0.3927 | 验证损失: 0.2367  | 当前学习率: 0.000031\n",
      "第52轮 | 训练损失: 0.4607 | 验证损失: 0.2720  | 当前学习率: 0.000031\n",
      "第53轮 | 训练损失: 0.4109 | 验证损失: 0.2203  | 当前学习率: 0.000016\n",
      "第54轮 | 训练损失: 0.3442 | 验证损失: 0.2175  | 当前学习率: 0.000016\n",
      "第55轮 | 训练损失: 0.4014 | 验证损失: 0.2233  | 当前学习率: 0.000016\n",
      "第56轮 | 训练损失: 0.4223 | 验证损失: 0.2223  | 当前学习率: 0.000016\n",
      "第57轮 | 训练损失: 0.3643 | 验证损失: 0.2135  | 当前学习率: 0.000016\n",
      "第58轮 | 训练损失: 0.3806 | 验证损失: 0.2171  | 当前学习率: 0.000016\n",
      "第59轮 | 训练损失: 0.3440 | 验证损失: 0.2321  | 当前学习率: 0.000008\n",
      "第60轮 | 训练损失: 0.4000 | 验证损失: 0.2190  | 当前学习率: 0.000008\n",
      "第61轮 | 训练损失: 0.3404 | 验证损失: 0.2304  | 当前学习率: 0.000008\n",
      "第62轮 | 训练损失: 0.4010 | 验证损失: 0.2122  | 当前学习率: 0.000008\n",
      "第63轮 | 训练损失: 0.3789 | 验证损失: 0.2418  | 当前学习率: 0.000008\n",
      "第64轮 | 训练损失: 0.4198 | 验证损失: 0.2190  | 当前学习率: 0.000008\n",
      "第65轮 | 训练损失: 0.3587 | 验证损失: 0.2103  | 当前学习率: 0.000004\n",
      "第66轮 | 训练损失: 0.4487 | 验证损失: 0.2056  | 当前学习率: 0.000004\n",
      "第67轮 | 训练损失: 0.3880 | 验证损失: 0.2083  | 当前学习率: 0.000004\n",
      "第68轮 | 训练损失: 0.4968 | 验证损失: 0.1981  | 当前学习率: 0.000004\n",
      "第69轮 | 训练损失: 0.3664 | 验证损失: 0.2237  | 当前学习率: 0.000004\n",
      "第70轮 | 训练损失: 0.3528 | 验证损失: 0.2190  | 当前学习率: 0.000004\n",
      "第71轮 | 训练损失: 0.3786 | 验证损失: 0.2212  | 当前学习率: 0.000004\n",
      "第72轮 | 训练损失: 0.4017 | 验证损失: 0.2087  | 当前学习率: 0.000004\n",
      "第73轮 | 训练损失: 0.4220 | 验证损失: 0.2255  | 当前学习率: 0.000004\n",
      "第74轮 | 训练损失: 0.4068 | 验证损失: 0.2245  | 当前学习率: 0.000002\n",
      "第75轮 | 训练损失: 0.3904 | 验证损失: 0.2240  | 当前学习率: 0.000002\n",
      "第76轮 | 训练损失: 0.3991 | 验证损失: 0.2430  | 当前学习率: 0.000002\n",
      "第77轮 | 训练损失: 0.3635 | 验证损失: 0.2151  | 当前学习率: 0.000002\n",
      "第78轮 | 训练损失: 0.3676 | 验证损失: 0.2113  | 当前学习率: 0.000002\n",
      "第79轮 | 训练损失: 0.3914 | 验证损失: 0.2087  | 当前学习率: 0.000002\n",
      "第80轮 | 训练损失: 0.4382 | 验证损失: 0.2176  | 当前学习率: 0.000001\n",
      "验证精度: 0.9350\n"
     ]
    }
   ],
   "execution_count": 13
  },
  {
   "metadata": {
    "ExecuteTime": {
     "end_time": "2025-06-09T00:28:28.900411Z",
     "start_time": "2025-06-09T00:28:28.777709Z"
    }
   },
   "cell_type": "code",
   "source": [
    "#使用训练好的模型，对未知的样本的进行预测的过程。我们这里使用前面单独划分出来的验证集来进行评估\n",
    "def test(test_dataset, input_dim, class_num):\n",
    "    import os\n",
    "    # 加载模型和训练好的网络参数\n",
    "    model=PhonePriceModel(input_dim, class_num)\n",
    "    model.load_state_dict(torch.load('手机价格预测.pth'))\n",
    "    # 构建加载器\n",
    "    dataLoader=DataLoader(test_dataset, batch_size=16, shuffle=False)\n",
    "    # 评估测试集\n",
    "    correct=0\n",
    "    # 遍历测试集中的数据\n",
    "    for x,y in dataLoader:\n",
    "    # 将其送入网络中\n",
    "        output=model(x)\n",
    "    # 获取类别结果\n",
    "        y_pred=torch.argmax(output,dim=1)\n",
    "    # 获取预测正确的个数\n",
    "        correct+=(y_pred==y).sum().item()\n",
    "    # 求预测精度\n",
    "    print(f'预测精度为{correct/len(test_dataset):.4f}')\n",
    "    # 获取数据\n",
    "if __name__ == '__main__':\n",
    "    _, test_dataset, input_dim, class_num = create_dataset()\n",
    "    test(test_dataset, input_dim, class_num)"
   ],
   "id": "9291bfe9ff0694db",
   "outputs": [
    {
     "name": "stdout",
     "output_type": "stream",
     "text": [
      "预测精度为0.8025\n"
     ]
    }
   ],
   "execution_count": 231
  }
 ],
 "metadata": {
  "kernelspec": {
   "display_name": "Python 3",
   "language": "python",
   "name": "python3"
  },
  "language_info": {
   "codemirror_mode": {
    "name": "ipython",
    "version": 2
   },
   "file_extension": ".py",
   "mimetype": "text/x-python",
   "name": "python",
   "nbconvert_exporter": "python",
   "pygments_lexer": "ipython2",
   "version": "2.7.6"
  }
 },
 "nbformat": 4,
 "nbformat_minor": 5
}
