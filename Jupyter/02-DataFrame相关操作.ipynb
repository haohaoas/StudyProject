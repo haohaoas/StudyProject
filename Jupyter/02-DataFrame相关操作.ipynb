{
 "cells": [
  {
   "cell_type": "code",
   "execution_count": null,
   "id": "initial_id",
   "metadata": {
    "collapsed": true
   },
   "outputs": [],
   "source": [
    "# 导包\n",
    "import numpy as np\n",
    "import pandas as pd"
   ]
  },
  {
   "cell_type": "markdown",
   "source": [
    "# 1. DataFrame的常用属性"
   ],
   "metadata": {
    "collapsed": false
   },
   "id": "35bac00ec589d39e"
  },
  {
   "cell_type": "code",
   "execution_count": null,
   "outputs": [],
   "source": [
    "# 1. 加载数据源, 获取 df 对象.\n",
    "df = pd.read_csv('../data/scientists.csv')\n",
    "df"
   ],
   "metadata": {
    "collapsed": false
   },
   "id": "591b965115a93aa8"
  },
  {
   "cell_type": "code",
   "execution_count": null,
   "outputs": [],
   "source": [
    "# 2. 演示df对象的常用属性.\n",
    "print(df.ndim)  # 轴(几位数组, 轴就是几),  2\n",
    "print(df.shape)  # 维度(几行几列), (8, 5)\n",
    "print(df.size)  # 40, 行数 * 列表, 包括 NaN值. \n",
    "print(df.index)  # 获取df对象的 索引列(的值), RangeIndex(start=0, stop=8, step=1)\n",
    "print(df.columns)  # 获取df对象的 列名, Index(['Name', 'Born', 'Died', 'Age', 'Occupation'], dtype='object')\n",
    "print(df.values)  # 获取df对象的 列值."
   ],
   "metadata": {
    "collapsed": false
   },
   "id": "c43439f5cbcc11a6"
  },
  {
   "cell_type": "markdown",
   "source": [
    "# 2.DataFrame对象的常用函数"
   ],
   "metadata": {
    "collapsed": false
   },
   "id": "4dad7101ac57fdfa"
  },
  {
   "cell_type": "code",
   "execution_count": null,
   "outputs": [],
   "source": [
    "# 8, 行数:len(x)\n",
    "\n",
    "# 默认获取前5行: .head()\n",
    "# 获取前3行: .head(n=x)\n",
    "# 默认获取后5行: .tail()\n",
    "# 获取后2行: .tail(n=x)\n",
    "# 获取所有的列名: .keys()\n",
    "# 查看df对象各列的基本信息:.info()\n",
    "# 各列的平均值: .mean()\n",
    "# 各列的最大值: .max()\n",
    "# 统计各列的 非空值:.count()\n",
    "# 查看df对象的统计信息, 只能看到 数值类型的统计信息: .describe()\n",
    "# 查看df对象的统计信息, 除了整型, 浮点型外所有的统计信息. \n",
    "# df.describe(exclude=['int', 'float']) \n",
    "# 查看df对象的统计信息, 所有类型都看. \n",
    "df.describe(include='all')  "
   ],
   "metadata": {
    "collapsed": false
   },
   "id": "8c9db7c3248adb17"
  },
  {
   "cell_type": "markdown",
   "source": [
    "# 3. DataFrame对象的布尔索引操作"
   ],
   "metadata": {
    "collapsed": false
   },
   "id": "1bb414f572d3708a"
  },
  {
   "cell_type": "code",
   "execution_count": 3,
   "outputs": [
    {
     "data": {
      "text/plain": "      color      director_name  num_critic_for_reviews  duration  \\\n0     Color      James Cameron                   723.0     178.0   \n1     Color     Gore Verbinski                   302.0     169.0   \n2     Color         Sam Mendes                   602.0     148.0   \n3     Color  Christopher Nolan                   813.0     164.0   \n4       NaN        Doug Walker                     NaN       NaN   \n...     ...                ...                     ...       ...   \n4911  Color        Scott Smith                     1.0      87.0   \n4912  Color                NaN                    43.0      43.0   \n4913  Color   Benjamin Roberds                    13.0      76.0   \n4914  Color        Daniel Hsia                    14.0     100.0   \n4915  Color           Jon Gunn                    43.0      90.0   \n\n      director_facebook_likes  actor_3_facebook_likes      actor_2_name  \\\n0                         0.0                   855.0  Joel David Moore   \n1                       563.0                  1000.0     Orlando Bloom   \n2                         0.0                   161.0      Rory Kinnear   \n3                     22000.0                 23000.0    Christian Bale   \n4                       131.0                     NaN        Rob Walker   \n...                       ...                     ...               ...   \n4911                      2.0                   318.0     Daphne Zuniga   \n4912                      NaN                   319.0     Valorie Curry   \n4913                      0.0                     0.0     Maxwell Moody   \n4914                      0.0                   489.0     Daniel Henney   \n4915                     16.0                    16.0  Brian Herzlinger   \n\n      actor_1_facebook_likes        gross                           genres  \\\n0                     1000.0  760505847.0  Action|Adventure|Fantasy|Sci-Fi   \n1                    40000.0  309404152.0         Action|Adventure|Fantasy   \n2                    11000.0  200074175.0        Action|Adventure|Thriller   \n3                    27000.0  448130642.0                  Action|Thriller   \n4                      131.0          NaN                      Documentary   \n...                      ...          ...                              ...   \n4911                   637.0          NaN                     Comedy|Drama   \n4912                   841.0          NaN     Crime|Drama|Mystery|Thriller   \n4913                     0.0          NaN            Drama|Horror|Thriller   \n4914                   946.0      10443.0             Comedy|Drama|Romance   \n4915                    86.0      85222.0                      Documentary   \n\n      ... num_user_for_reviews language  country  content_rating       budget  \\\n0     ...               3054.0  English      USA           PG-13  237000000.0   \n1     ...               1238.0  English      USA           PG-13  300000000.0   \n2     ...                994.0  English       UK           PG-13  245000000.0   \n3     ...               2701.0  English      USA           PG-13  250000000.0   \n4     ...                  NaN      NaN      NaN             NaN          NaN   \n...   ...                  ...      ...      ...             ...          ...   \n4911  ...                  6.0  English   Canada             NaN          NaN   \n4912  ...                359.0  English      USA           TV-14          NaN   \n4913  ...                  3.0  English      USA             NaN       1400.0   \n4914  ...                  9.0  English      USA           PG-13          NaN   \n4915  ...                 84.0  English      USA              PG       1100.0   \n\n      title_year actor_2_facebook_likes imdb_score  aspect_ratio  \\\n0         2009.0                  936.0        7.9          1.78   \n1         2007.0                 5000.0        7.1          2.35   \n2         2015.0                  393.0        6.8          2.35   \n3         2012.0                23000.0        8.5          2.35   \n4            NaN                   12.0        7.1           NaN   \n...          ...                    ...        ...           ...   \n4911      2013.0                  470.0        7.7           NaN   \n4912         NaN                  593.0        7.5         16.00   \n4913      2013.0                    0.0        6.3           NaN   \n4914      2012.0                  719.0        6.3          2.35   \n4915      2004.0                   23.0        6.6          1.85   \n\n     movie_facebook_likes  \n0                   33000  \n1                       0  \n2                   85000  \n3                  164000  \n4                       0  \n...                   ...  \n4911                   84  \n4912                32000  \n4913                   16  \n4914                  660  \n4915                  456  \n\n[4916 rows x 28 columns]",
      "text/html": "<div>\n<style scoped>\n    .dataframe tbody tr th:only-of-type {\n        vertical-align: middle;\n    }\n\n    .dataframe tbody tr th {\n        vertical-align: top;\n    }\n\n    .dataframe thead th {\n        text-align: right;\n    }\n</style>\n<table border=\"1\" class=\"dataframe\">\n  <thead>\n    <tr style=\"text-align: right;\">\n      <th></th>\n      <th>color</th>\n      <th>director_name</th>\n      <th>num_critic_for_reviews</th>\n      <th>duration</th>\n      <th>director_facebook_likes</th>\n      <th>actor_3_facebook_likes</th>\n      <th>actor_2_name</th>\n      <th>actor_1_facebook_likes</th>\n      <th>gross</th>\n      <th>genres</th>\n      <th>...</th>\n      <th>num_user_for_reviews</th>\n      <th>language</th>\n      <th>country</th>\n      <th>content_rating</th>\n      <th>budget</th>\n      <th>title_year</th>\n      <th>actor_2_facebook_likes</th>\n      <th>imdb_score</th>\n      <th>aspect_ratio</th>\n      <th>movie_facebook_likes</th>\n    </tr>\n  </thead>\n  <tbody>\n    <tr>\n      <th>0</th>\n      <td>Color</td>\n      <td>James Cameron</td>\n      <td>723.0</td>\n      <td>178.0</td>\n      <td>0.0</td>\n      <td>855.0</td>\n      <td>Joel David Moore</td>\n      <td>1000.0</td>\n      <td>760505847.0</td>\n      <td>Action|Adventure|Fantasy|Sci-Fi</td>\n      <td>...</td>\n      <td>3054.0</td>\n      <td>English</td>\n      <td>USA</td>\n      <td>PG-13</td>\n      <td>237000000.0</td>\n      <td>2009.0</td>\n      <td>936.0</td>\n      <td>7.9</td>\n      <td>1.78</td>\n      <td>33000</td>\n    </tr>\n    <tr>\n      <th>1</th>\n      <td>Color</td>\n      <td>Gore Verbinski</td>\n      <td>302.0</td>\n      <td>169.0</td>\n      <td>563.0</td>\n      <td>1000.0</td>\n      <td>Orlando Bloom</td>\n      <td>40000.0</td>\n      <td>309404152.0</td>\n      <td>Action|Adventure|Fantasy</td>\n      <td>...</td>\n      <td>1238.0</td>\n      <td>English</td>\n      <td>USA</td>\n      <td>PG-13</td>\n      <td>300000000.0</td>\n      <td>2007.0</td>\n      <td>5000.0</td>\n      <td>7.1</td>\n      <td>2.35</td>\n      <td>0</td>\n    </tr>\n    <tr>\n      <th>2</th>\n      <td>Color</td>\n      <td>Sam Mendes</td>\n      <td>602.0</td>\n      <td>148.0</td>\n      <td>0.0</td>\n      <td>161.0</td>\n      <td>Rory Kinnear</td>\n      <td>11000.0</td>\n      <td>200074175.0</td>\n      <td>Action|Adventure|Thriller</td>\n      <td>...</td>\n      <td>994.0</td>\n      <td>English</td>\n      <td>UK</td>\n      <td>PG-13</td>\n      <td>245000000.0</td>\n      <td>2015.0</td>\n      <td>393.0</td>\n      <td>6.8</td>\n      <td>2.35</td>\n      <td>85000</td>\n    </tr>\n    <tr>\n      <th>3</th>\n      <td>Color</td>\n      <td>Christopher Nolan</td>\n      <td>813.0</td>\n      <td>164.0</td>\n      <td>22000.0</td>\n      <td>23000.0</td>\n      <td>Christian Bale</td>\n      <td>27000.0</td>\n      <td>448130642.0</td>\n      <td>Action|Thriller</td>\n      <td>...</td>\n      <td>2701.0</td>\n      <td>English</td>\n      <td>USA</td>\n      <td>PG-13</td>\n      <td>250000000.0</td>\n      <td>2012.0</td>\n      <td>23000.0</td>\n      <td>8.5</td>\n      <td>2.35</td>\n      <td>164000</td>\n    </tr>\n    <tr>\n      <th>4</th>\n      <td>NaN</td>\n      <td>Doug Walker</td>\n      <td>NaN</td>\n      <td>NaN</td>\n      <td>131.0</td>\n      <td>NaN</td>\n      <td>Rob Walker</td>\n      <td>131.0</td>\n      <td>NaN</td>\n      <td>Documentary</td>\n      <td>...</td>\n      <td>NaN</td>\n      <td>NaN</td>\n      <td>NaN</td>\n      <td>NaN</td>\n      <td>NaN</td>\n      <td>NaN</td>\n      <td>12.0</td>\n      <td>7.1</td>\n      <td>NaN</td>\n      <td>0</td>\n    </tr>\n    <tr>\n      <th>...</th>\n      <td>...</td>\n      <td>...</td>\n      <td>...</td>\n      <td>...</td>\n      <td>...</td>\n      <td>...</td>\n      <td>...</td>\n      <td>...</td>\n      <td>...</td>\n      <td>...</td>\n      <td>...</td>\n      <td>...</td>\n      <td>...</td>\n      <td>...</td>\n      <td>...</td>\n      <td>...</td>\n      <td>...</td>\n      <td>...</td>\n      <td>...</td>\n      <td>...</td>\n      <td>...</td>\n    </tr>\n    <tr>\n      <th>4911</th>\n      <td>Color</td>\n      <td>Scott Smith</td>\n      <td>1.0</td>\n      <td>87.0</td>\n      <td>2.0</td>\n      <td>318.0</td>\n      <td>Daphne Zuniga</td>\n      <td>637.0</td>\n      <td>NaN</td>\n      <td>Comedy|Drama</td>\n      <td>...</td>\n      <td>6.0</td>\n      <td>English</td>\n      <td>Canada</td>\n      <td>NaN</td>\n      <td>NaN</td>\n      <td>2013.0</td>\n      <td>470.0</td>\n      <td>7.7</td>\n      <td>NaN</td>\n      <td>84</td>\n    </tr>\n    <tr>\n      <th>4912</th>\n      <td>Color</td>\n      <td>NaN</td>\n      <td>43.0</td>\n      <td>43.0</td>\n      <td>NaN</td>\n      <td>319.0</td>\n      <td>Valorie Curry</td>\n      <td>841.0</td>\n      <td>NaN</td>\n      <td>Crime|Drama|Mystery|Thriller</td>\n      <td>...</td>\n      <td>359.0</td>\n      <td>English</td>\n      <td>USA</td>\n      <td>TV-14</td>\n      <td>NaN</td>\n      <td>NaN</td>\n      <td>593.0</td>\n      <td>7.5</td>\n      <td>16.00</td>\n      <td>32000</td>\n    </tr>\n    <tr>\n      <th>4913</th>\n      <td>Color</td>\n      <td>Benjamin Roberds</td>\n      <td>13.0</td>\n      <td>76.0</td>\n      <td>0.0</td>\n      <td>0.0</td>\n      <td>Maxwell Moody</td>\n      <td>0.0</td>\n      <td>NaN</td>\n      <td>Drama|Horror|Thriller</td>\n      <td>...</td>\n      <td>3.0</td>\n      <td>English</td>\n      <td>USA</td>\n      <td>NaN</td>\n      <td>1400.0</td>\n      <td>2013.0</td>\n      <td>0.0</td>\n      <td>6.3</td>\n      <td>NaN</td>\n      <td>16</td>\n    </tr>\n    <tr>\n      <th>4914</th>\n      <td>Color</td>\n      <td>Daniel Hsia</td>\n      <td>14.0</td>\n      <td>100.0</td>\n      <td>0.0</td>\n      <td>489.0</td>\n      <td>Daniel Henney</td>\n      <td>946.0</td>\n      <td>10443.0</td>\n      <td>Comedy|Drama|Romance</td>\n      <td>...</td>\n      <td>9.0</td>\n      <td>English</td>\n      <td>USA</td>\n      <td>PG-13</td>\n      <td>NaN</td>\n      <td>2012.0</td>\n      <td>719.0</td>\n      <td>6.3</td>\n      <td>2.35</td>\n      <td>660</td>\n    </tr>\n    <tr>\n      <th>4915</th>\n      <td>Color</td>\n      <td>Jon Gunn</td>\n      <td>43.0</td>\n      <td>90.0</td>\n      <td>16.0</td>\n      <td>16.0</td>\n      <td>Brian Herzlinger</td>\n      <td>86.0</td>\n      <td>85222.0</td>\n      <td>Documentary</td>\n      <td>...</td>\n      <td>84.0</td>\n      <td>English</td>\n      <td>USA</td>\n      <td>PG</td>\n      <td>1100.0</td>\n      <td>2004.0</td>\n      <td>23.0</td>\n      <td>6.6</td>\n      <td>1.85</td>\n      <td>456</td>\n    </tr>\n  </tbody>\n</table>\n<p>4916 rows × 28 columns</p>\n</div>"
     },
     "execution_count": 3,
     "metadata": {},
     "output_type": "execute_result"
    }
   ],
   "source": [
    "# 需求: 查找 movie.csv文件中, 电影时长 > 平均时长的 电影信息.\n",
    "# 1. 读取数据源文件, 获取 df对象\n",
    "import pandas as pd\n",
    "movie_df = pd.read_csv('../data/movie.csv')\n",
    "movie_df"
   ],
   "metadata": {
    "collapsed": false,
    "ExecuteTime": {
     "end_time": "2025-05-06T07:26:43.609854Z",
     "start_time": "2025-05-06T07:26:43.179157Z"
    }
   },
   "id": "be5ac7ff31791fa9"
  },
  {
   "cell_type": "code",
   "execution_count": 6,
   "outputs": [
    {
     "name": "stdout",
     "output_type": "stream",
     "text": [
      "      color      director_name  num_critic_for_reviews  duration  \\\n",
      "0     Color      James Cameron                   723.0     178.0   \n",
      "1     Color     Gore Verbinski                   302.0     169.0   \n",
      "2     Color         Sam Mendes                   602.0     148.0   \n",
      "3     Color  Christopher Nolan                   813.0     164.0   \n",
      "5     Color     Andrew Stanton                   462.0     132.0   \n",
      "...     ...                ...                     ...       ...   \n",
      "4891  Color      Alex Kendrick                     5.0     120.0   \n",
      "4893    NaN    Brandon Landers                     NaN     143.0   \n",
      "4898  Color        John Waters                    73.0     108.0   \n",
      "4899  Color    Olivier Assayas                    81.0     110.0   \n",
      "4902  Color   Kiyoshi Kurosawa                    78.0     111.0   \n",
      "\n",
      "      director_facebook_likes  actor_3_facebook_likes      actor_2_name  \\\n",
      "0                         0.0                   855.0  Joel David Moore   \n",
      "1                       563.0                  1000.0     Orlando Bloom   \n",
      "2                         0.0                   161.0      Rory Kinnear   \n",
      "3                     22000.0                 23000.0    Christian Bale   \n",
      "5                       475.0                   530.0   Samantha Morton   \n",
      "...                       ...                     ...               ...   \n",
      "4891                    589.0                     4.0       Lisa Arnold   \n",
      "4893                      8.0                     8.0   Alana Kaniewski   \n",
      "4898                      0.0                   105.0        Mink Stole   \n",
      "4899                    107.0                    45.0    Béatrice Dalle   \n",
      "4902                     62.0                     6.0     Anna Nakagawa   \n",
      "\n",
      "      actor_1_facebook_likes        gross                           genres  \\\n",
      "0                     1000.0  760505847.0  Action|Adventure|Fantasy|Sci-Fi   \n",
      "1                    40000.0  309404152.0         Action|Adventure|Fantasy   \n",
      "2                    11000.0  200074175.0        Action|Adventure|Thriller   \n",
      "3                    27000.0  448130642.0                  Action|Thriller   \n",
      "5                      640.0   73058679.0          Action|Adventure|Sci-Fi   \n",
      "...                      ...          ...                              ...   \n",
      "4891                    51.0          NaN                            Drama   \n",
      "4893                   720.0          NaN            Drama|Horror|Thriller   \n",
      "4898                   462.0     180483.0              Comedy|Crime|Horror   \n",
      "4899                   576.0     136007.0              Drama|Music|Romance   \n",
      "4902                    89.0      94596.0    Crime|Horror|Mystery|Thriller   \n",
      "\n",
      "      ... num_user_for_reviews  language  country  content_rating  \\\n",
      "0     ...               3054.0   English      USA           PG-13   \n",
      "1     ...               1238.0   English      USA           PG-13   \n",
      "2     ...                994.0   English       UK           PG-13   \n",
      "3     ...               2701.0   English      USA           PG-13   \n",
      "5     ...                738.0   English      USA           PG-13   \n",
      "...   ...                  ...       ...      ...             ...   \n",
      "4891  ...                 49.0   English      USA             NaN   \n",
      "4893  ...                  8.0   English      USA             NaN   \n",
      "4898  ...                183.0   English      USA           NC-17   \n",
      "4899  ...                 39.0    French   France               R   \n",
      "4902  ...                 50.0  Japanese    Japan             NaN   \n",
      "\n",
      "           budget  title_year actor_2_facebook_likes imdb_score  aspect_ratio  \\\n",
      "0     237000000.0      2009.0                  936.0        7.9          1.78   \n",
      "1     300000000.0      2007.0                 5000.0        7.1          2.35   \n",
      "2     245000000.0      2015.0                  393.0        6.8          2.35   \n",
      "3     250000000.0      2012.0                23000.0        8.5          2.35   \n",
      "5     263700000.0      2012.0                  632.0        6.6          2.35   \n",
      "...           ...         ...                    ...        ...           ...   \n",
      "4891      20000.0      2003.0                   49.0        6.9          1.85   \n",
      "4893      17350.0      2011.0                   19.0        3.0           NaN   \n",
      "4898      10000.0      1972.0                  143.0        6.1          1.37   \n",
      "4899       4500.0      2004.0                  133.0        6.9          2.35   \n",
      "4902    1000000.0      1997.0                   13.0        7.4          1.85   \n",
      "\n",
      "     movie_facebook_likes  \n",
      "0                   33000  \n",
      "1                       0  \n",
      "2                   85000  \n",
      "3                  164000  \n",
      "5                   24000  \n",
      "...                   ...  \n",
      "4891                  725  \n",
      "4893                   33  \n",
      "4898                    0  \n",
      "4899                  171  \n",
      "4902                  817  \n",
      "\n",
      "[2006 rows x 28 columns]\n"
     ]
    }
   ],
   "source": [
    "# 2. 获取符合条件的数据, 即: 电影时长 > 平均时长的. \n",
    "# 时长：duration\n",
    "movie_df = pd.read_csv('../data/movie.csv')\n",
    "list_time=movie_df['duration']>movie_df['duration'].mean()\n",
    "print(movie_df[list_time])"
   ],
   "metadata": {
    "collapsed": false,
    "ExecuteTime": {
     "end_time": "2025-05-06T07:27:08.146039Z",
     "start_time": "2025-05-06T07:27:08.107122Z"
    }
   },
   "id": "95a7941ce1977685"
  },
  {
   "cell_type": "code",
   "execution_count": 7,
   "outputs": [
    {
     "data": {
      "text/plain": "   color      director_name  num_critic_for_reviews  duration  \\\n0  Color      James Cameron                   723.0     178.0   \n2  Color         Sam Mendes                   602.0     148.0   \n3  Color  Christopher Nolan                   813.0     164.0   \n\n   director_facebook_likes  actor_3_facebook_likes      actor_2_name  \\\n0                      0.0                   855.0  Joel David Moore   \n2                      0.0                   161.0      Rory Kinnear   \n3                  22000.0                 23000.0    Christian Bale   \n\n   actor_1_facebook_likes        gross                           genres  ...  \\\n0                  1000.0  760505847.0  Action|Adventure|Fantasy|Sci-Fi  ...   \n2                 11000.0  200074175.0        Action|Adventure|Thriller  ...   \n3                 27000.0  448130642.0                  Action|Thriller  ...   \n\n  num_user_for_reviews language  country  content_rating       budget  \\\n0               3054.0  English      USA           PG-13  237000000.0   \n2                994.0  English       UK           PG-13  245000000.0   \n3               2701.0  English      USA           PG-13  250000000.0   \n\n   title_year actor_2_facebook_likes imdb_score  aspect_ratio  \\\n0      2009.0                  936.0        7.9          1.78   \n2      2015.0                  393.0        6.8          2.35   \n3      2012.0                23000.0        8.5          2.35   \n\n  movie_facebook_likes  \n0                33000  \n2                85000  \n3               164000  \n\n[3 rows x 28 columns]",
      "text/html": "<div>\n<style scoped>\n    .dataframe tbody tr th:only-of-type {\n        vertical-align: middle;\n    }\n\n    .dataframe tbody tr th {\n        vertical-align: top;\n    }\n\n    .dataframe thead th {\n        text-align: right;\n    }\n</style>\n<table border=\"1\" class=\"dataframe\">\n  <thead>\n    <tr style=\"text-align: right;\">\n      <th></th>\n      <th>color</th>\n      <th>director_name</th>\n      <th>num_critic_for_reviews</th>\n      <th>duration</th>\n      <th>director_facebook_likes</th>\n      <th>actor_3_facebook_likes</th>\n      <th>actor_2_name</th>\n      <th>actor_1_facebook_likes</th>\n      <th>gross</th>\n      <th>genres</th>\n      <th>...</th>\n      <th>num_user_for_reviews</th>\n      <th>language</th>\n      <th>country</th>\n      <th>content_rating</th>\n      <th>budget</th>\n      <th>title_year</th>\n      <th>actor_2_facebook_likes</th>\n      <th>imdb_score</th>\n      <th>aspect_ratio</th>\n      <th>movie_facebook_likes</th>\n    </tr>\n  </thead>\n  <tbody>\n    <tr>\n      <th>0</th>\n      <td>Color</td>\n      <td>James Cameron</td>\n      <td>723.0</td>\n      <td>178.0</td>\n      <td>0.0</td>\n      <td>855.0</td>\n      <td>Joel David Moore</td>\n      <td>1000.0</td>\n      <td>760505847.0</td>\n      <td>Action|Adventure|Fantasy|Sci-Fi</td>\n      <td>...</td>\n      <td>3054.0</td>\n      <td>English</td>\n      <td>USA</td>\n      <td>PG-13</td>\n      <td>237000000.0</td>\n      <td>2009.0</td>\n      <td>936.0</td>\n      <td>7.9</td>\n      <td>1.78</td>\n      <td>33000</td>\n    </tr>\n    <tr>\n      <th>2</th>\n      <td>Color</td>\n      <td>Sam Mendes</td>\n      <td>602.0</td>\n      <td>148.0</td>\n      <td>0.0</td>\n      <td>161.0</td>\n      <td>Rory Kinnear</td>\n      <td>11000.0</td>\n      <td>200074175.0</td>\n      <td>Action|Adventure|Thriller</td>\n      <td>...</td>\n      <td>994.0</td>\n      <td>English</td>\n      <td>UK</td>\n      <td>PG-13</td>\n      <td>245000000.0</td>\n      <td>2015.0</td>\n      <td>393.0</td>\n      <td>6.8</td>\n      <td>2.35</td>\n      <td>85000</td>\n    </tr>\n    <tr>\n      <th>3</th>\n      <td>Color</td>\n      <td>Christopher Nolan</td>\n      <td>813.0</td>\n      <td>164.0</td>\n      <td>22000.0</td>\n      <td>23000.0</td>\n      <td>Christian Bale</td>\n      <td>27000.0</td>\n      <td>448130642.0</td>\n      <td>Action|Thriller</td>\n      <td>...</td>\n      <td>2701.0</td>\n      <td>English</td>\n      <td>USA</td>\n      <td>PG-13</td>\n      <td>250000000.0</td>\n      <td>2012.0</td>\n      <td>23000.0</td>\n      <td>8.5</td>\n      <td>2.35</td>\n      <td>164000</td>\n    </tr>\n  </tbody>\n</table>\n<p>3 rows × 28 columns</p>\n</div>"
     },
     "execution_count": 7,
     "metadata": {},
     "output_type": "execute_result"
    }
   ],
   "source": [
    "# 3. df对象, 也支持 手动传参的方式, 直接传入布尔值.\n",
    "#：[True,False,True..]\n",
    "# 需求： 查询前五行中的，第1、2、4行\n",
    "bool = [True,False,True,True,False]\n",
    "movie_df.head()[bool]"
   ],
   "metadata": {
    "collapsed": false,
    "ExecuteTime": {
     "end_time": "2025-05-06T07:27:14.670562Z",
     "start_time": "2025-05-06T07:27:14.641717Z"
    }
   },
   "id": "8aafa181d961952b"
  },
  {
   "cell_type": "markdown",
   "source": [
    "# 4.DataFrame对象的计算"
   ],
   "metadata": {
    "collapsed": false
   },
   "id": "8117819052b7b47"
  },
  {
   "cell_type": "code",
   "execution_count": 11,
   "outputs": [
    {
     "data": {
      "text/plain": "           color                       director_name  num_critic_for_reviews  \\\n0     ColorColor          James CameronJames Cameron                  1446.0   \n1     ColorColor        Gore VerbinskiGore Verbinski                   604.0   \n2     ColorColor                Sam MendesSam Mendes                  1204.0   \n3     ColorColor  Christopher NolanChristopher Nolan                  1626.0   \n4            NaN              Doug WalkerDoug Walker                     NaN   \n...          ...                                 ...                     ...   \n4911  ColorColor              Scott SmithScott Smith                     2.0   \n4912  ColorColor                                 NaN                    86.0   \n4913  ColorColor    Benjamin RoberdsBenjamin Roberds                    26.0   \n4914  ColorColor              Daniel HsiaDaniel Hsia                    28.0   \n4915  ColorColor                    Jon GunnJon Gunn                    86.0   \n\n      duration  director_facebook_likes  actor_3_facebook_likes  \\\n0        356.0                      0.0                  1710.0   \n1        338.0                   1126.0                  2000.0   \n2        296.0                      0.0                   322.0   \n3        328.0                  44000.0                 46000.0   \n4          NaN                    262.0                     NaN   \n...        ...                      ...                     ...   \n4911     174.0                      4.0                   636.0   \n4912      86.0                      NaN                   638.0   \n4913     152.0                      0.0                     0.0   \n4914     200.0                      0.0                   978.0   \n4915     180.0                     32.0                    32.0   \n\n                          actor_2_name  actor_1_facebook_likes         gross  \\\n0     Joel David MooreJoel David Moore                  2000.0  1.521012e+09   \n1           Orlando BloomOrlando Bloom                 80000.0  6.188083e+08   \n2             Rory KinnearRory Kinnear                 22000.0  4.001484e+08   \n3         Christian BaleChristian Bale                 54000.0  8.962613e+08   \n4                 Rob WalkerRob Walker                   262.0           NaN   \n...                                ...                     ...           ...   \n4911        Daphne ZunigaDaphne Zuniga                  1274.0           NaN   \n4912        Valorie CurryValorie Curry                  1682.0           NaN   \n4913        Maxwell MoodyMaxwell Moody                     0.0           NaN   \n4914        Daniel HenneyDaniel Henney                  1892.0  2.088600e+04   \n4915  Brian HerzlingerBrian Herzlinger                   172.0  1.704440e+05   \n\n                                                 genres  ...  \\\n0     Action|Adventure|Fantasy|Sci-FiAction|Adventur...  ...   \n1      Action|Adventure|FantasyAction|Adventure|Fantasy  ...   \n2     Action|Adventure|ThrillerAction|Adventure|Thri...  ...   \n3                        Action|ThrillerAction|Thriller  ...   \n4                                DocumentaryDocumentary  ...   \n...                                                 ...  ...   \n4911                           Comedy|DramaComedy|Drama  ...   \n4912  Crime|Drama|Mystery|ThrillerCrime|Drama|Myster...  ...   \n4913         Drama|Horror|ThrillerDrama|Horror|Thriller  ...   \n4914           Comedy|Drama|RomanceComedy|Drama|Romance  ...   \n4915                             DocumentaryDocumentary  ...   \n\n     num_user_for_reviews        language       country  content_rating  \\\n0                  6108.0  EnglishEnglish        USAUSA      PG-13PG-13   \n1                  2476.0  EnglishEnglish        USAUSA      PG-13PG-13   \n2                  1988.0  EnglishEnglish          UKUK      PG-13PG-13   \n3                  5402.0  EnglishEnglish        USAUSA      PG-13PG-13   \n4                     NaN             NaN           NaN             NaN   \n...                   ...             ...           ...             ...   \n4911                 12.0  EnglishEnglish  CanadaCanada             NaN   \n4912                718.0  EnglishEnglish        USAUSA      TV-14TV-14   \n4913                  6.0  EnglishEnglish        USAUSA             NaN   \n4914                 18.0  EnglishEnglish        USAUSA      PG-13PG-13   \n4915                168.0  EnglishEnglish        USAUSA            PGPG   \n\n           budget  title_year actor_2_facebook_likes imdb_score  aspect_ratio  \\\n0     474000000.0      4018.0                 1872.0       15.8          3.56   \n1     600000000.0      4014.0                10000.0       14.2          4.70   \n2     490000000.0      4030.0                  786.0       13.6          4.70   \n3     500000000.0      4024.0                46000.0       17.0          4.70   \n4             NaN         NaN                   24.0       14.2           NaN   \n...           ...         ...                    ...        ...           ...   \n4911          NaN      4026.0                  940.0       15.4           NaN   \n4912          NaN         NaN                 1186.0       15.0         32.00   \n4913       2800.0      4026.0                    0.0       12.6           NaN   \n4914          NaN      4024.0                 1438.0       12.6          4.70   \n4915       2200.0      4008.0                   46.0       13.2          3.70   \n\n     movie_facebook_likes  \n0                   66000  \n1                       0  \n2                  170000  \n3                  328000  \n4                       0  \n...                   ...  \n4911                  168  \n4912                64000  \n4913                   32  \n4914                 1320  \n4915                  912  \n\n[4916 rows x 28 columns]",
      "text/html": "<div>\n<style scoped>\n    .dataframe tbody tr th:only-of-type {\n        vertical-align: middle;\n    }\n\n    .dataframe tbody tr th {\n        vertical-align: top;\n    }\n\n    .dataframe thead th {\n        text-align: right;\n    }\n</style>\n<table border=\"1\" class=\"dataframe\">\n  <thead>\n    <tr style=\"text-align: right;\">\n      <th></th>\n      <th>color</th>\n      <th>director_name</th>\n      <th>num_critic_for_reviews</th>\n      <th>duration</th>\n      <th>director_facebook_likes</th>\n      <th>actor_3_facebook_likes</th>\n      <th>actor_2_name</th>\n      <th>actor_1_facebook_likes</th>\n      <th>gross</th>\n      <th>genres</th>\n      <th>...</th>\n      <th>num_user_for_reviews</th>\n      <th>language</th>\n      <th>country</th>\n      <th>content_rating</th>\n      <th>budget</th>\n      <th>title_year</th>\n      <th>actor_2_facebook_likes</th>\n      <th>imdb_score</th>\n      <th>aspect_ratio</th>\n      <th>movie_facebook_likes</th>\n    </tr>\n  </thead>\n  <tbody>\n    <tr>\n      <th>0</th>\n      <td>ColorColor</td>\n      <td>James CameronJames Cameron</td>\n      <td>1446.0</td>\n      <td>356.0</td>\n      <td>0.0</td>\n      <td>1710.0</td>\n      <td>Joel David MooreJoel David Moore</td>\n      <td>2000.0</td>\n      <td>1.521012e+09</td>\n      <td>Action|Adventure|Fantasy|Sci-FiAction|Adventur...</td>\n      <td>...</td>\n      <td>6108.0</td>\n      <td>EnglishEnglish</td>\n      <td>USAUSA</td>\n      <td>PG-13PG-13</td>\n      <td>474000000.0</td>\n      <td>4018.0</td>\n      <td>1872.0</td>\n      <td>15.8</td>\n      <td>3.56</td>\n      <td>66000</td>\n    </tr>\n    <tr>\n      <th>1</th>\n      <td>ColorColor</td>\n      <td>Gore VerbinskiGore Verbinski</td>\n      <td>604.0</td>\n      <td>338.0</td>\n      <td>1126.0</td>\n      <td>2000.0</td>\n      <td>Orlando BloomOrlando Bloom</td>\n      <td>80000.0</td>\n      <td>6.188083e+08</td>\n      <td>Action|Adventure|FantasyAction|Adventure|Fantasy</td>\n      <td>...</td>\n      <td>2476.0</td>\n      <td>EnglishEnglish</td>\n      <td>USAUSA</td>\n      <td>PG-13PG-13</td>\n      <td>600000000.0</td>\n      <td>4014.0</td>\n      <td>10000.0</td>\n      <td>14.2</td>\n      <td>4.70</td>\n      <td>0</td>\n    </tr>\n    <tr>\n      <th>2</th>\n      <td>ColorColor</td>\n      <td>Sam MendesSam Mendes</td>\n      <td>1204.0</td>\n      <td>296.0</td>\n      <td>0.0</td>\n      <td>322.0</td>\n      <td>Rory KinnearRory Kinnear</td>\n      <td>22000.0</td>\n      <td>4.001484e+08</td>\n      <td>Action|Adventure|ThrillerAction|Adventure|Thri...</td>\n      <td>...</td>\n      <td>1988.0</td>\n      <td>EnglishEnglish</td>\n      <td>UKUK</td>\n      <td>PG-13PG-13</td>\n      <td>490000000.0</td>\n      <td>4030.0</td>\n      <td>786.0</td>\n      <td>13.6</td>\n      <td>4.70</td>\n      <td>170000</td>\n    </tr>\n    <tr>\n      <th>3</th>\n      <td>ColorColor</td>\n      <td>Christopher NolanChristopher Nolan</td>\n      <td>1626.0</td>\n      <td>328.0</td>\n      <td>44000.0</td>\n      <td>46000.0</td>\n      <td>Christian BaleChristian Bale</td>\n      <td>54000.0</td>\n      <td>8.962613e+08</td>\n      <td>Action|ThrillerAction|Thriller</td>\n      <td>...</td>\n      <td>5402.0</td>\n      <td>EnglishEnglish</td>\n      <td>USAUSA</td>\n      <td>PG-13PG-13</td>\n      <td>500000000.0</td>\n      <td>4024.0</td>\n      <td>46000.0</td>\n      <td>17.0</td>\n      <td>4.70</td>\n      <td>328000</td>\n    </tr>\n    <tr>\n      <th>4</th>\n      <td>NaN</td>\n      <td>Doug WalkerDoug Walker</td>\n      <td>NaN</td>\n      <td>NaN</td>\n      <td>262.0</td>\n      <td>NaN</td>\n      <td>Rob WalkerRob Walker</td>\n      <td>262.0</td>\n      <td>NaN</td>\n      <td>DocumentaryDocumentary</td>\n      <td>...</td>\n      <td>NaN</td>\n      <td>NaN</td>\n      <td>NaN</td>\n      <td>NaN</td>\n      <td>NaN</td>\n      <td>NaN</td>\n      <td>24.0</td>\n      <td>14.2</td>\n      <td>NaN</td>\n      <td>0</td>\n    </tr>\n    <tr>\n      <th>...</th>\n      <td>...</td>\n      <td>...</td>\n      <td>...</td>\n      <td>...</td>\n      <td>...</td>\n      <td>...</td>\n      <td>...</td>\n      <td>...</td>\n      <td>...</td>\n      <td>...</td>\n      <td>...</td>\n      <td>...</td>\n      <td>...</td>\n      <td>...</td>\n      <td>...</td>\n      <td>...</td>\n      <td>...</td>\n      <td>...</td>\n      <td>...</td>\n      <td>...</td>\n      <td>...</td>\n    </tr>\n    <tr>\n      <th>4911</th>\n      <td>ColorColor</td>\n      <td>Scott SmithScott Smith</td>\n      <td>2.0</td>\n      <td>174.0</td>\n      <td>4.0</td>\n      <td>636.0</td>\n      <td>Daphne ZunigaDaphne Zuniga</td>\n      <td>1274.0</td>\n      <td>NaN</td>\n      <td>Comedy|DramaComedy|Drama</td>\n      <td>...</td>\n      <td>12.0</td>\n      <td>EnglishEnglish</td>\n      <td>CanadaCanada</td>\n      <td>NaN</td>\n      <td>NaN</td>\n      <td>4026.0</td>\n      <td>940.0</td>\n      <td>15.4</td>\n      <td>NaN</td>\n      <td>168</td>\n    </tr>\n    <tr>\n      <th>4912</th>\n      <td>ColorColor</td>\n      <td>NaN</td>\n      <td>86.0</td>\n      <td>86.0</td>\n      <td>NaN</td>\n      <td>638.0</td>\n      <td>Valorie CurryValorie Curry</td>\n      <td>1682.0</td>\n      <td>NaN</td>\n      <td>Crime|Drama|Mystery|ThrillerCrime|Drama|Myster...</td>\n      <td>...</td>\n      <td>718.0</td>\n      <td>EnglishEnglish</td>\n      <td>USAUSA</td>\n      <td>TV-14TV-14</td>\n      <td>NaN</td>\n      <td>NaN</td>\n      <td>1186.0</td>\n      <td>15.0</td>\n      <td>32.00</td>\n      <td>64000</td>\n    </tr>\n    <tr>\n      <th>4913</th>\n      <td>ColorColor</td>\n      <td>Benjamin RoberdsBenjamin Roberds</td>\n      <td>26.0</td>\n      <td>152.0</td>\n      <td>0.0</td>\n      <td>0.0</td>\n      <td>Maxwell MoodyMaxwell Moody</td>\n      <td>0.0</td>\n      <td>NaN</td>\n      <td>Drama|Horror|ThrillerDrama|Horror|Thriller</td>\n      <td>...</td>\n      <td>6.0</td>\n      <td>EnglishEnglish</td>\n      <td>USAUSA</td>\n      <td>NaN</td>\n      <td>2800.0</td>\n      <td>4026.0</td>\n      <td>0.0</td>\n      <td>12.6</td>\n      <td>NaN</td>\n      <td>32</td>\n    </tr>\n    <tr>\n      <th>4914</th>\n      <td>ColorColor</td>\n      <td>Daniel HsiaDaniel Hsia</td>\n      <td>28.0</td>\n      <td>200.0</td>\n      <td>0.0</td>\n      <td>978.0</td>\n      <td>Daniel HenneyDaniel Henney</td>\n      <td>1892.0</td>\n      <td>2.088600e+04</td>\n      <td>Comedy|Drama|RomanceComedy|Drama|Romance</td>\n      <td>...</td>\n      <td>18.0</td>\n      <td>EnglishEnglish</td>\n      <td>USAUSA</td>\n      <td>PG-13PG-13</td>\n      <td>NaN</td>\n      <td>4024.0</td>\n      <td>1438.0</td>\n      <td>12.6</td>\n      <td>4.70</td>\n      <td>1320</td>\n    </tr>\n    <tr>\n      <th>4915</th>\n      <td>ColorColor</td>\n      <td>Jon GunnJon Gunn</td>\n      <td>86.0</td>\n      <td>180.0</td>\n      <td>32.0</td>\n      <td>32.0</td>\n      <td>Brian HerzlingerBrian Herzlinger</td>\n      <td>172.0</td>\n      <td>1.704440e+05</td>\n      <td>DocumentaryDocumentary</td>\n      <td>...</td>\n      <td>168.0</td>\n      <td>EnglishEnglish</td>\n      <td>USAUSA</td>\n      <td>PGPG</td>\n      <td>2200.0</td>\n      <td>4008.0</td>\n      <td>46.0</td>\n      <td>13.2</td>\n      <td>3.70</td>\n      <td>912</td>\n    </tr>\n  </tbody>\n</table>\n<p>4916 rows × 28 columns</p>\n</div>"
     },
     "execution_count": 11,
     "metadata": {},
     "output_type": "execute_result"
    }
   ],
   "source": [
    "# 1. DataFrame对象和数值运算, 就是把该数值作用到 每个DataFrame身上. \n",
    "#df * x\n",
    "movie_df*2"
   ],
   "metadata": {
    "collapsed": false,
    "ExecuteTime": {
     "end_time": "2025-05-06T07:30:11.769706Z",
     "start_time": "2025-05-06T07:30:11.739871Z"
    }
   },
   "id": "e558fb524b5c4fa8"
  },
  {
   "cell_type": "code",
   "execution_count": 12,
   "outputs": [
    {
     "data": {
      "text/plain": "           color                       director_name  num_critic_for_reviews  \\\n0     ColorColor          James CameronJames Cameron                  1446.0   \n1     ColorColor        Gore VerbinskiGore Verbinski                   604.0   \n2     ColorColor                Sam MendesSam Mendes                  1204.0   \n3     ColorColor  Christopher NolanChristopher Nolan                  1626.0   \n4            NaN              Doug WalkerDoug Walker                     NaN   \n...          ...                                 ...                     ...   \n4911  ColorColor              Scott SmithScott Smith                     2.0   \n4912  ColorColor                                 NaN                    86.0   \n4913  ColorColor    Benjamin RoberdsBenjamin Roberds                    26.0   \n4914  ColorColor              Daniel HsiaDaniel Hsia                    28.0   \n4915  ColorColor                    Jon GunnJon Gunn                    86.0   \n\n      duration  director_facebook_likes  actor_3_facebook_likes  \\\n0        356.0                      0.0                  1710.0   \n1        338.0                   1126.0                  2000.0   \n2        296.0                      0.0                   322.0   \n3        328.0                  44000.0                 46000.0   \n4          NaN                    262.0                     NaN   \n...        ...                      ...                     ...   \n4911     174.0                      4.0                   636.0   \n4912      86.0                      NaN                   638.0   \n4913     152.0                      0.0                     0.0   \n4914     200.0                      0.0                   978.0   \n4915     180.0                     32.0                    32.0   \n\n                          actor_2_name  actor_1_facebook_likes         gross  \\\n0     Joel David MooreJoel David Moore                  2000.0  1.521012e+09   \n1           Orlando BloomOrlando Bloom                 80000.0  6.188083e+08   \n2             Rory KinnearRory Kinnear                 22000.0  4.001484e+08   \n3         Christian BaleChristian Bale                 54000.0  8.962613e+08   \n4                 Rob WalkerRob Walker                   262.0           NaN   \n...                                ...                     ...           ...   \n4911        Daphne ZunigaDaphne Zuniga                  1274.0           NaN   \n4912        Valorie CurryValorie Curry                  1682.0           NaN   \n4913        Maxwell MoodyMaxwell Moody                     0.0           NaN   \n4914        Daniel HenneyDaniel Henney                  1892.0  2.088600e+04   \n4915  Brian HerzlingerBrian Herzlinger                   172.0  1.704440e+05   \n\n                                                 genres  ...  \\\n0     Action|Adventure|Fantasy|Sci-FiAction|Adventur...  ...   \n1      Action|Adventure|FantasyAction|Adventure|Fantasy  ...   \n2     Action|Adventure|ThrillerAction|Adventure|Thri...  ...   \n3                        Action|ThrillerAction|Thriller  ...   \n4                                DocumentaryDocumentary  ...   \n...                                                 ...  ...   \n4911                           Comedy|DramaComedy|Drama  ...   \n4912  Crime|Drama|Mystery|ThrillerCrime|Drama|Myster...  ...   \n4913         Drama|Horror|ThrillerDrama|Horror|Thriller  ...   \n4914           Comedy|Drama|RomanceComedy|Drama|Romance  ...   \n4915                             DocumentaryDocumentary  ...   \n\n     num_user_for_reviews        language       country  content_rating  \\\n0                  6108.0  EnglishEnglish        USAUSA      PG-13PG-13   \n1                  2476.0  EnglishEnglish        USAUSA      PG-13PG-13   \n2                  1988.0  EnglishEnglish          UKUK      PG-13PG-13   \n3                  5402.0  EnglishEnglish        USAUSA      PG-13PG-13   \n4                     NaN             NaN           NaN             NaN   \n...                   ...             ...           ...             ...   \n4911                 12.0  EnglishEnglish  CanadaCanada             NaN   \n4912                718.0  EnglishEnglish        USAUSA      TV-14TV-14   \n4913                  6.0  EnglishEnglish        USAUSA             NaN   \n4914                 18.0  EnglishEnglish        USAUSA      PG-13PG-13   \n4915                168.0  EnglishEnglish        USAUSA            PGPG   \n\n           budget  title_year actor_2_facebook_likes imdb_score  aspect_ratio  \\\n0     474000000.0      4018.0                 1872.0       15.8          3.56   \n1     600000000.0      4014.0                10000.0       14.2          4.70   \n2     490000000.0      4030.0                  786.0       13.6          4.70   \n3     500000000.0      4024.0                46000.0       17.0          4.70   \n4             NaN         NaN                   24.0       14.2           NaN   \n...           ...         ...                    ...        ...           ...   \n4911          NaN      4026.0                  940.0       15.4           NaN   \n4912          NaN         NaN                 1186.0       15.0         32.00   \n4913       2800.0      4026.0                    0.0       12.6           NaN   \n4914          NaN      4024.0                 1438.0       12.6          4.70   \n4915       2200.0      4008.0                   46.0       13.2          3.70   \n\n     movie_facebook_likes  \n0                   66000  \n1                       0  \n2                  170000  \n3                  328000  \n4                       0  \n...                   ...  \n4911                  168  \n4912                64000  \n4913                   32  \n4914                 1320  \n4915                  912  \n\n[4916 rows x 28 columns]",
      "text/html": "<div>\n<style scoped>\n    .dataframe tbody tr th:only-of-type {\n        vertical-align: middle;\n    }\n\n    .dataframe tbody tr th {\n        vertical-align: top;\n    }\n\n    .dataframe thead th {\n        text-align: right;\n    }\n</style>\n<table border=\"1\" class=\"dataframe\">\n  <thead>\n    <tr style=\"text-align: right;\">\n      <th></th>\n      <th>color</th>\n      <th>director_name</th>\n      <th>num_critic_for_reviews</th>\n      <th>duration</th>\n      <th>director_facebook_likes</th>\n      <th>actor_3_facebook_likes</th>\n      <th>actor_2_name</th>\n      <th>actor_1_facebook_likes</th>\n      <th>gross</th>\n      <th>genres</th>\n      <th>...</th>\n      <th>num_user_for_reviews</th>\n      <th>language</th>\n      <th>country</th>\n      <th>content_rating</th>\n      <th>budget</th>\n      <th>title_year</th>\n      <th>actor_2_facebook_likes</th>\n      <th>imdb_score</th>\n      <th>aspect_ratio</th>\n      <th>movie_facebook_likes</th>\n    </tr>\n  </thead>\n  <tbody>\n    <tr>\n      <th>0</th>\n      <td>ColorColor</td>\n      <td>James CameronJames Cameron</td>\n      <td>1446.0</td>\n      <td>356.0</td>\n      <td>0.0</td>\n      <td>1710.0</td>\n      <td>Joel David MooreJoel David Moore</td>\n      <td>2000.0</td>\n      <td>1.521012e+09</td>\n      <td>Action|Adventure|Fantasy|Sci-FiAction|Adventur...</td>\n      <td>...</td>\n      <td>6108.0</td>\n      <td>EnglishEnglish</td>\n      <td>USAUSA</td>\n      <td>PG-13PG-13</td>\n      <td>474000000.0</td>\n      <td>4018.0</td>\n      <td>1872.0</td>\n      <td>15.8</td>\n      <td>3.56</td>\n      <td>66000</td>\n    </tr>\n    <tr>\n      <th>1</th>\n      <td>ColorColor</td>\n      <td>Gore VerbinskiGore Verbinski</td>\n      <td>604.0</td>\n      <td>338.0</td>\n      <td>1126.0</td>\n      <td>2000.0</td>\n      <td>Orlando BloomOrlando Bloom</td>\n      <td>80000.0</td>\n      <td>6.188083e+08</td>\n      <td>Action|Adventure|FantasyAction|Adventure|Fantasy</td>\n      <td>...</td>\n      <td>2476.0</td>\n      <td>EnglishEnglish</td>\n      <td>USAUSA</td>\n      <td>PG-13PG-13</td>\n      <td>600000000.0</td>\n      <td>4014.0</td>\n      <td>10000.0</td>\n      <td>14.2</td>\n      <td>4.70</td>\n      <td>0</td>\n    </tr>\n    <tr>\n      <th>2</th>\n      <td>ColorColor</td>\n      <td>Sam MendesSam Mendes</td>\n      <td>1204.0</td>\n      <td>296.0</td>\n      <td>0.0</td>\n      <td>322.0</td>\n      <td>Rory KinnearRory Kinnear</td>\n      <td>22000.0</td>\n      <td>4.001484e+08</td>\n      <td>Action|Adventure|ThrillerAction|Adventure|Thri...</td>\n      <td>...</td>\n      <td>1988.0</td>\n      <td>EnglishEnglish</td>\n      <td>UKUK</td>\n      <td>PG-13PG-13</td>\n      <td>490000000.0</td>\n      <td>4030.0</td>\n      <td>786.0</td>\n      <td>13.6</td>\n      <td>4.70</td>\n      <td>170000</td>\n    </tr>\n    <tr>\n      <th>3</th>\n      <td>ColorColor</td>\n      <td>Christopher NolanChristopher Nolan</td>\n      <td>1626.0</td>\n      <td>328.0</td>\n      <td>44000.0</td>\n      <td>46000.0</td>\n      <td>Christian BaleChristian Bale</td>\n      <td>54000.0</td>\n      <td>8.962613e+08</td>\n      <td>Action|ThrillerAction|Thriller</td>\n      <td>...</td>\n      <td>5402.0</td>\n      <td>EnglishEnglish</td>\n      <td>USAUSA</td>\n      <td>PG-13PG-13</td>\n      <td>500000000.0</td>\n      <td>4024.0</td>\n      <td>46000.0</td>\n      <td>17.0</td>\n      <td>4.70</td>\n      <td>328000</td>\n    </tr>\n    <tr>\n      <th>4</th>\n      <td>NaN</td>\n      <td>Doug WalkerDoug Walker</td>\n      <td>NaN</td>\n      <td>NaN</td>\n      <td>262.0</td>\n      <td>NaN</td>\n      <td>Rob WalkerRob Walker</td>\n      <td>262.0</td>\n      <td>NaN</td>\n      <td>DocumentaryDocumentary</td>\n      <td>...</td>\n      <td>NaN</td>\n      <td>NaN</td>\n      <td>NaN</td>\n      <td>NaN</td>\n      <td>NaN</td>\n      <td>NaN</td>\n      <td>24.0</td>\n      <td>14.2</td>\n      <td>NaN</td>\n      <td>0</td>\n    </tr>\n    <tr>\n      <th>...</th>\n      <td>...</td>\n      <td>...</td>\n      <td>...</td>\n      <td>...</td>\n      <td>...</td>\n      <td>...</td>\n      <td>...</td>\n      <td>...</td>\n      <td>...</td>\n      <td>...</td>\n      <td>...</td>\n      <td>...</td>\n      <td>...</td>\n      <td>...</td>\n      <td>...</td>\n      <td>...</td>\n      <td>...</td>\n      <td>...</td>\n      <td>...</td>\n      <td>...</td>\n      <td>...</td>\n    </tr>\n    <tr>\n      <th>4911</th>\n      <td>ColorColor</td>\n      <td>Scott SmithScott Smith</td>\n      <td>2.0</td>\n      <td>174.0</td>\n      <td>4.0</td>\n      <td>636.0</td>\n      <td>Daphne ZunigaDaphne Zuniga</td>\n      <td>1274.0</td>\n      <td>NaN</td>\n      <td>Comedy|DramaComedy|Drama</td>\n      <td>...</td>\n      <td>12.0</td>\n      <td>EnglishEnglish</td>\n      <td>CanadaCanada</td>\n      <td>NaN</td>\n      <td>NaN</td>\n      <td>4026.0</td>\n      <td>940.0</td>\n      <td>15.4</td>\n      <td>NaN</td>\n      <td>168</td>\n    </tr>\n    <tr>\n      <th>4912</th>\n      <td>ColorColor</td>\n      <td>NaN</td>\n      <td>86.0</td>\n      <td>86.0</td>\n      <td>NaN</td>\n      <td>638.0</td>\n      <td>Valorie CurryValorie Curry</td>\n      <td>1682.0</td>\n      <td>NaN</td>\n      <td>Crime|Drama|Mystery|ThrillerCrime|Drama|Myster...</td>\n      <td>...</td>\n      <td>718.0</td>\n      <td>EnglishEnglish</td>\n      <td>USAUSA</td>\n      <td>TV-14TV-14</td>\n      <td>NaN</td>\n      <td>NaN</td>\n      <td>1186.0</td>\n      <td>15.0</td>\n      <td>32.00</td>\n      <td>64000</td>\n    </tr>\n    <tr>\n      <th>4913</th>\n      <td>ColorColor</td>\n      <td>Benjamin RoberdsBenjamin Roberds</td>\n      <td>26.0</td>\n      <td>152.0</td>\n      <td>0.0</td>\n      <td>0.0</td>\n      <td>Maxwell MoodyMaxwell Moody</td>\n      <td>0.0</td>\n      <td>NaN</td>\n      <td>Drama|Horror|ThrillerDrama|Horror|Thriller</td>\n      <td>...</td>\n      <td>6.0</td>\n      <td>EnglishEnglish</td>\n      <td>USAUSA</td>\n      <td>NaN</td>\n      <td>2800.0</td>\n      <td>4026.0</td>\n      <td>0.0</td>\n      <td>12.6</td>\n      <td>NaN</td>\n      <td>32</td>\n    </tr>\n    <tr>\n      <th>4914</th>\n      <td>ColorColor</td>\n      <td>Daniel HsiaDaniel Hsia</td>\n      <td>28.0</td>\n      <td>200.0</td>\n      <td>0.0</td>\n      <td>978.0</td>\n      <td>Daniel HenneyDaniel Henney</td>\n      <td>1892.0</td>\n      <td>2.088600e+04</td>\n      <td>Comedy|Drama|RomanceComedy|Drama|Romance</td>\n      <td>...</td>\n      <td>18.0</td>\n      <td>EnglishEnglish</td>\n      <td>USAUSA</td>\n      <td>PG-13PG-13</td>\n      <td>NaN</td>\n      <td>4024.0</td>\n      <td>1438.0</td>\n      <td>12.6</td>\n      <td>4.70</td>\n      <td>1320</td>\n    </tr>\n    <tr>\n      <th>4915</th>\n      <td>ColorColor</td>\n      <td>Jon GunnJon Gunn</td>\n      <td>86.0</td>\n      <td>180.0</td>\n      <td>32.0</td>\n      <td>32.0</td>\n      <td>Brian HerzlingerBrian Herzlinger</td>\n      <td>172.0</td>\n      <td>1.704440e+05</td>\n      <td>DocumentaryDocumentary</td>\n      <td>...</td>\n      <td>168.0</td>\n      <td>EnglishEnglish</td>\n      <td>USAUSA</td>\n      <td>PGPG</td>\n      <td>2200.0</td>\n      <td>4008.0</td>\n      <td>46.0</td>\n      <td>13.2</td>\n      <td>3.70</td>\n      <td>912</td>\n    </tr>\n  </tbody>\n</table>\n<p>4916 rows × 28 columns</p>\n</div>"
     },
     "execution_count": 12,
     "metadata": {},
     "output_type": "execute_result"
    }
   ],
   "source": [
    "# 2. df 和 df运算, 则对应元素直接运算即可.\n",
    "#df + df\n",
    "movie_df + movie_df"
   ],
   "metadata": {
    "collapsed": false,
    "ExecuteTime": {
     "end_time": "2025-05-06T07:30:28.907008Z",
     "start_time": "2025-05-06T07:30:28.879956Z"
    }
   },
   "id": "cdf7cfecbf33219f"
  },
  {
   "cell_type": "code",
   "execution_count": 14,
   "outputs": [
    {
     "data": {
      "text/plain": "           color                       director_name  num_critic_for_reviews  \\\n0     ColorColor          James CameronJames Cameron                  1446.0   \n1     ColorColor        Gore VerbinskiGore Verbinski                   604.0   \n2     ColorColor                Sam MendesSam Mendes                  1204.0   \n3     ColorColor  Christopher NolanChristopher Nolan                  1626.0   \n4            NaN                                 NaN                     NaN   \n...          ...                                 ...                     ...   \n4911         NaN                                 NaN                     NaN   \n4912         NaN                                 NaN                     NaN   \n4913         NaN                                 NaN                     NaN   \n4914         NaN                                 NaN                     NaN   \n4915         NaN                                 NaN                     NaN   \n\n      duration  director_facebook_likes  actor_3_facebook_likes  \\\n0        356.0                      0.0                  1710.0   \n1        338.0                   1126.0                  2000.0   \n2        296.0                      0.0                   322.0   \n3        328.0                  44000.0                 46000.0   \n4          NaN                      NaN                     NaN   \n...        ...                      ...                     ...   \n4911       NaN                      NaN                     NaN   \n4912       NaN                      NaN                     NaN   \n4913       NaN                      NaN                     NaN   \n4914       NaN                      NaN                     NaN   \n4915       NaN                      NaN                     NaN   \n\n                          actor_2_name  actor_1_facebook_likes         gross  \\\n0     Joel David MooreJoel David Moore                  2000.0  1.521012e+09   \n1           Orlando BloomOrlando Bloom                 80000.0  6.188083e+08   \n2             Rory KinnearRory Kinnear                 22000.0  4.001484e+08   \n3         Christian BaleChristian Bale                 54000.0  8.962613e+08   \n4                                  NaN                     NaN           NaN   \n...                                ...                     ...           ...   \n4911                               NaN                     NaN           NaN   \n4912                               NaN                     NaN           NaN   \n4913                               NaN                     NaN           NaN   \n4914                               NaN                     NaN           NaN   \n4915                               NaN                     NaN           NaN   \n\n                                                 genres  ...  \\\n0     Action|Adventure|Fantasy|Sci-FiAction|Adventur...  ...   \n1      Action|Adventure|FantasyAction|Adventure|Fantasy  ...   \n2     Action|Adventure|ThrillerAction|Adventure|Thri...  ...   \n3                        Action|ThrillerAction|Thriller  ...   \n4                                                   NaN  ...   \n...                                                 ...  ...   \n4911                                                NaN  ...   \n4912                                                NaN  ...   \n4913                                                NaN  ...   \n4914                                                NaN  ...   \n4915                                                NaN  ...   \n\n     num_user_for_reviews        language  country  content_rating  \\\n0                  6108.0  EnglishEnglish   USAUSA      PG-13PG-13   \n1                  2476.0  EnglishEnglish   USAUSA      PG-13PG-13   \n2                  1988.0  EnglishEnglish     UKUK      PG-13PG-13   \n3                  5402.0  EnglishEnglish   USAUSA      PG-13PG-13   \n4                     NaN             NaN      NaN             NaN   \n...                   ...             ...      ...             ...   \n4911                  NaN             NaN      NaN             NaN   \n4912                  NaN             NaN      NaN             NaN   \n4913                  NaN             NaN      NaN             NaN   \n4914                  NaN             NaN      NaN             NaN   \n4915                  NaN             NaN      NaN             NaN   \n\n           budget  title_year actor_2_facebook_likes imdb_score  aspect_ratio  \\\n0     474000000.0      4018.0                 1872.0       15.8          3.56   \n1     600000000.0      4014.0                10000.0       14.2          4.70   \n2     490000000.0      4030.0                  786.0       13.6          4.70   \n3     500000000.0      4024.0                46000.0       17.0          4.70   \n4             NaN         NaN                    NaN        NaN           NaN   \n...           ...         ...                    ...        ...           ...   \n4911          NaN         NaN                    NaN        NaN           NaN   \n4912          NaN         NaN                    NaN        NaN           NaN   \n4913          NaN         NaN                    NaN        NaN           NaN   \n4914          NaN         NaN                    NaN        NaN           NaN   \n4915          NaN         NaN                    NaN        NaN           NaN   \n\n     movie_facebook_likes  \n0                 66000.0  \n1                     0.0  \n2                170000.0  \n3                328000.0  \n4                     NaN  \n...                   ...  \n4911                  NaN  \n4912                  NaN  \n4913                  NaN  \n4914                  NaN  \n4915                  NaN  \n\n[4916 rows x 28 columns]",
      "text/html": "<div>\n<style scoped>\n    .dataframe tbody tr th:only-of-type {\n        vertical-align: middle;\n    }\n\n    .dataframe tbody tr th {\n        vertical-align: top;\n    }\n\n    .dataframe thead th {\n        text-align: right;\n    }\n</style>\n<table border=\"1\" class=\"dataframe\">\n  <thead>\n    <tr style=\"text-align: right;\">\n      <th></th>\n      <th>color</th>\n      <th>director_name</th>\n      <th>num_critic_for_reviews</th>\n      <th>duration</th>\n      <th>director_facebook_likes</th>\n      <th>actor_3_facebook_likes</th>\n      <th>actor_2_name</th>\n      <th>actor_1_facebook_likes</th>\n      <th>gross</th>\n      <th>genres</th>\n      <th>...</th>\n      <th>num_user_for_reviews</th>\n      <th>language</th>\n      <th>country</th>\n      <th>content_rating</th>\n      <th>budget</th>\n      <th>title_year</th>\n      <th>actor_2_facebook_likes</th>\n      <th>imdb_score</th>\n      <th>aspect_ratio</th>\n      <th>movie_facebook_likes</th>\n    </tr>\n  </thead>\n  <tbody>\n    <tr>\n      <th>0</th>\n      <td>ColorColor</td>\n      <td>James CameronJames Cameron</td>\n      <td>1446.0</td>\n      <td>356.0</td>\n      <td>0.0</td>\n      <td>1710.0</td>\n      <td>Joel David MooreJoel David Moore</td>\n      <td>2000.0</td>\n      <td>1.521012e+09</td>\n      <td>Action|Adventure|Fantasy|Sci-FiAction|Adventur...</td>\n      <td>...</td>\n      <td>6108.0</td>\n      <td>EnglishEnglish</td>\n      <td>USAUSA</td>\n      <td>PG-13PG-13</td>\n      <td>474000000.0</td>\n      <td>4018.0</td>\n      <td>1872.0</td>\n      <td>15.8</td>\n      <td>3.56</td>\n      <td>66000.0</td>\n    </tr>\n    <tr>\n      <th>1</th>\n      <td>ColorColor</td>\n      <td>Gore VerbinskiGore Verbinski</td>\n      <td>604.0</td>\n      <td>338.0</td>\n      <td>1126.0</td>\n      <td>2000.0</td>\n      <td>Orlando BloomOrlando Bloom</td>\n      <td>80000.0</td>\n      <td>6.188083e+08</td>\n      <td>Action|Adventure|FantasyAction|Adventure|Fantasy</td>\n      <td>...</td>\n      <td>2476.0</td>\n      <td>EnglishEnglish</td>\n      <td>USAUSA</td>\n      <td>PG-13PG-13</td>\n      <td>600000000.0</td>\n      <td>4014.0</td>\n      <td>10000.0</td>\n      <td>14.2</td>\n      <td>4.70</td>\n      <td>0.0</td>\n    </tr>\n    <tr>\n      <th>2</th>\n      <td>ColorColor</td>\n      <td>Sam MendesSam Mendes</td>\n      <td>1204.0</td>\n      <td>296.0</td>\n      <td>0.0</td>\n      <td>322.0</td>\n      <td>Rory KinnearRory Kinnear</td>\n      <td>22000.0</td>\n      <td>4.001484e+08</td>\n      <td>Action|Adventure|ThrillerAction|Adventure|Thri...</td>\n      <td>...</td>\n      <td>1988.0</td>\n      <td>EnglishEnglish</td>\n      <td>UKUK</td>\n      <td>PG-13PG-13</td>\n      <td>490000000.0</td>\n      <td>4030.0</td>\n      <td>786.0</td>\n      <td>13.6</td>\n      <td>4.70</td>\n      <td>170000.0</td>\n    </tr>\n    <tr>\n      <th>3</th>\n      <td>ColorColor</td>\n      <td>Christopher NolanChristopher Nolan</td>\n      <td>1626.0</td>\n      <td>328.0</td>\n      <td>44000.0</td>\n      <td>46000.0</td>\n      <td>Christian BaleChristian Bale</td>\n      <td>54000.0</td>\n      <td>8.962613e+08</td>\n      <td>Action|ThrillerAction|Thriller</td>\n      <td>...</td>\n      <td>5402.0</td>\n      <td>EnglishEnglish</td>\n      <td>USAUSA</td>\n      <td>PG-13PG-13</td>\n      <td>500000000.0</td>\n      <td>4024.0</td>\n      <td>46000.0</td>\n      <td>17.0</td>\n      <td>4.70</td>\n      <td>328000.0</td>\n    </tr>\n    <tr>\n      <th>4</th>\n      <td>NaN</td>\n      <td>NaN</td>\n      <td>NaN</td>\n      <td>NaN</td>\n      <td>NaN</td>\n      <td>NaN</td>\n      <td>NaN</td>\n      <td>NaN</td>\n      <td>NaN</td>\n      <td>NaN</td>\n      <td>...</td>\n      <td>NaN</td>\n      <td>NaN</td>\n      <td>NaN</td>\n      <td>NaN</td>\n      <td>NaN</td>\n      <td>NaN</td>\n      <td>NaN</td>\n      <td>NaN</td>\n      <td>NaN</td>\n      <td>NaN</td>\n    </tr>\n    <tr>\n      <th>...</th>\n      <td>...</td>\n      <td>...</td>\n      <td>...</td>\n      <td>...</td>\n      <td>...</td>\n      <td>...</td>\n      <td>...</td>\n      <td>...</td>\n      <td>...</td>\n      <td>...</td>\n      <td>...</td>\n      <td>...</td>\n      <td>...</td>\n      <td>...</td>\n      <td>...</td>\n      <td>...</td>\n      <td>...</td>\n      <td>...</td>\n      <td>...</td>\n      <td>...</td>\n      <td>...</td>\n    </tr>\n    <tr>\n      <th>4911</th>\n      <td>NaN</td>\n      <td>NaN</td>\n      <td>NaN</td>\n      <td>NaN</td>\n      <td>NaN</td>\n      <td>NaN</td>\n      <td>NaN</td>\n      <td>NaN</td>\n      <td>NaN</td>\n      <td>NaN</td>\n      <td>...</td>\n      <td>NaN</td>\n      <td>NaN</td>\n      <td>NaN</td>\n      <td>NaN</td>\n      <td>NaN</td>\n      <td>NaN</td>\n      <td>NaN</td>\n      <td>NaN</td>\n      <td>NaN</td>\n      <td>NaN</td>\n    </tr>\n    <tr>\n      <th>4912</th>\n      <td>NaN</td>\n      <td>NaN</td>\n      <td>NaN</td>\n      <td>NaN</td>\n      <td>NaN</td>\n      <td>NaN</td>\n      <td>NaN</td>\n      <td>NaN</td>\n      <td>NaN</td>\n      <td>NaN</td>\n      <td>...</td>\n      <td>NaN</td>\n      <td>NaN</td>\n      <td>NaN</td>\n      <td>NaN</td>\n      <td>NaN</td>\n      <td>NaN</td>\n      <td>NaN</td>\n      <td>NaN</td>\n      <td>NaN</td>\n      <td>NaN</td>\n    </tr>\n    <tr>\n      <th>4913</th>\n      <td>NaN</td>\n      <td>NaN</td>\n      <td>NaN</td>\n      <td>NaN</td>\n      <td>NaN</td>\n      <td>NaN</td>\n      <td>NaN</td>\n      <td>NaN</td>\n      <td>NaN</td>\n      <td>NaN</td>\n      <td>...</td>\n      <td>NaN</td>\n      <td>NaN</td>\n      <td>NaN</td>\n      <td>NaN</td>\n      <td>NaN</td>\n      <td>NaN</td>\n      <td>NaN</td>\n      <td>NaN</td>\n      <td>NaN</td>\n      <td>NaN</td>\n    </tr>\n    <tr>\n      <th>4914</th>\n      <td>NaN</td>\n      <td>NaN</td>\n      <td>NaN</td>\n      <td>NaN</td>\n      <td>NaN</td>\n      <td>NaN</td>\n      <td>NaN</td>\n      <td>NaN</td>\n      <td>NaN</td>\n      <td>NaN</td>\n      <td>...</td>\n      <td>NaN</td>\n      <td>NaN</td>\n      <td>NaN</td>\n      <td>NaN</td>\n      <td>NaN</td>\n      <td>NaN</td>\n      <td>NaN</td>\n      <td>NaN</td>\n      <td>NaN</td>\n      <td>NaN</td>\n    </tr>\n    <tr>\n      <th>4915</th>\n      <td>NaN</td>\n      <td>NaN</td>\n      <td>NaN</td>\n      <td>NaN</td>\n      <td>NaN</td>\n      <td>NaN</td>\n      <td>NaN</td>\n      <td>NaN</td>\n      <td>NaN</td>\n      <td>NaN</td>\n      <td>...</td>\n      <td>NaN</td>\n      <td>NaN</td>\n      <td>NaN</td>\n      <td>NaN</td>\n      <td>NaN</td>\n      <td>NaN</td>\n      <td>NaN</td>\n      <td>NaN</td>\n      <td>NaN</td>\n      <td>NaN</td>\n    </tr>\n  </tbody>\n</table>\n<p>4916 rows × 28 columns</p>\n</div>"
     },
     "execution_count": 14,
     "metadata": {},
     "output_type": "execute_result"
    }
   ],
   "source": [
    "# 3. df 和 df运算, 如果索引不匹配, 则用NaN填充, 索引匹配的直接计算\n",
    "# df[:4]\n",
    "movie_df[:4] + movie_df"
   ],
   "metadata": {
    "collapsed": false,
    "ExecuteTime": {
     "end_time": "2025-05-06T07:30:43.139102Z",
     "start_time": "2025-05-06T07:30:43.086084Z"
    }
   },
   "id": "6d17253a62132658"
  },
  {
   "cell_type": "markdown",
   "source": [
    "# 5. 更改Series和DataFrame对象的 行索引, 列名"
   ],
   "metadata": {
    "collapsed": false
   },
   "id": "71a34ddfa795ae50"
  },
  {
   "cell_type": "markdown",
   "source": [
    "## 5.1 读取文件后, 设置行索引"
   ],
   "metadata": {
    "collapsed": false
   },
   "id": "1b0ea40d844214d5"
  },
  {
   "cell_type": "code",
   "execution_count": null,
   "outputs": [],
   "source": [
    "# 1. 读取数据源文件, 获取 df对象\n",
    "movie = pd.read_csv('../data/movie.csv')\n",
    "movie.head()"
   ],
   "metadata": {
    "collapsed": false
   },
   "id": "4e6cb6e117e5797c"
  },
  {
   "cell_type": "code",
   "execution_count": 15,
   "outputs": [
    {
     "data": {
      "text/plain": "                                            color      director_name  \\\nmovie_title                                                            \nAvatar                                      Color      James Cameron   \nPirates of the Caribbean: At World's End    Color     Gore Verbinski   \nSpectre                                     Color         Sam Mendes   \nThe Dark Knight Rises                       Color  Christopher Nolan   \nStar Wars: Episode VII - The Force Awakens    NaN        Doug Walker   \n...                                           ...                ...   \nSigned Sealed Delivered                     Color        Scott Smith   \nThe Following                               Color                NaN   \nA Plague So Pleasant                        Color   Benjamin Roberds   \nShanghai Calling                            Color        Daniel Hsia   \nMy Date with Drew                           Color           Jon Gunn   \n\n                                            num_critic_for_reviews  duration  \\\nmovie_title                                                                    \nAvatar                                                       723.0     178.0   \nPirates of the Caribbean: At World's End                     302.0     169.0   \nSpectre                                                      602.0     148.0   \nThe Dark Knight Rises                                        813.0     164.0   \nStar Wars: Episode VII - The Force Awakens                     NaN       NaN   \n...                                                            ...       ...   \nSigned Sealed Delivered                                        1.0      87.0   \nThe Following                                                 43.0      43.0   \nA Plague So Pleasant                                          13.0      76.0   \nShanghai Calling                                              14.0     100.0   \nMy Date with Drew                                             43.0      90.0   \n\n                                            director_facebook_likes  \\\nmovie_title                                                           \nAvatar                                                          0.0   \nPirates of the Caribbean: At World's End                      563.0   \nSpectre                                                         0.0   \nThe Dark Knight Rises                                       22000.0   \nStar Wars: Episode VII - The Force Awakens                    131.0   \n...                                                             ...   \nSigned Sealed Delivered                                         2.0   \nThe Following                                                   NaN   \nA Plague So Pleasant                                            0.0   \nShanghai Calling                                                0.0   \nMy Date with Drew                                              16.0   \n\n                                            actor_3_facebook_likes  \\\nmovie_title                                                          \nAvatar                                                       855.0   \nPirates of the Caribbean: At World's End                    1000.0   \nSpectre                                                      161.0   \nThe Dark Knight Rises                                      23000.0   \nStar Wars: Episode VII - The Force Awakens                     NaN   \n...                                                            ...   \nSigned Sealed Delivered                                      318.0   \nThe Following                                                319.0   \nA Plague So Pleasant                                           0.0   \nShanghai Calling                                             489.0   \nMy Date with Drew                                             16.0   \n\n                                                actor_2_name  \\\nmovie_title                                                    \nAvatar                                      Joel David Moore   \nPirates of the Caribbean: At World's End       Orlando Bloom   \nSpectre                                         Rory Kinnear   \nThe Dark Knight Rises                         Christian Bale   \nStar Wars: Episode VII - The Force Awakens        Rob Walker   \n...                                                      ...   \nSigned Sealed Delivered                        Daphne Zuniga   \nThe Following                                  Valorie Curry   \nA Plague So Pleasant                           Maxwell Moody   \nShanghai Calling                               Daniel Henney   \nMy Date with Drew                           Brian Herzlinger   \n\n                                            actor_1_facebook_likes  \\\nmovie_title                                                          \nAvatar                                                      1000.0   \nPirates of the Caribbean: At World's End                   40000.0   \nSpectre                                                    11000.0   \nThe Dark Knight Rises                                      27000.0   \nStar Wars: Episode VII - The Force Awakens                   131.0   \n...                                                            ...   \nSigned Sealed Delivered                                      637.0   \nThe Following                                                841.0   \nA Plague So Pleasant                                           0.0   \nShanghai Calling                                             946.0   \nMy Date with Drew                                             86.0   \n\n                                                  gross  \\\nmovie_title                                               \nAvatar                                      760505847.0   \nPirates of the Caribbean: At World's End    309404152.0   \nSpectre                                     200074175.0   \nThe Dark Knight Rises                       448130642.0   \nStar Wars: Episode VII - The Force Awakens          NaN   \n...                                                 ...   \nSigned Sealed Delivered                             NaN   \nThe Following                                       NaN   \nA Plague So Pleasant                                NaN   \nShanghai Calling                                10443.0   \nMy Date with Drew                               85222.0   \n\n                                                                     genres  \\\nmovie_title                                                                   \nAvatar                                      Action|Adventure|Fantasy|Sci-Fi   \nPirates of the Caribbean: At World's End           Action|Adventure|Fantasy   \nSpectre                                           Action|Adventure|Thriller   \nThe Dark Knight Rises                                       Action|Thriller   \nStar Wars: Episode VII - The Force Awakens                      Documentary   \n...                                                                     ...   \nSigned Sealed Delivered                                        Comedy|Drama   \nThe Following                                  Crime|Drama|Mystery|Thriller   \nA Plague So Pleasant                                  Drama|Horror|Thriller   \nShanghai Calling                                       Comedy|Drama|Romance   \nMy Date with Drew                                               Documentary   \n\n                                            ... num_user_for_reviews  \\\nmovie_title                                 ...                        \nAvatar                                      ...               3054.0   \nPirates of the Caribbean: At World's End    ...               1238.0   \nSpectre                                     ...                994.0   \nThe Dark Knight Rises                       ...               2701.0   \nStar Wars: Episode VII - The Force Awakens  ...                  NaN   \n...                                         ...                  ...   \nSigned Sealed Delivered                     ...                  6.0   \nThe Following                               ...                359.0   \nA Plague So Pleasant                        ...                  3.0   \nShanghai Calling                            ...                  9.0   \nMy Date with Drew                           ...                 84.0   \n\n                                            language  country content_rating  \\\nmovie_title                                                                    \nAvatar                                       English      USA          PG-13   \nPirates of the Caribbean: At World's End     English      USA          PG-13   \nSpectre                                      English       UK          PG-13   \nThe Dark Knight Rises                        English      USA          PG-13   \nStar Wars: Episode VII - The Force Awakens       NaN      NaN            NaN   \n...                                              ...      ...            ...   \nSigned Sealed Delivered                      English   Canada            NaN   \nThe Following                                English      USA          TV-14   \nA Plague So Pleasant                         English      USA            NaN   \nShanghai Calling                             English      USA          PG-13   \nMy Date with Drew                            English      USA             PG   \n\n                                                 budget title_year  \\\nmovie_title                                                          \nAvatar                                      237000000.0     2009.0   \nPirates of the Caribbean: At World's End    300000000.0     2007.0   \nSpectre                                     245000000.0     2015.0   \nThe Dark Knight Rises                       250000000.0     2012.0   \nStar Wars: Episode VII - The Force Awakens          NaN        NaN   \n...                                                 ...        ...   \nSigned Sealed Delivered                             NaN     2013.0   \nThe Following                                       NaN        NaN   \nA Plague So Pleasant                             1400.0     2013.0   \nShanghai Calling                                    NaN     2012.0   \nMy Date with Drew                                1100.0     2004.0   \n\n                                           actor_2_facebook_likes  imdb_score  \\\nmovie_title                                                                     \nAvatar                                                      936.0         7.9   \nPirates of the Caribbean: At World's End                   5000.0         7.1   \nSpectre                                                     393.0         6.8   \nThe Dark Knight Rises                                     23000.0         8.5   \nStar Wars: Episode VII - The Force Awakens                   12.0         7.1   \n...                                                           ...         ...   \nSigned Sealed Delivered                                     470.0         7.7   \nThe Following                                               593.0         7.5   \nA Plague So Pleasant                                          0.0         6.3   \nShanghai Calling                                            719.0         6.3   \nMy Date with Drew                                            23.0         6.6   \n\n                                           aspect_ratio movie_facebook_likes  \nmovie_title                                                                   \nAvatar                                             1.78                33000  \nPirates of the Caribbean: At World's End           2.35                    0  \nSpectre                                            2.35                85000  \nThe Dark Knight Rises                              2.35               164000  \nStar Wars: Episode VII - The Force Awakens          NaN                    0  \n...                                                 ...                  ...  \nSigned Sealed Delivered                             NaN                   84  \nThe Following                                     16.00                32000  \nA Plague So Pleasant                                NaN                   16  \nShanghai Calling                                   2.35                  660  \nMy Date with Drew                                  1.85                  456  \n\n[4916 rows x 27 columns]",
      "text/html": "<div>\n<style scoped>\n    .dataframe tbody tr th:only-of-type {\n        vertical-align: middle;\n    }\n\n    .dataframe tbody tr th {\n        vertical-align: top;\n    }\n\n    .dataframe thead th {\n        text-align: right;\n    }\n</style>\n<table border=\"1\" class=\"dataframe\">\n  <thead>\n    <tr style=\"text-align: right;\">\n      <th></th>\n      <th>color</th>\n      <th>director_name</th>\n      <th>num_critic_for_reviews</th>\n      <th>duration</th>\n      <th>director_facebook_likes</th>\n      <th>actor_3_facebook_likes</th>\n      <th>actor_2_name</th>\n      <th>actor_1_facebook_likes</th>\n      <th>gross</th>\n      <th>genres</th>\n      <th>...</th>\n      <th>num_user_for_reviews</th>\n      <th>language</th>\n      <th>country</th>\n      <th>content_rating</th>\n      <th>budget</th>\n      <th>title_year</th>\n      <th>actor_2_facebook_likes</th>\n      <th>imdb_score</th>\n      <th>aspect_ratio</th>\n      <th>movie_facebook_likes</th>\n    </tr>\n    <tr>\n      <th>movie_title</th>\n      <th></th>\n      <th></th>\n      <th></th>\n      <th></th>\n      <th></th>\n      <th></th>\n      <th></th>\n      <th></th>\n      <th></th>\n      <th></th>\n      <th></th>\n      <th></th>\n      <th></th>\n      <th></th>\n      <th></th>\n      <th></th>\n      <th></th>\n      <th></th>\n      <th></th>\n      <th></th>\n      <th></th>\n    </tr>\n  </thead>\n  <tbody>\n    <tr>\n      <th>Avatar</th>\n      <td>Color</td>\n      <td>James Cameron</td>\n      <td>723.0</td>\n      <td>178.0</td>\n      <td>0.0</td>\n      <td>855.0</td>\n      <td>Joel David Moore</td>\n      <td>1000.0</td>\n      <td>760505847.0</td>\n      <td>Action|Adventure|Fantasy|Sci-Fi</td>\n      <td>...</td>\n      <td>3054.0</td>\n      <td>English</td>\n      <td>USA</td>\n      <td>PG-13</td>\n      <td>237000000.0</td>\n      <td>2009.0</td>\n      <td>936.0</td>\n      <td>7.9</td>\n      <td>1.78</td>\n      <td>33000</td>\n    </tr>\n    <tr>\n      <th>Pirates of the Caribbean: At World's End</th>\n      <td>Color</td>\n      <td>Gore Verbinski</td>\n      <td>302.0</td>\n      <td>169.0</td>\n      <td>563.0</td>\n      <td>1000.0</td>\n      <td>Orlando Bloom</td>\n      <td>40000.0</td>\n      <td>309404152.0</td>\n      <td>Action|Adventure|Fantasy</td>\n      <td>...</td>\n      <td>1238.0</td>\n      <td>English</td>\n      <td>USA</td>\n      <td>PG-13</td>\n      <td>300000000.0</td>\n      <td>2007.0</td>\n      <td>5000.0</td>\n      <td>7.1</td>\n      <td>2.35</td>\n      <td>0</td>\n    </tr>\n    <tr>\n      <th>Spectre</th>\n      <td>Color</td>\n      <td>Sam Mendes</td>\n      <td>602.0</td>\n      <td>148.0</td>\n      <td>0.0</td>\n      <td>161.0</td>\n      <td>Rory Kinnear</td>\n      <td>11000.0</td>\n      <td>200074175.0</td>\n      <td>Action|Adventure|Thriller</td>\n      <td>...</td>\n      <td>994.0</td>\n      <td>English</td>\n      <td>UK</td>\n      <td>PG-13</td>\n      <td>245000000.0</td>\n      <td>2015.0</td>\n      <td>393.0</td>\n      <td>6.8</td>\n      <td>2.35</td>\n      <td>85000</td>\n    </tr>\n    <tr>\n      <th>The Dark Knight Rises</th>\n      <td>Color</td>\n      <td>Christopher Nolan</td>\n      <td>813.0</td>\n      <td>164.0</td>\n      <td>22000.0</td>\n      <td>23000.0</td>\n      <td>Christian Bale</td>\n      <td>27000.0</td>\n      <td>448130642.0</td>\n      <td>Action|Thriller</td>\n      <td>...</td>\n      <td>2701.0</td>\n      <td>English</td>\n      <td>USA</td>\n      <td>PG-13</td>\n      <td>250000000.0</td>\n      <td>2012.0</td>\n      <td>23000.0</td>\n      <td>8.5</td>\n      <td>2.35</td>\n      <td>164000</td>\n    </tr>\n    <tr>\n      <th>Star Wars: Episode VII - The Force Awakens</th>\n      <td>NaN</td>\n      <td>Doug Walker</td>\n      <td>NaN</td>\n      <td>NaN</td>\n      <td>131.0</td>\n      <td>NaN</td>\n      <td>Rob Walker</td>\n      <td>131.0</td>\n      <td>NaN</td>\n      <td>Documentary</td>\n      <td>...</td>\n      <td>NaN</td>\n      <td>NaN</td>\n      <td>NaN</td>\n      <td>NaN</td>\n      <td>NaN</td>\n      <td>NaN</td>\n      <td>12.0</td>\n      <td>7.1</td>\n      <td>NaN</td>\n      <td>0</td>\n    </tr>\n    <tr>\n      <th>...</th>\n      <td>...</td>\n      <td>...</td>\n      <td>...</td>\n      <td>...</td>\n      <td>...</td>\n      <td>...</td>\n      <td>...</td>\n      <td>...</td>\n      <td>...</td>\n      <td>...</td>\n      <td>...</td>\n      <td>...</td>\n      <td>...</td>\n      <td>...</td>\n      <td>...</td>\n      <td>...</td>\n      <td>...</td>\n      <td>...</td>\n      <td>...</td>\n      <td>...</td>\n      <td>...</td>\n    </tr>\n    <tr>\n      <th>Signed Sealed Delivered</th>\n      <td>Color</td>\n      <td>Scott Smith</td>\n      <td>1.0</td>\n      <td>87.0</td>\n      <td>2.0</td>\n      <td>318.0</td>\n      <td>Daphne Zuniga</td>\n      <td>637.0</td>\n      <td>NaN</td>\n      <td>Comedy|Drama</td>\n      <td>...</td>\n      <td>6.0</td>\n      <td>English</td>\n      <td>Canada</td>\n      <td>NaN</td>\n      <td>NaN</td>\n      <td>2013.0</td>\n      <td>470.0</td>\n      <td>7.7</td>\n      <td>NaN</td>\n      <td>84</td>\n    </tr>\n    <tr>\n      <th>The Following</th>\n      <td>Color</td>\n      <td>NaN</td>\n      <td>43.0</td>\n      <td>43.0</td>\n      <td>NaN</td>\n      <td>319.0</td>\n      <td>Valorie Curry</td>\n      <td>841.0</td>\n      <td>NaN</td>\n      <td>Crime|Drama|Mystery|Thriller</td>\n      <td>...</td>\n      <td>359.0</td>\n      <td>English</td>\n      <td>USA</td>\n      <td>TV-14</td>\n      <td>NaN</td>\n      <td>NaN</td>\n      <td>593.0</td>\n      <td>7.5</td>\n      <td>16.00</td>\n      <td>32000</td>\n    </tr>\n    <tr>\n      <th>A Plague So Pleasant</th>\n      <td>Color</td>\n      <td>Benjamin Roberds</td>\n      <td>13.0</td>\n      <td>76.0</td>\n      <td>0.0</td>\n      <td>0.0</td>\n      <td>Maxwell Moody</td>\n      <td>0.0</td>\n      <td>NaN</td>\n      <td>Drama|Horror|Thriller</td>\n      <td>...</td>\n      <td>3.0</td>\n      <td>English</td>\n      <td>USA</td>\n      <td>NaN</td>\n      <td>1400.0</td>\n      <td>2013.0</td>\n      <td>0.0</td>\n      <td>6.3</td>\n      <td>NaN</td>\n      <td>16</td>\n    </tr>\n    <tr>\n      <th>Shanghai Calling</th>\n      <td>Color</td>\n      <td>Daniel Hsia</td>\n      <td>14.0</td>\n      <td>100.0</td>\n      <td>0.0</td>\n      <td>489.0</td>\n      <td>Daniel Henney</td>\n      <td>946.0</td>\n      <td>10443.0</td>\n      <td>Comedy|Drama|Romance</td>\n      <td>...</td>\n      <td>9.0</td>\n      <td>English</td>\n      <td>USA</td>\n      <td>PG-13</td>\n      <td>NaN</td>\n      <td>2012.0</td>\n      <td>719.0</td>\n      <td>6.3</td>\n      <td>2.35</td>\n      <td>660</td>\n    </tr>\n    <tr>\n      <th>My Date with Drew</th>\n      <td>Color</td>\n      <td>Jon Gunn</td>\n      <td>43.0</td>\n      <td>90.0</td>\n      <td>16.0</td>\n      <td>16.0</td>\n      <td>Brian Herzlinger</td>\n      <td>86.0</td>\n      <td>85222.0</td>\n      <td>Documentary</td>\n      <td>...</td>\n      <td>84.0</td>\n      <td>English</td>\n      <td>USA</td>\n      <td>PG</td>\n      <td>1100.0</td>\n      <td>2004.0</td>\n      <td>23.0</td>\n      <td>6.6</td>\n      <td>1.85</td>\n      <td>456</td>\n    </tr>\n  </tbody>\n</table>\n<p>4916 rows × 27 columns</p>\n</div>"
     },
     "execution_count": 15,
     "metadata": {},
     "output_type": "execute_result"
    }
   ],
   "source": [
    "# 2. 设置 movie_title(电影名) 为 行索引\n",
    "# 在Pandas中, 大部分的函数, 都是在源数据拷贝一份进行修改, 并返回副本. 而这类函数都有一个特点, 即: 有 inplace参数. \n",
    "# 默认 inplace=False, 即: 返回副本, 不修改源数据.   如果inplace=True, 则是直接修改 源数据.\n",
    "# 语法： df.set_index('x',inplace=True)\n",
    "movie_df.set_index('movie_title',inplace=True)\n",
    "#需求：设置索引：movie_title\n",
    "\n"
   ],
   "metadata": {
    "collapsed": false,
    "ExecuteTime": {
     "end_time": "2025-05-06T07:34:53.045525Z",
     "start_time": "2025-05-06T07:34:52.998555Z"
    }
   },
   "id": "39d314d966345b26"
  },
  {
   "cell_type": "code",
   "execution_count": null,
   "outputs": [],
   "source": [
    "# 3. 查看设置后的 movie这个df对象.\n",
    "# 查看前5行\n",
    "\n",
    "movie.head()\n"
   ],
   "metadata": {
    "collapsed": false
   },
   "id": "967cf0af019fecac"
  },
  {
   "cell_type": "markdown",
   "source": [
    "## 5.2 读取文件时, 设置行索引"
   ],
   "metadata": {
    "collapsed": false
   },
   "id": "b81befc2c63d47d3"
  },
  {
   "cell_type": "code",
   "execution_count": 16,
   "outputs": [
    {
     "data": {
      "text/plain": "                                            color      director_name  \\\nmovie_title                                                            \nAvatar                                      Color      James Cameron   \nPirates of the Caribbean: At World's End    Color     Gore Verbinski   \nSpectre                                     Color         Sam Mendes   \nThe Dark Knight Rises                       Color  Christopher Nolan   \nStar Wars: Episode VII - The Force Awakens    NaN        Doug Walker   \n\n                                            num_critic_for_reviews  duration  \\\nmovie_title                                                                    \nAvatar                                                       723.0     178.0   \nPirates of the Caribbean: At World's End                     302.0     169.0   \nSpectre                                                      602.0     148.0   \nThe Dark Knight Rises                                        813.0     164.0   \nStar Wars: Episode VII - The Force Awakens                     NaN       NaN   \n\n                                            director_facebook_likes  \\\nmovie_title                                                           \nAvatar                                                          0.0   \nPirates of the Caribbean: At World's End                      563.0   \nSpectre                                                         0.0   \nThe Dark Knight Rises                                       22000.0   \nStar Wars: Episode VII - The Force Awakens                    131.0   \n\n                                            actor_3_facebook_likes  \\\nmovie_title                                                          \nAvatar                                                       855.0   \nPirates of the Caribbean: At World's End                    1000.0   \nSpectre                                                      161.0   \nThe Dark Knight Rises                                      23000.0   \nStar Wars: Episode VII - The Force Awakens                     NaN   \n\n                                                actor_2_name  \\\nmovie_title                                                    \nAvatar                                      Joel David Moore   \nPirates of the Caribbean: At World's End       Orlando Bloom   \nSpectre                                         Rory Kinnear   \nThe Dark Knight Rises                         Christian Bale   \nStar Wars: Episode VII - The Force Awakens        Rob Walker   \n\n                                            actor_1_facebook_likes  \\\nmovie_title                                                          \nAvatar                                                      1000.0   \nPirates of the Caribbean: At World's End                   40000.0   \nSpectre                                                    11000.0   \nThe Dark Knight Rises                                      27000.0   \nStar Wars: Episode VII - The Force Awakens                   131.0   \n\n                                                  gross  \\\nmovie_title                                               \nAvatar                                      760505847.0   \nPirates of the Caribbean: At World's End    309404152.0   \nSpectre                                     200074175.0   \nThe Dark Knight Rises                       448130642.0   \nStar Wars: Episode VII - The Force Awakens          NaN   \n\n                                                                     genres  \\\nmovie_title                                                                   \nAvatar                                      Action|Adventure|Fantasy|Sci-Fi   \nPirates of the Caribbean: At World's End           Action|Adventure|Fantasy   \nSpectre                                           Action|Adventure|Thriller   \nThe Dark Knight Rises                                       Action|Thriller   \nStar Wars: Episode VII - The Force Awakens                      Documentary   \n\n                                            ... num_user_for_reviews  \\\nmovie_title                                 ...                        \nAvatar                                      ...               3054.0   \nPirates of the Caribbean: At World's End    ...               1238.0   \nSpectre                                     ...                994.0   \nThe Dark Knight Rises                       ...               2701.0   \nStar Wars: Episode VII - The Force Awakens  ...                  NaN   \n\n                                            language  country content_rating  \\\nmovie_title                                                                    \nAvatar                                       English      USA          PG-13   \nPirates of the Caribbean: At World's End     English      USA          PG-13   \nSpectre                                      English       UK          PG-13   \nThe Dark Knight Rises                        English      USA          PG-13   \nStar Wars: Episode VII - The Force Awakens       NaN      NaN            NaN   \n\n                                                 budget title_year  \\\nmovie_title                                                          \nAvatar                                      237000000.0     2009.0   \nPirates of the Caribbean: At World's End    300000000.0     2007.0   \nSpectre                                     245000000.0     2015.0   \nThe Dark Knight Rises                       250000000.0     2012.0   \nStar Wars: Episode VII - The Force Awakens          NaN        NaN   \n\n                                           actor_2_facebook_likes  imdb_score  \\\nmovie_title                                                                     \nAvatar                                                      936.0         7.9   \nPirates of the Caribbean: At World's End                   5000.0         7.1   \nSpectre                                                     393.0         6.8   \nThe Dark Knight Rises                                     23000.0         8.5   \nStar Wars: Episode VII - The Force Awakens                   12.0         7.1   \n\n                                           aspect_ratio movie_facebook_likes  \nmovie_title                                                                   \nAvatar                                             1.78                33000  \nPirates of the Caribbean: At World's End           2.35                    0  \nSpectre                                            2.35                85000  \nThe Dark Knight Rises                              2.35               164000  \nStar Wars: Episode VII - The Force Awakens          NaN                    0  \n\n[5 rows x 27 columns]",
      "text/html": "<div>\n<style scoped>\n    .dataframe tbody tr th:only-of-type {\n        vertical-align: middle;\n    }\n\n    .dataframe tbody tr th {\n        vertical-align: top;\n    }\n\n    .dataframe thead th {\n        text-align: right;\n    }\n</style>\n<table border=\"1\" class=\"dataframe\">\n  <thead>\n    <tr style=\"text-align: right;\">\n      <th></th>\n      <th>color</th>\n      <th>director_name</th>\n      <th>num_critic_for_reviews</th>\n      <th>duration</th>\n      <th>director_facebook_likes</th>\n      <th>actor_3_facebook_likes</th>\n      <th>actor_2_name</th>\n      <th>actor_1_facebook_likes</th>\n      <th>gross</th>\n      <th>genres</th>\n      <th>...</th>\n      <th>num_user_for_reviews</th>\n      <th>language</th>\n      <th>country</th>\n      <th>content_rating</th>\n      <th>budget</th>\n      <th>title_year</th>\n      <th>actor_2_facebook_likes</th>\n      <th>imdb_score</th>\n      <th>aspect_ratio</th>\n      <th>movie_facebook_likes</th>\n    </tr>\n    <tr>\n      <th>movie_title</th>\n      <th></th>\n      <th></th>\n      <th></th>\n      <th></th>\n      <th></th>\n      <th></th>\n      <th></th>\n      <th></th>\n      <th></th>\n      <th></th>\n      <th></th>\n      <th></th>\n      <th></th>\n      <th></th>\n      <th></th>\n      <th></th>\n      <th></th>\n      <th></th>\n      <th></th>\n      <th></th>\n      <th></th>\n    </tr>\n  </thead>\n  <tbody>\n    <tr>\n      <th>Avatar</th>\n      <td>Color</td>\n      <td>James Cameron</td>\n      <td>723.0</td>\n      <td>178.0</td>\n      <td>0.0</td>\n      <td>855.0</td>\n      <td>Joel David Moore</td>\n      <td>1000.0</td>\n      <td>760505847.0</td>\n      <td>Action|Adventure|Fantasy|Sci-Fi</td>\n      <td>...</td>\n      <td>3054.0</td>\n      <td>English</td>\n      <td>USA</td>\n      <td>PG-13</td>\n      <td>237000000.0</td>\n      <td>2009.0</td>\n      <td>936.0</td>\n      <td>7.9</td>\n      <td>1.78</td>\n      <td>33000</td>\n    </tr>\n    <tr>\n      <th>Pirates of the Caribbean: At World's End</th>\n      <td>Color</td>\n      <td>Gore Verbinski</td>\n      <td>302.0</td>\n      <td>169.0</td>\n      <td>563.0</td>\n      <td>1000.0</td>\n      <td>Orlando Bloom</td>\n      <td>40000.0</td>\n      <td>309404152.0</td>\n      <td>Action|Adventure|Fantasy</td>\n      <td>...</td>\n      <td>1238.0</td>\n      <td>English</td>\n      <td>USA</td>\n      <td>PG-13</td>\n      <td>300000000.0</td>\n      <td>2007.0</td>\n      <td>5000.0</td>\n      <td>7.1</td>\n      <td>2.35</td>\n      <td>0</td>\n    </tr>\n    <tr>\n      <th>Spectre</th>\n      <td>Color</td>\n      <td>Sam Mendes</td>\n      <td>602.0</td>\n      <td>148.0</td>\n      <td>0.0</td>\n      <td>161.0</td>\n      <td>Rory Kinnear</td>\n      <td>11000.0</td>\n      <td>200074175.0</td>\n      <td>Action|Adventure|Thriller</td>\n      <td>...</td>\n      <td>994.0</td>\n      <td>English</td>\n      <td>UK</td>\n      <td>PG-13</td>\n      <td>245000000.0</td>\n      <td>2015.0</td>\n      <td>393.0</td>\n      <td>6.8</td>\n      <td>2.35</td>\n      <td>85000</td>\n    </tr>\n    <tr>\n      <th>The Dark Knight Rises</th>\n      <td>Color</td>\n      <td>Christopher Nolan</td>\n      <td>813.0</td>\n      <td>164.0</td>\n      <td>22000.0</td>\n      <td>23000.0</td>\n      <td>Christian Bale</td>\n      <td>27000.0</td>\n      <td>448130642.0</td>\n      <td>Action|Thriller</td>\n      <td>...</td>\n      <td>2701.0</td>\n      <td>English</td>\n      <td>USA</td>\n      <td>PG-13</td>\n      <td>250000000.0</td>\n      <td>2012.0</td>\n      <td>23000.0</td>\n      <td>8.5</td>\n      <td>2.35</td>\n      <td>164000</td>\n    </tr>\n    <tr>\n      <th>Star Wars: Episode VII - The Force Awakens</th>\n      <td>NaN</td>\n      <td>Doug Walker</td>\n      <td>NaN</td>\n      <td>NaN</td>\n      <td>131.0</td>\n      <td>NaN</td>\n      <td>Rob Walker</td>\n      <td>131.0</td>\n      <td>NaN</td>\n      <td>Documentary</td>\n      <td>...</td>\n      <td>NaN</td>\n      <td>NaN</td>\n      <td>NaN</td>\n      <td>NaN</td>\n      <td>NaN</td>\n      <td>NaN</td>\n      <td>12.0</td>\n      <td>7.1</td>\n      <td>NaN</td>\n      <td>0</td>\n    </tr>\n  </tbody>\n</table>\n<p>5 rows × 27 columns</p>\n</div>"
     },
     "execution_count": 16,
     "metadata": {},
     "output_type": "execute_result"
    }
   ],
   "source": [
    "# 1. 读取数据源文件, 获取 df对象, 指定 电影名为 行索引\n",
    "movie2 = pd.read_csv('../data/movie.csv', index_col='movie_title')\n",
    "movie2.head()"
   ],
   "metadata": {
    "collapsed": false,
    "ExecuteTime": {
     "end_time": "2025-05-06T07:35:46.259722Z",
     "start_time": "2025-05-06T07:35:46.225284Z"
    }
   },
   "id": "32a6d15ceb47f42f"
  },
  {
   "cell_type": "markdown",
   "source": [
    "## 5.3 取消设置的行索引, 归为: 系统自动提供的 0 ~ n"
   ],
   "metadata": {
    "collapsed": false
   },
   "id": "319c01a1523956b9"
  },
  {
   "cell_type": "code",
   "execution_count": 18,
   "outputs": [
    {
     "data": {
      "text/plain": "   level_0  index  color      director_name  num_critic_for_reviews  duration  \\\n0        0      0  Color      James Cameron                   723.0     178.0   \n1        1      1  Color     Gore Verbinski                   302.0     169.0   \n2        2      2  Color         Sam Mendes                   602.0     148.0   \n3        3      3  Color  Christopher Nolan                   813.0     164.0   \n4        4      4    NaN        Doug Walker                     NaN       NaN   \n\n   director_facebook_likes  actor_3_facebook_likes      actor_2_name  \\\n0                      0.0                   855.0  Joel David Moore   \n1                    563.0                  1000.0     Orlando Bloom   \n2                      0.0                   161.0      Rory Kinnear   \n3                  22000.0                 23000.0    Christian Bale   \n4                    131.0                     NaN        Rob Walker   \n\n   actor_1_facebook_likes  ...  num_user_for_reviews language country  \\\n0                  1000.0  ...                3054.0  English     USA   \n1                 40000.0  ...                1238.0  English     USA   \n2                 11000.0  ...                 994.0  English      UK   \n3                 27000.0  ...                2701.0  English     USA   \n4                   131.0  ...                   NaN      NaN     NaN   \n\n  content_rating       budget  title_year actor_2_facebook_likes  imdb_score  \\\n0          PG-13  237000000.0      2009.0                  936.0         7.9   \n1          PG-13  300000000.0      2007.0                 5000.0         7.1   \n2          PG-13  245000000.0      2015.0                  393.0         6.8   \n3          PG-13  250000000.0      2012.0                23000.0         8.5   \n4            NaN          NaN         NaN                   12.0         7.1   \n\n  aspect_ratio movie_facebook_likes  \n0         1.78                33000  \n1         2.35                    0  \n2         2.35                85000  \n3         2.35               164000  \n4          NaN                    0  \n\n[5 rows x 30 columns]",
      "text/html": "<div>\n<style scoped>\n    .dataframe tbody tr th:only-of-type {\n        vertical-align: middle;\n    }\n\n    .dataframe tbody tr th {\n        vertical-align: top;\n    }\n\n    .dataframe thead th {\n        text-align: right;\n    }\n</style>\n<table border=\"1\" class=\"dataframe\">\n  <thead>\n    <tr style=\"text-align: right;\">\n      <th></th>\n      <th>level_0</th>\n      <th>index</th>\n      <th>color</th>\n      <th>director_name</th>\n      <th>num_critic_for_reviews</th>\n      <th>duration</th>\n      <th>director_facebook_likes</th>\n      <th>actor_3_facebook_likes</th>\n      <th>actor_2_name</th>\n      <th>actor_1_facebook_likes</th>\n      <th>...</th>\n      <th>num_user_for_reviews</th>\n      <th>language</th>\n      <th>country</th>\n      <th>content_rating</th>\n      <th>budget</th>\n      <th>title_year</th>\n      <th>actor_2_facebook_likes</th>\n      <th>imdb_score</th>\n      <th>aspect_ratio</th>\n      <th>movie_facebook_likes</th>\n    </tr>\n  </thead>\n  <tbody>\n    <tr>\n      <th>0</th>\n      <td>0</td>\n      <td>0</td>\n      <td>Color</td>\n      <td>James Cameron</td>\n      <td>723.0</td>\n      <td>178.0</td>\n      <td>0.0</td>\n      <td>855.0</td>\n      <td>Joel David Moore</td>\n      <td>1000.0</td>\n      <td>...</td>\n      <td>3054.0</td>\n      <td>English</td>\n      <td>USA</td>\n      <td>PG-13</td>\n      <td>237000000.0</td>\n      <td>2009.0</td>\n      <td>936.0</td>\n      <td>7.9</td>\n      <td>1.78</td>\n      <td>33000</td>\n    </tr>\n    <tr>\n      <th>1</th>\n      <td>1</td>\n      <td>1</td>\n      <td>Color</td>\n      <td>Gore Verbinski</td>\n      <td>302.0</td>\n      <td>169.0</td>\n      <td>563.0</td>\n      <td>1000.0</td>\n      <td>Orlando Bloom</td>\n      <td>40000.0</td>\n      <td>...</td>\n      <td>1238.0</td>\n      <td>English</td>\n      <td>USA</td>\n      <td>PG-13</td>\n      <td>300000000.0</td>\n      <td>2007.0</td>\n      <td>5000.0</td>\n      <td>7.1</td>\n      <td>2.35</td>\n      <td>0</td>\n    </tr>\n    <tr>\n      <th>2</th>\n      <td>2</td>\n      <td>2</td>\n      <td>Color</td>\n      <td>Sam Mendes</td>\n      <td>602.0</td>\n      <td>148.0</td>\n      <td>0.0</td>\n      <td>161.0</td>\n      <td>Rory Kinnear</td>\n      <td>11000.0</td>\n      <td>...</td>\n      <td>994.0</td>\n      <td>English</td>\n      <td>UK</td>\n      <td>PG-13</td>\n      <td>245000000.0</td>\n      <td>2015.0</td>\n      <td>393.0</td>\n      <td>6.8</td>\n      <td>2.35</td>\n      <td>85000</td>\n    </tr>\n    <tr>\n      <th>3</th>\n      <td>3</td>\n      <td>3</td>\n      <td>Color</td>\n      <td>Christopher Nolan</td>\n      <td>813.0</td>\n      <td>164.0</td>\n      <td>22000.0</td>\n      <td>23000.0</td>\n      <td>Christian Bale</td>\n      <td>27000.0</td>\n      <td>...</td>\n      <td>2701.0</td>\n      <td>English</td>\n      <td>USA</td>\n      <td>PG-13</td>\n      <td>250000000.0</td>\n      <td>2012.0</td>\n      <td>23000.0</td>\n      <td>8.5</td>\n      <td>2.35</td>\n      <td>164000</td>\n    </tr>\n    <tr>\n      <th>4</th>\n      <td>4</td>\n      <td>4</td>\n      <td>NaN</td>\n      <td>Doug Walker</td>\n      <td>NaN</td>\n      <td>NaN</td>\n      <td>131.0</td>\n      <td>NaN</td>\n      <td>Rob Walker</td>\n      <td>131.0</td>\n      <td>...</td>\n      <td>NaN</td>\n      <td>NaN</td>\n      <td>NaN</td>\n      <td>NaN</td>\n      <td>NaN</td>\n      <td>NaN</td>\n      <td>12.0</td>\n      <td>7.1</td>\n      <td>NaN</td>\n      <td>0</td>\n    </tr>\n  </tbody>\n</table>\n<p>5 rows × 30 columns</p>\n</div>"
     },
     "execution_count": 18,
     "metadata": {},
     "output_type": "execute_result"
    }
   ],
   "source": [
    "#取消设置的 行索引\n",
    "#语法： x.reset_index(inplace=True)\n",
    "movie_df.reset_index(inplace=True)\n",
    "movie_df.head()"
   ],
   "metadata": {
    "collapsed": false,
    "ExecuteTime": {
     "end_time": "2025-05-06T07:36:24.327695Z",
     "start_time": "2025-05-06T07:36:24.303342Z"
    }
   },
   "id": "4b33f80657e24fd3"
  },
  {
   "cell_type": "markdown",
   "source": [
    "# 5.4 修改DataFrame对象的 行索引 和 列名"
   ],
   "metadata": {
    "collapsed": false
   },
   "id": "52f30a1ae36cc65"
  },
  {
   "cell_type": "code",
   "execution_count": 19,
   "outputs": [
    {
     "data": {
      "text/plain": "                                            color      director_name  \\\nmovie_title                                                            \nAvatar                                      Color      James Cameron   \nPirates of the Caribbean: At World's End    Color     Gore Verbinski   \nSpectre                                     Color         Sam Mendes   \nThe Dark Knight Rises                       Color  Christopher Nolan   \nStar Wars: Episode VII - The Force Awakens    NaN        Doug Walker   \n\n                                            num_critic_for_reviews  duration  \\\nmovie_title                                                                    \nAvatar                                                       723.0     178.0   \nPirates of the Caribbean: At World's End                     302.0     169.0   \nSpectre                                                      602.0     148.0   \nThe Dark Knight Rises                                        813.0     164.0   \nStar Wars: Episode VII - The Force Awakens                     NaN       NaN   \n\n                                            director_facebook_likes  \\\nmovie_title                                                           \nAvatar                                                          0.0   \nPirates of the Caribbean: At World's End                      563.0   \nSpectre                                                         0.0   \nThe Dark Knight Rises                                       22000.0   \nStar Wars: Episode VII - The Force Awakens                    131.0   \n\n                                            actor_3_facebook_likes  \\\nmovie_title                                                          \nAvatar                                                       855.0   \nPirates of the Caribbean: At World's End                    1000.0   \nSpectre                                                      161.0   \nThe Dark Knight Rises                                      23000.0   \nStar Wars: Episode VII - The Force Awakens                     NaN   \n\n                                                actor_2_name  \\\nmovie_title                                                    \nAvatar                                      Joel David Moore   \nPirates of the Caribbean: At World's End       Orlando Bloom   \nSpectre                                         Rory Kinnear   \nThe Dark Knight Rises                         Christian Bale   \nStar Wars: Episode VII - The Force Awakens        Rob Walker   \n\n                                            actor_1_facebook_likes  \\\nmovie_title                                                          \nAvatar                                                      1000.0   \nPirates of the Caribbean: At World's End                   40000.0   \nSpectre                                                    11000.0   \nThe Dark Knight Rises                                      27000.0   \nStar Wars: Episode VII - The Force Awakens                   131.0   \n\n                                                  gross  \\\nmovie_title                                               \nAvatar                                      760505847.0   \nPirates of the Caribbean: At World's End    309404152.0   \nSpectre                                     200074175.0   \nThe Dark Knight Rises                       448130642.0   \nStar Wars: Episode VII - The Force Awakens          NaN   \n\n                                                                     genres  \\\nmovie_title                                                                   \nAvatar                                      Action|Adventure|Fantasy|Sci-Fi   \nPirates of the Caribbean: At World's End           Action|Adventure|Fantasy   \nSpectre                                           Action|Adventure|Thriller   \nThe Dark Knight Rises                                       Action|Thriller   \nStar Wars: Episode VII - The Force Awakens                      Documentary   \n\n                                            ... num_user_for_reviews  \\\nmovie_title                                 ...                        \nAvatar                                      ...               3054.0   \nPirates of the Caribbean: At World's End    ...               1238.0   \nSpectre                                     ...                994.0   \nThe Dark Knight Rises                       ...               2701.0   \nStar Wars: Episode VII - The Force Awakens  ...                  NaN   \n\n                                            language  country content_rating  \\\nmovie_title                                                                    \nAvatar                                       English      USA          PG-13   \nPirates of the Caribbean: At World's End     English      USA          PG-13   \nSpectre                                      English       UK          PG-13   \nThe Dark Knight Rises                        English      USA          PG-13   \nStar Wars: Episode VII - The Force Awakens       NaN      NaN            NaN   \n\n                                                 budget title_year  \\\nmovie_title                                                          \nAvatar                                      237000000.0     2009.0   \nPirates of the Caribbean: At World's End    300000000.0     2007.0   \nSpectre                                     245000000.0     2015.0   \nThe Dark Knight Rises                       250000000.0     2012.0   \nStar Wars: Episode VII - The Force Awakens          NaN        NaN   \n\n                                           actor_2_facebook_likes  imdb_score  \\\nmovie_title                                                                     \nAvatar                                                      936.0         7.9   \nPirates of the Caribbean: At World's End                   5000.0         7.1   \nSpectre                                                     393.0         6.8   \nThe Dark Knight Rises                                     23000.0         8.5   \nStar Wars: Episode VII - The Force Awakens                   12.0         7.1   \n\n                                           aspect_ratio movie_facebook_likes  \nmovie_title                                                                   \nAvatar                                             1.78                33000  \nPirates of the Caribbean: At World's End           2.35                    0  \nSpectre                                            2.35                85000  \nThe Dark Knight Rises                              2.35               164000  \nStar Wars: Episode VII - The Force Awakens          NaN                    0  \n\n[5 rows x 27 columns]",
      "text/html": "<div>\n<style scoped>\n    .dataframe tbody tr th:only-of-type {\n        vertical-align: middle;\n    }\n\n    .dataframe tbody tr th {\n        vertical-align: top;\n    }\n\n    .dataframe thead th {\n        text-align: right;\n    }\n</style>\n<table border=\"1\" class=\"dataframe\">\n  <thead>\n    <tr style=\"text-align: right;\">\n      <th></th>\n      <th>color</th>\n      <th>director_name</th>\n      <th>num_critic_for_reviews</th>\n      <th>duration</th>\n      <th>director_facebook_likes</th>\n      <th>actor_3_facebook_likes</th>\n      <th>actor_2_name</th>\n      <th>actor_1_facebook_likes</th>\n      <th>gross</th>\n      <th>genres</th>\n      <th>...</th>\n      <th>num_user_for_reviews</th>\n      <th>language</th>\n      <th>country</th>\n      <th>content_rating</th>\n      <th>budget</th>\n      <th>title_year</th>\n      <th>actor_2_facebook_likes</th>\n      <th>imdb_score</th>\n      <th>aspect_ratio</th>\n      <th>movie_facebook_likes</th>\n    </tr>\n    <tr>\n      <th>movie_title</th>\n      <th></th>\n      <th></th>\n      <th></th>\n      <th></th>\n      <th></th>\n      <th></th>\n      <th></th>\n      <th></th>\n      <th></th>\n      <th></th>\n      <th></th>\n      <th></th>\n      <th></th>\n      <th></th>\n      <th></th>\n      <th></th>\n      <th></th>\n      <th></th>\n      <th></th>\n      <th></th>\n      <th></th>\n    </tr>\n  </thead>\n  <tbody>\n    <tr>\n      <th>Avatar</th>\n      <td>Color</td>\n      <td>James Cameron</td>\n      <td>723.0</td>\n      <td>178.0</td>\n      <td>0.0</td>\n      <td>855.0</td>\n      <td>Joel David Moore</td>\n      <td>1000.0</td>\n      <td>760505847.0</td>\n      <td>Action|Adventure|Fantasy|Sci-Fi</td>\n      <td>...</td>\n      <td>3054.0</td>\n      <td>English</td>\n      <td>USA</td>\n      <td>PG-13</td>\n      <td>237000000.0</td>\n      <td>2009.0</td>\n      <td>936.0</td>\n      <td>7.9</td>\n      <td>1.78</td>\n      <td>33000</td>\n    </tr>\n    <tr>\n      <th>Pirates of the Caribbean: At World's End</th>\n      <td>Color</td>\n      <td>Gore Verbinski</td>\n      <td>302.0</td>\n      <td>169.0</td>\n      <td>563.0</td>\n      <td>1000.0</td>\n      <td>Orlando Bloom</td>\n      <td>40000.0</td>\n      <td>309404152.0</td>\n      <td>Action|Adventure|Fantasy</td>\n      <td>...</td>\n      <td>1238.0</td>\n      <td>English</td>\n      <td>USA</td>\n      <td>PG-13</td>\n      <td>300000000.0</td>\n      <td>2007.0</td>\n      <td>5000.0</td>\n      <td>7.1</td>\n      <td>2.35</td>\n      <td>0</td>\n    </tr>\n    <tr>\n      <th>Spectre</th>\n      <td>Color</td>\n      <td>Sam Mendes</td>\n      <td>602.0</td>\n      <td>148.0</td>\n      <td>0.0</td>\n      <td>161.0</td>\n      <td>Rory Kinnear</td>\n      <td>11000.0</td>\n      <td>200074175.0</td>\n      <td>Action|Adventure|Thriller</td>\n      <td>...</td>\n      <td>994.0</td>\n      <td>English</td>\n      <td>UK</td>\n      <td>PG-13</td>\n      <td>245000000.0</td>\n      <td>2015.0</td>\n      <td>393.0</td>\n      <td>6.8</td>\n      <td>2.35</td>\n      <td>85000</td>\n    </tr>\n    <tr>\n      <th>The Dark Knight Rises</th>\n      <td>Color</td>\n      <td>Christopher Nolan</td>\n      <td>813.0</td>\n      <td>164.0</td>\n      <td>22000.0</td>\n      <td>23000.0</td>\n      <td>Christian Bale</td>\n      <td>27000.0</td>\n      <td>448130642.0</td>\n      <td>Action|Thriller</td>\n      <td>...</td>\n      <td>2701.0</td>\n      <td>English</td>\n      <td>USA</td>\n      <td>PG-13</td>\n      <td>250000000.0</td>\n      <td>2012.0</td>\n      <td>23000.0</td>\n      <td>8.5</td>\n      <td>2.35</td>\n      <td>164000</td>\n    </tr>\n    <tr>\n      <th>Star Wars: Episode VII - The Force Awakens</th>\n      <td>NaN</td>\n      <td>Doug Walker</td>\n      <td>NaN</td>\n      <td>NaN</td>\n      <td>131.0</td>\n      <td>NaN</td>\n      <td>Rob Walker</td>\n      <td>131.0</td>\n      <td>NaN</td>\n      <td>Documentary</td>\n      <td>...</td>\n      <td>NaN</td>\n      <td>NaN</td>\n      <td>NaN</td>\n      <td>NaN</td>\n      <td>NaN</td>\n      <td>NaN</td>\n      <td>12.0</td>\n      <td>7.1</td>\n      <td>NaN</td>\n      <td>0</td>\n    </tr>\n  </tbody>\n</table>\n<p>5 rows × 27 columns</p>\n</div>"
     },
     "execution_count": 19,
     "metadata": {},
     "output_type": "execute_result"
    }
   ],
   "source": [
    "# 1. 读取数据源文件, 获取 df对象, 指定 电影名为 行索引\n",
    "movie = pd.read_csv('../data/movie.csv', index_col='movie_title')\n",
    "movie.head()"
   ],
   "metadata": {
    "collapsed": false,
    "ExecuteTime": {
     "end_time": "2025-05-06T07:36:32.465298Z",
     "start_time": "2025-05-06T07:36:32.437034Z"
    }
   },
   "id": "3d9dae790861fb80"
  },
  {
   "cell_type": "markdown",
   "source": [
    "### 5.4.1 思路1: rename()函数直接修改"
   ],
   "metadata": {
    "collapsed": false
   },
   "id": "26dc11d91fbbfa2"
  },
  {
   "cell_type": "code",
   "execution_count": 21,
   "outputs": [
    {
     "data": {
      "text/plain": "Index(['level_0', 'index', 'color', 'director_name', 'num_critic_for_reviews'], dtype='object')"
     },
     "execution_count": 21,
     "metadata": {},
     "output_type": "execute_result"
    }
   ],
   "source": [
    "# 2. 获取 前5个列名, 方便稍后修改.\n",
    "# 语法： .index[:]\n",
    "movie_df.index[:5]\n",
    "# 3. 获取 前5个列索引值, 方便稍后修改.\n",
    "# 语法： .columns[:]\n",
    "movie_df.columns[:5]\n",
    "\n",
    "\n",
    "# 4. 具体的修改 列名 和 行索引的动作.\n",
    "#4.1 设置索引和列名\n",
    "#语法： （索引）idx_name = {'idx0':'xx','idx1':'xx',...}\n",
    "#语法： （列名）col_name = {'col0':'xx','col1':'xx',...}\n",
    "#4.2 重置 索引和列名\n",
    "#语法： df.rename(index = idx_name, columns=col_name, inplace=True)\n",
    "\n",
    "# 5. 查看修改后的数据\n"
   ],
   "metadata": {
    "collapsed": false,
    "ExecuteTime": {
     "end_time": "2025-05-06T07:37:13.259694Z",
     "start_time": "2025-05-06T07:37:13.228852Z"
    }
   },
   "id": "319b096a0ceab7bb"
  },
  {
   "cell_type": "markdown",
   "source": [
    "### 5.4.2 思路2: 将 index 和 column属性提取出来, 修改之后, 再放回去. "
   ],
   "metadata": {
    "collapsed": false
   },
   "id": "6d726d94f21e6edf"
  },
  {
   "cell_type": "code",
   "execution_count": 23,
   "outputs": [
    {
     "ename": "TypeError",
     "evalue": "'list' object is not callable",
     "output_type": "error",
     "traceback": [
      "\u001B[0;31m---------------------------------------------------------------------------\u001B[0m",
      "\u001B[0;31mTypeError\u001B[0m                                 Traceback (most recent call last)",
      "Cell \u001B[0;32mIn[23], line 8\u001B[0m\n\u001B[1;32m      4\u001B[0m movie_df\u001B[38;5;241m.\u001B[39mindex\u001B[38;5;241m.\u001B[39mtolist()\n\u001B[1;32m      6\u001B[0m \u001B[38;5;66;03m#语法：df.columns.tolist() \u001B[39;00m\n\u001B[1;32m      7\u001B[0m \u001B[38;5;66;03m# 取列名, ['color', 'director_name', 'num_critic_for_reviews', ...]\u001B[39;00m\n\u001B[0;32m----> 8\u001B[0m \u001B[43mmovie_df\u001B[49m\u001B[38;5;241;43m.\u001B[39;49m\u001B[43mrename\u001B[49m\u001B[43m(\u001B[49m\u001B[43mcolumns\u001B[49m\u001B[38;5;241;43m=\u001B[39;49m\u001B[43mmovie_df\u001B[49m\u001B[38;5;241;43m.\u001B[39;49m\u001B[43mcolumns\u001B[49m\u001B[38;5;241;43m.\u001B[39;49m\u001B[43mtolist\u001B[49m\u001B[43m(\u001B[49m\u001B[43m)\u001B[49m\u001B[43m,\u001B[49m\u001B[43m \u001B[49m\u001B[43mindex\u001B[49m\u001B[38;5;241;43m=\u001B[39;49m\u001B[43mmovie_df\u001B[49m\u001B[38;5;241;43m.\u001B[39;49m\u001B[43mindex\u001B[49m\u001B[38;5;241;43m.\u001B[39;49m\u001B[43mtolist\u001B[49m\u001B[43m(\u001B[49m\u001B[43m)\u001B[49m\u001B[43m)\u001B[49m\n\u001B[1;32m     10\u001B[0m \u001B[38;5;66;03m# 2. 修改上述的 列表(即: 行索引, 列名)信息.\u001B[39;00m\n\u001B[1;32m     11\u001B[0m \u001B[38;5;66;03m#语法：idx_list[下标] = xxx\u001B[39;00m\n\u001B[1;32m     12\u001B[0m \n\u001B[0;32m   (...)\u001B[0m\n\u001B[1;32m     22\u001B[0m \u001B[38;5;66;03m# 4. 查看结果.\u001B[39;00m\n\u001B[1;32m     23\u001B[0m \u001B[38;5;66;03m# movie.head()\u001B[39;00m\n",
      "File \u001B[0;32m~/PycharmProjects/pythonProject/venv/lib/python3.9/site-packages/pandas/core/frame.py:5767\u001B[0m, in \u001B[0;36mDataFrame.rename\u001B[0;34m(self, mapper, index, columns, axis, copy, inplace, level, errors)\u001B[0m\n\u001B[1;32m   5636\u001B[0m \u001B[38;5;28;01mdef\u001B[39;00m\u001B[38;5;250m \u001B[39m\u001B[38;5;21mrename\u001B[39m(\n\u001B[1;32m   5637\u001B[0m     \u001B[38;5;28mself\u001B[39m,\n\u001B[1;32m   5638\u001B[0m     mapper: Renamer \u001B[38;5;241m|\u001B[39m \u001B[38;5;28;01mNone\u001B[39;00m \u001B[38;5;241m=\u001B[39m \u001B[38;5;28;01mNone\u001B[39;00m,\n\u001B[0;32m   (...)\u001B[0m\n\u001B[1;32m   5646\u001B[0m     errors: IgnoreRaise \u001B[38;5;241m=\u001B[39m \u001B[38;5;124m\"\u001B[39m\u001B[38;5;124mignore\u001B[39m\u001B[38;5;124m\"\u001B[39m,\n\u001B[1;32m   5647\u001B[0m ) \u001B[38;5;241m-\u001B[39m\u001B[38;5;241m>\u001B[39m DataFrame \u001B[38;5;241m|\u001B[39m \u001B[38;5;28;01mNone\u001B[39;00m:\n\u001B[1;32m   5648\u001B[0m \u001B[38;5;250m    \u001B[39m\u001B[38;5;124;03m\"\"\"\u001B[39;00m\n\u001B[1;32m   5649\u001B[0m \u001B[38;5;124;03m    Rename columns or index labels.\u001B[39;00m\n\u001B[1;32m   5650\u001B[0m \n\u001B[0;32m   (...)\u001B[0m\n\u001B[1;32m   5765\u001B[0m \u001B[38;5;124;03m    4  3  6\u001B[39;00m\n\u001B[1;32m   5766\u001B[0m \u001B[38;5;124;03m    \"\"\"\u001B[39;00m\n\u001B[0;32m-> 5767\u001B[0m     \u001B[38;5;28;01mreturn\u001B[39;00m \u001B[38;5;28;43msuper\u001B[39;49m\u001B[43m(\u001B[49m\u001B[43m)\u001B[49m\u001B[38;5;241;43m.\u001B[39;49m\u001B[43m_rename\u001B[49m\u001B[43m(\u001B[49m\n\u001B[1;32m   5768\u001B[0m \u001B[43m        \u001B[49m\u001B[43mmapper\u001B[49m\u001B[38;5;241;43m=\u001B[39;49m\u001B[43mmapper\u001B[49m\u001B[43m,\u001B[49m\n\u001B[1;32m   5769\u001B[0m \u001B[43m        \u001B[49m\u001B[43mindex\u001B[49m\u001B[38;5;241;43m=\u001B[39;49m\u001B[43mindex\u001B[49m\u001B[43m,\u001B[49m\n\u001B[1;32m   5770\u001B[0m \u001B[43m        \u001B[49m\u001B[43mcolumns\u001B[49m\u001B[38;5;241;43m=\u001B[39;49m\u001B[43mcolumns\u001B[49m\u001B[43m,\u001B[49m\n\u001B[1;32m   5771\u001B[0m \u001B[43m        \u001B[49m\u001B[43maxis\u001B[49m\u001B[38;5;241;43m=\u001B[39;49m\u001B[43maxis\u001B[49m\u001B[43m,\u001B[49m\n\u001B[1;32m   5772\u001B[0m \u001B[43m        \u001B[49m\u001B[43mcopy\u001B[49m\u001B[38;5;241;43m=\u001B[39;49m\u001B[43mcopy\u001B[49m\u001B[43m,\u001B[49m\n\u001B[1;32m   5773\u001B[0m \u001B[43m        \u001B[49m\u001B[43minplace\u001B[49m\u001B[38;5;241;43m=\u001B[39;49m\u001B[43minplace\u001B[49m\u001B[43m,\u001B[49m\n\u001B[1;32m   5774\u001B[0m \u001B[43m        \u001B[49m\u001B[43mlevel\u001B[49m\u001B[38;5;241;43m=\u001B[39;49m\u001B[43mlevel\u001B[49m\u001B[43m,\u001B[49m\n\u001B[1;32m   5775\u001B[0m \u001B[43m        \u001B[49m\u001B[43merrors\u001B[49m\u001B[38;5;241;43m=\u001B[39;49m\u001B[43merrors\u001B[49m\u001B[43m,\u001B[49m\n\u001B[1;32m   5776\u001B[0m \u001B[43m    \u001B[49m\u001B[43m)\u001B[49m\n",
      "File \u001B[0;32m~/PycharmProjects/pythonProject/venv/lib/python3.9/site-packages/pandas/core/generic.py:1132\u001B[0m, in \u001B[0;36mNDFrame._rename\u001B[0;34m(self, mapper, index, columns, axis, copy, inplace, level, errors)\u001B[0m\n\u001B[1;32m   1125\u001B[0m         missing_labels \u001B[38;5;241m=\u001B[39m [\n\u001B[1;32m   1126\u001B[0m             label\n\u001B[1;32m   1127\u001B[0m             \u001B[38;5;28;01mfor\u001B[39;00m index, label \u001B[38;5;129;01min\u001B[39;00m \u001B[38;5;28menumerate\u001B[39m(replacements)\n\u001B[1;32m   1128\u001B[0m             \u001B[38;5;28;01mif\u001B[39;00m indexer[index] \u001B[38;5;241m==\u001B[39m \u001B[38;5;241m-\u001B[39m\u001B[38;5;241m1\u001B[39m\n\u001B[1;32m   1129\u001B[0m         ]\n\u001B[1;32m   1130\u001B[0m         \u001B[38;5;28;01mraise\u001B[39;00m \u001B[38;5;167;01mKeyError\u001B[39;00m(\u001B[38;5;124mf\u001B[39m\u001B[38;5;124m\"\u001B[39m\u001B[38;5;132;01m{\u001B[39;00mmissing_labels\u001B[38;5;132;01m}\u001B[39;00m\u001B[38;5;124m not found in axis\u001B[39m\u001B[38;5;124m\"\u001B[39m)\n\u001B[0;32m-> 1132\u001B[0m new_index \u001B[38;5;241m=\u001B[39m \u001B[43max\u001B[49m\u001B[38;5;241;43m.\u001B[39;49m\u001B[43m_transform_index\u001B[49m\u001B[43m(\u001B[49m\u001B[43mf\u001B[49m\u001B[43m,\u001B[49m\u001B[43m \u001B[49m\u001B[43mlevel\u001B[49m\u001B[38;5;241;43m=\u001B[39;49m\u001B[43mlevel\u001B[49m\u001B[43m)\u001B[49m\n\u001B[1;32m   1133\u001B[0m result\u001B[38;5;241m.\u001B[39m_set_axis_nocheck(new_index, axis\u001B[38;5;241m=\u001B[39maxis_no, inplace\u001B[38;5;241m=\u001B[39m\u001B[38;5;28;01mTrue\u001B[39;00m, copy\u001B[38;5;241m=\u001B[39m\u001B[38;5;28;01mFalse\u001B[39;00m)\n\u001B[1;32m   1134\u001B[0m result\u001B[38;5;241m.\u001B[39m_clear_item_cache()\n",
      "File \u001B[0;32m~/PycharmProjects/pythonProject/venv/lib/python3.9/site-packages/pandas/core/indexes/base.py:6537\u001B[0m, in \u001B[0;36mIndex._transform_index\u001B[0;34m(self, func, level)\u001B[0m\n\u001B[1;32m   6535\u001B[0m     \u001B[38;5;28;01mreturn\u001B[39;00m \u001B[38;5;28mtype\u001B[39m(\u001B[38;5;28mself\u001B[39m)\u001B[38;5;241m.\u001B[39mfrom_arrays(values)\n\u001B[1;32m   6536\u001B[0m \u001B[38;5;28;01melse\u001B[39;00m:\n\u001B[0;32m-> 6537\u001B[0m     items \u001B[38;5;241m=\u001B[39m [func(x) \u001B[38;5;28;01mfor\u001B[39;00m x \u001B[38;5;129;01min\u001B[39;00m \u001B[38;5;28mself\u001B[39m]\n\u001B[1;32m   6538\u001B[0m     \u001B[38;5;28;01mreturn\u001B[39;00m Index(items, name\u001B[38;5;241m=\u001B[39m\u001B[38;5;28mself\u001B[39m\u001B[38;5;241m.\u001B[39mname, tupleize_cols\u001B[38;5;241m=\u001B[39m\u001B[38;5;28;01mFalse\u001B[39;00m)\n",
      "File \u001B[0;32m~/PycharmProjects/pythonProject/venv/lib/python3.9/site-packages/pandas/core/indexes/base.py:6537\u001B[0m, in \u001B[0;36m<listcomp>\u001B[0;34m(.0)\u001B[0m\n\u001B[1;32m   6535\u001B[0m     \u001B[38;5;28;01mreturn\u001B[39;00m \u001B[38;5;28mtype\u001B[39m(\u001B[38;5;28mself\u001B[39m)\u001B[38;5;241m.\u001B[39mfrom_arrays(values)\n\u001B[1;32m   6536\u001B[0m \u001B[38;5;28;01melse\u001B[39;00m:\n\u001B[0;32m-> 6537\u001B[0m     items \u001B[38;5;241m=\u001B[39m [\u001B[43mfunc\u001B[49m\u001B[43m(\u001B[49m\u001B[43mx\u001B[49m\u001B[43m)\u001B[49m \u001B[38;5;28;01mfor\u001B[39;00m x \u001B[38;5;129;01min\u001B[39;00m \u001B[38;5;28mself\u001B[39m]\n\u001B[1;32m   6538\u001B[0m     \u001B[38;5;28;01mreturn\u001B[39;00m Index(items, name\u001B[38;5;241m=\u001B[39m\u001B[38;5;28mself\u001B[39m\u001B[38;5;241m.\u001B[39mname, tupleize_cols\u001B[38;5;241m=\u001B[39m\u001B[38;5;28;01mFalse\u001B[39;00m)\n",
      "\u001B[0;31mTypeError\u001B[0m: 'list' object is not callable"
     ]
    }
   ],
   "source": [
    "# 1. 从 df中获取 行索引 和 列名的信息, 并转成列表.\n",
    "#语法：df.index.tolist()  \n",
    "# 取行索引信息, ['Avatar', \"Pirates of the Caribbean: At World's End\", 'Spectre', ...]   \n",
    "movie_df.index.tolist()\n",
    "\n",
    "#语法：df.columns.tolist() \n",
    "# 取列名, ['color', 'director_name', 'num_critic_for_reviews', ...]\n",
    "\n",
    "\n",
    "# 2. 修改上述的 列表(即: 行索引, 列名)信息.\n",
    "#语法：idx_list[下标] = xxx\n",
    "\n",
    "\n",
    "#语法：col_list[下标] = xxx\n",
    "\n",
    "\n",
    "# 3. 把上述修改后的内容, 当做新的 行索引 和 列名. \n",
    "#语法：行索引修改 df.index = idx_list\n",
    "#语法：列索引修改 df.columns = col_list\n",
    "\n",
    "\n",
    "# 4. 查看结果.\n",
    "# movie.head()"
   ],
   "metadata": {
    "collapsed": false,
    "ExecuteTime": {
     "end_time": "2025-05-06T07:39:04.141388Z",
     "start_time": "2025-05-06T07:39:03.404665Z"
    }
   },
   "id": "2dad8200a1fc70a3"
  },
  {
   "cell_type": "markdown",
   "source": [
    "# 5.5 添加, 删除, 插入列 "
   ],
   "metadata": {
    "collapsed": false
   },
   "id": "70d3be4833b673ac"
  },
  {
   "cell_type": "code",
   "execution_count": 25,
   "outputs": [],
   "source": [
    "#语法：添加列, 格式为: df['列名'] = 列值\n",
    "#新增1列, has_seen = 0, 表示是否看过这个电影. 0: 没看过, 1:看过\n",
    "# movie['has_seen2'] = 0\n",
    "movie_df['has_seen']=0\n",
    "\n",
    "#练习：新增1列, 总点赞量 = 导演 + 演员（1,2,3）的 脸书点赞量\n",
    "# 总点赞量:director_actor_facebook_likes\n",
    "movie_df['director_actor_facebook_likes']=movie_df['director_facebook_likes']+movie_df['actor_1_facebook_likes']+movie_df['actor_2_facebook_likes']+movie_df['actor_3_facebook_likes']\n",
    "# 2. 查看结果.\n",
    "# movie.head()"
   ],
   "metadata": {
    "collapsed": false,
    "ExecuteTime": {
     "end_time": "2025-05-06T07:40:50.670774Z",
     "start_time": "2025-05-06T07:40:50.631634Z"
    }
   },
   "id": "983857e79b4f4ebe"
  },
  {
   "cell_type": "code",
   "execution_count": 30,
   "outputs": [
    {
     "ename": "KeyError",
     "evalue": "\"['John Carter'] not found in axis\"",
     "output_type": "error",
     "traceback": [
      "\u001B[0;31m---------------------------------------------------------------------------\u001B[0m",
      "\u001B[0;31mKeyError\u001B[0m                                  Traceback (most recent call last)",
      "Cell \u001B[0;32mIn[30], line 6\u001B[0m\n\u001B[1;32m      4\u001B[0m movie_df\u001B[38;5;241m.\u001B[39mdrop(\u001B[38;5;124m'\u001B[39m\u001B[38;5;124mhas_seen\u001B[39m\u001B[38;5;124m'\u001B[39m, axis\u001B[38;5;241m=\u001B[39m\u001B[38;5;241m1\u001B[39m)\n\u001B[1;32m      5\u001B[0m \u001B[38;5;66;03m# 需求2: 删除 John Carter 行的内容.\u001B[39;00m\n\u001B[0;32m----> 6\u001B[0m \u001B[43mmovie_df\u001B[49m\u001B[38;5;241;43m.\u001B[39;49m\u001B[43mdrop\u001B[49m\u001B[43m(\u001B[49m\u001B[38;5;124;43m'\u001B[39;49m\u001B[38;5;124;43mJohn Carter\u001B[39;49m\u001B[38;5;124;43m'\u001B[39;49m\u001B[43m,\u001B[49m\u001B[43m \u001B[49m\u001B[43maxis\u001B[49m\u001B[38;5;241;43m=\u001B[39;49m\u001B[38;5;241;43m0\u001B[39;49m\u001B[43m)\u001B[49m\n",
      "File \u001B[0;32m~/PycharmProjects/pythonProject/venv/lib/python3.9/site-packages/pandas/core/frame.py:5581\u001B[0m, in \u001B[0;36mDataFrame.drop\u001B[0;34m(self, labels, axis, index, columns, level, inplace, errors)\u001B[0m\n\u001B[1;32m   5433\u001B[0m \u001B[38;5;28;01mdef\u001B[39;00m\u001B[38;5;250m \u001B[39m\u001B[38;5;21mdrop\u001B[39m(\n\u001B[1;32m   5434\u001B[0m     \u001B[38;5;28mself\u001B[39m,\n\u001B[1;32m   5435\u001B[0m     labels: IndexLabel \u001B[38;5;241m|\u001B[39m \u001B[38;5;28;01mNone\u001B[39;00m \u001B[38;5;241m=\u001B[39m \u001B[38;5;28;01mNone\u001B[39;00m,\n\u001B[0;32m   (...)\u001B[0m\n\u001B[1;32m   5442\u001B[0m     errors: IgnoreRaise \u001B[38;5;241m=\u001B[39m \u001B[38;5;124m\"\u001B[39m\u001B[38;5;124mraise\u001B[39m\u001B[38;5;124m\"\u001B[39m,\n\u001B[1;32m   5443\u001B[0m ) \u001B[38;5;241m-\u001B[39m\u001B[38;5;241m>\u001B[39m DataFrame \u001B[38;5;241m|\u001B[39m \u001B[38;5;28;01mNone\u001B[39;00m:\n\u001B[1;32m   5444\u001B[0m \u001B[38;5;250m    \u001B[39m\u001B[38;5;124;03m\"\"\"\u001B[39;00m\n\u001B[1;32m   5445\u001B[0m \u001B[38;5;124;03m    Drop specified labels from rows or columns.\u001B[39;00m\n\u001B[1;32m   5446\u001B[0m \n\u001B[0;32m   (...)\u001B[0m\n\u001B[1;32m   5579\u001B[0m \u001B[38;5;124;03m            weight  1.0     0.8\u001B[39;00m\n\u001B[1;32m   5580\u001B[0m \u001B[38;5;124;03m    \"\"\"\u001B[39;00m\n\u001B[0;32m-> 5581\u001B[0m     \u001B[38;5;28;01mreturn\u001B[39;00m \u001B[38;5;28;43msuper\u001B[39;49m\u001B[43m(\u001B[49m\u001B[43m)\u001B[49m\u001B[38;5;241;43m.\u001B[39;49m\u001B[43mdrop\u001B[49m\u001B[43m(\u001B[49m\n\u001B[1;32m   5582\u001B[0m \u001B[43m        \u001B[49m\u001B[43mlabels\u001B[49m\u001B[38;5;241;43m=\u001B[39;49m\u001B[43mlabels\u001B[49m\u001B[43m,\u001B[49m\n\u001B[1;32m   5583\u001B[0m \u001B[43m        \u001B[49m\u001B[43maxis\u001B[49m\u001B[38;5;241;43m=\u001B[39;49m\u001B[43maxis\u001B[49m\u001B[43m,\u001B[49m\n\u001B[1;32m   5584\u001B[0m \u001B[43m        \u001B[49m\u001B[43mindex\u001B[49m\u001B[38;5;241;43m=\u001B[39;49m\u001B[43mindex\u001B[49m\u001B[43m,\u001B[49m\n\u001B[1;32m   5585\u001B[0m \u001B[43m        \u001B[49m\u001B[43mcolumns\u001B[49m\u001B[38;5;241;43m=\u001B[39;49m\u001B[43mcolumns\u001B[49m\u001B[43m,\u001B[49m\n\u001B[1;32m   5586\u001B[0m \u001B[43m        \u001B[49m\u001B[43mlevel\u001B[49m\u001B[38;5;241;43m=\u001B[39;49m\u001B[43mlevel\u001B[49m\u001B[43m,\u001B[49m\n\u001B[1;32m   5587\u001B[0m \u001B[43m        \u001B[49m\u001B[43minplace\u001B[49m\u001B[38;5;241;43m=\u001B[39;49m\u001B[43minplace\u001B[49m\u001B[43m,\u001B[49m\n\u001B[1;32m   5588\u001B[0m \u001B[43m        \u001B[49m\u001B[43merrors\u001B[49m\u001B[38;5;241;43m=\u001B[39;49m\u001B[43merrors\u001B[49m\u001B[43m,\u001B[49m\n\u001B[1;32m   5589\u001B[0m \u001B[43m    \u001B[49m\u001B[43m)\u001B[49m\n",
      "File \u001B[0;32m~/PycharmProjects/pythonProject/venv/lib/python3.9/site-packages/pandas/core/generic.py:4788\u001B[0m, in \u001B[0;36mNDFrame.drop\u001B[0;34m(self, labels, axis, index, columns, level, inplace, errors)\u001B[0m\n\u001B[1;32m   4786\u001B[0m \u001B[38;5;28;01mfor\u001B[39;00m axis, labels \u001B[38;5;129;01min\u001B[39;00m axes\u001B[38;5;241m.\u001B[39mitems():\n\u001B[1;32m   4787\u001B[0m     \u001B[38;5;28;01mif\u001B[39;00m labels \u001B[38;5;129;01mis\u001B[39;00m \u001B[38;5;129;01mnot\u001B[39;00m \u001B[38;5;28;01mNone\u001B[39;00m:\n\u001B[0;32m-> 4788\u001B[0m         obj \u001B[38;5;241m=\u001B[39m \u001B[43mobj\u001B[49m\u001B[38;5;241;43m.\u001B[39;49m\u001B[43m_drop_axis\u001B[49m\u001B[43m(\u001B[49m\u001B[43mlabels\u001B[49m\u001B[43m,\u001B[49m\u001B[43m \u001B[49m\u001B[43maxis\u001B[49m\u001B[43m,\u001B[49m\u001B[43m \u001B[49m\u001B[43mlevel\u001B[49m\u001B[38;5;241;43m=\u001B[39;49m\u001B[43mlevel\u001B[49m\u001B[43m,\u001B[49m\u001B[43m \u001B[49m\u001B[43merrors\u001B[49m\u001B[38;5;241;43m=\u001B[39;49m\u001B[43merrors\u001B[49m\u001B[43m)\u001B[49m\n\u001B[1;32m   4790\u001B[0m \u001B[38;5;28;01mif\u001B[39;00m inplace:\n\u001B[1;32m   4791\u001B[0m     \u001B[38;5;28mself\u001B[39m\u001B[38;5;241m.\u001B[39m_update_inplace(obj)\n",
      "File \u001B[0;32m~/PycharmProjects/pythonProject/venv/lib/python3.9/site-packages/pandas/core/generic.py:4830\u001B[0m, in \u001B[0;36mNDFrame._drop_axis\u001B[0;34m(self, labels, axis, level, errors, only_slice)\u001B[0m\n\u001B[1;32m   4828\u001B[0m         new_axis \u001B[38;5;241m=\u001B[39m axis\u001B[38;5;241m.\u001B[39mdrop(labels, level\u001B[38;5;241m=\u001B[39mlevel, errors\u001B[38;5;241m=\u001B[39merrors)\n\u001B[1;32m   4829\u001B[0m     \u001B[38;5;28;01melse\u001B[39;00m:\n\u001B[0;32m-> 4830\u001B[0m         new_axis \u001B[38;5;241m=\u001B[39m \u001B[43maxis\u001B[49m\u001B[38;5;241;43m.\u001B[39;49m\u001B[43mdrop\u001B[49m\u001B[43m(\u001B[49m\u001B[43mlabels\u001B[49m\u001B[43m,\u001B[49m\u001B[43m \u001B[49m\u001B[43merrors\u001B[49m\u001B[38;5;241;43m=\u001B[39;49m\u001B[43merrors\u001B[49m\u001B[43m)\u001B[49m\n\u001B[1;32m   4831\u001B[0m     indexer \u001B[38;5;241m=\u001B[39m axis\u001B[38;5;241m.\u001B[39mget_indexer(new_axis)\n\u001B[1;32m   4833\u001B[0m \u001B[38;5;66;03m# Case for non-unique axis\u001B[39;00m\n\u001B[1;32m   4834\u001B[0m \u001B[38;5;28;01melse\u001B[39;00m:\n",
      "File \u001B[0;32m~/PycharmProjects/pythonProject/venv/lib/python3.9/site-packages/pandas/core/indexes/base.py:7070\u001B[0m, in \u001B[0;36mIndex.drop\u001B[0;34m(self, labels, errors)\u001B[0m\n\u001B[1;32m   7068\u001B[0m \u001B[38;5;28;01mif\u001B[39;00m mask\u001B[38;5;241m.\u001B[39many():\n\u001B[1;32m   7069\u001B[0m     \u001B[38;5;28;01mif\u001B[39;00m errors \u001B[38;5;241m!=\u001B[39m \u001B[38;5;124m\"\u001B[39m\u001B[38;5;124mignore\u001B[39m\u001B[38;5;124m\"\u001B[39m:\n\u001B[0;32m-> 7070\u001B[0m         \u001B[38;5;28;01mraise\u001B[39;00m \u001B[38;5;167;01mKeyError\u001B[39;00m(\u001B[38;5;124mf\u001B[39m\u001B[38;5;124m\"\u001B[39m\u001B[38;5;132;01m{\u001B[39;00mlabels[mask]\u001B[38;5;241m.\u001B[39mtolist()\u001B[38;5;132;01m}\u001B[39;00m\u001B[38;5;124m not found in axis\u001B[39m\u001B[38;5;124m\"\u001B[39m)\n\u001B[1;32m   7071\u001B[0m     indexer \u001B[38;5;241m=\u001B[39m indexer[\u001B[38;5;241m~\u001B[39mmask]\n\u001B[1;32m   7072\u001B[0m \u001B[38;5;28;01mreturn\u001B[39;00m \u001B[38;5;28mself\u001B[39m\u001B[38;5;241m.\u001B[39mdelete(indexer)\n",
      "\u001B[0;31mKeyError\u001B[0m: \"['John Carter'] not found in axis\""
     ]
    }
   ],
   "source": [
    "#删除列\n",
    "#语法： df.drop('xx', axis=0)  # 0: rows, 行,  1: columns:列\n",
    "# 需求1: 删除 has_seen 列的内容.\n",
    "movie_df.drop('has_seen', axis=1)\n",
    "# 需求2: 删除 John Carter 行的内容.\n",
    "movie_df.drop('John Carter', axis=0)\n"
   ],
   "metadata": {
    "collapsed": false,
    "ExecuteTime": {
     "end_time": "2025-05-06T07:42:58.432092Z",
     "start_time": "2025-05-06T07:42:58.395511Z"
    }
   },
   "id": "2d7ca5a06c3a608f"
  },
  {
   "cell_type": "code",
   "execution_count": 282,
   "outputs": [
    {
     "data": {
      "text/plain": "                                            color       profit  \\\nmovie_title                                                      \nAvatar                                      Color  523505847.0   \nPirates of the Caribbean: At World's End    Color    9404152.0   \nSpectre                                     Color  -44925825.0   \nThe Dark Knight Rises                       Color  198130642.0   \nStar Wars: Episode VII - The Force Awakens    NaN          NaN   \n\n                                                            a  \\\nmovie_title                                                     \nAvatar                                          James Cameron   \nPirates of the Caribbean: At World's End       Gore Verbinski   \nSpectre                                            Sam Mendes   \nThe Dark Knight Rises                       Christopher Nolan   \nStar Wars: Episode VII - The Force Awakens        Doug Walker   \n\n                                            num_critic_for_reviews  duration  \\\nmovie_title                                                                    \nAvatar                                                       723.0     178.0   \nPirates of the Caribbean: At World's End                     302.0     169.0   \nSpectre                                                      602.0     148.0   \nThe Dark Knight Rises                                        813.0     164.0   \nStar Wars: Episode VII - The Force Awakens                     NaN       NaN   \n\n                                            director_facebook_likes  \\\nmovie_title                                                           \nAvatar                                                          0.0   \nPirates of the Caribbean: At World's End                      563.0   \nSpectre                                                         0.0   \nThe Dark Knight Rises                                       22000.0   \nStar Wars: Episode VII - The Force Awakens                    131.0   \n\n                                            actor_3_facebook_likes  \\\nmovie_title                                                          \nAvatar                                                       855.0   \nPirates of the Caribbean: At World's End                    1000.0   \nSpectre                                                      161.0   \nThe Dark Knight Rises                                      23000.0   \nStar Wars: Episode VII - The Force Awakens                     NaN   \n\n                                                actor_2_name  \\\nmovie_title                                                    \nAvatar                                      Joel David Moore   \nPirates of the Caribbean: At World's End       Orlando Bloom   \nSpectre                                         Rory Kinnear   \nThe Dark Knight Rises                         Christian Bale   \nStar Wars: Episode VII - The Force Awakens        Rob Walker   \n\n                                            actor_1_facebook_likes  \\\nmovie_title                                                          \nAvatar                                                      1000.0   \nPirates of the Caribbean: At World's End                   40000.0   \nSpectre                                                    11000.0   \nThe Dark Knight Rises                                      27000.0   \nStar Wars: Episode VII - The Force Awakens                   131.0   \n\n                                                  gross  ... content_rating  \\\nmovie_title                                              ...                  \nAvatar                                      760505847.0  ...          PG-13   \nPirates of the Caribbean: At World's End    309404152.0  ...          PG-13   \nSpectre                                     200074175.0  ...          PG-13   \nThe Dark Knight Rises                       448130642.0  ...          PG-13   \nStar Wars: Episode VII - The Force Awakens          NaN  ...            NaN   \n\n                                                 budget  title_year  \\\nmovie_title                                                           \nAvatar                                      237000000.0      2009.0   \nPirates of the Caribbean: At World's End    300000000.0      2007.0   \nSpectre                                     245000000.0      2015.0   \nThe Dark Knight Rises                       250000000.0      2012.0   \nStar Wars: Episode VII - The Force Awakens          NaN         NaN   \n\n                                            actor_2_facebook_likes imdb_score  \\\nmovie_title                                                                     \nAvatar                                                       936.0        7.9   \nPirates of the Caribbean: At World's End                    5000.0        7.1   \nSpectre                                                      393.0        6.8   \nThe Dark Knight Rises                                      23000.0        8.5   \nStar Wars: Episode VII - The Force Awakens                    12.0        7.1   \n\n                                            aspect_ratio movie_facebook_likes  \\\nmovie_title                                                                     \nAvatar                                              1.78                33000   \nPirates of the Caribbean: At World's End            2.35                    0   \nSpectre                                             2.35                85000   \nThe Dark Knight Rises                               2.35               164000   \nStar Wars: Episode VII - The Force Awakens           NaN                    0   \n\n                                           has_seen  \\\nmovie_title                                           \nAvatar                                            0   \nPirates of the Caribbean: At World's End          0   \nSpectre                                           0   \nThe Dark Knight Rises                             0   \nStar Wars: Episode VII - The Force Awakens        0   \n\n                                            director_actor_facebook_likes  \\\nmovie_title                                                                 \nAvatar                                                             1936.0   \nPirates of the Caribbean: At World's End                          45563.0   \nSpectre                                                           11393.0   \nThe Dark Knight Rises                                             72000.0   \nStar Wars: Episode VII - The Force Awakens                          274.0   \n\n                                           has_seen2  \nmovie_title                                           \nAvatar                                             0  \nPirates of the Caribbean: At World's End           0  \nSpectre                                            0  \nThe Dark Knight Rises                              0  \nStar Wars: Episode VII - The Force Awakens         0  \n\n[5 rows x 31 columns]",
      "text/html": "<div>\n<style scoped>\n    .dataframe tbody tr th:only-of-type {\n        vertical-align: middle;\n    }\n\n    .dataframe tbody tr th {\n        vertical-align: top;\n    }\n\n    .dataframe thead th {\n        text-align: right;\n    }\n</style>\n<table border=\"1\" class=\"dataframe\">\n  <thead>\n    <tr style=\"text-align: right;\">\n      <th></th>\n      <th>color</th>\n      <th>profit</th>\n      <th>a</th>\n      <th>num_critic_for_reviews</th>\n      <th>duration</th>\n      <th>director_facebook_likes</th>\n      <th>actor_3_facebook_likes</th>\n      <th>actor_2_name</th>\n      <th>actor_1_facebook_likes</th>\n      <th>gross</th>\n      <th>...</th>\n      <th>content_rating</th>\n      <th>budget</th>\n      <th>title_year</th>\n      <th>actor_2_facebook_likes</th>\n      <th>imdb_score</th>\n      <th>aspect_ratio</th>\n      <th>movie_facebook_likes</th>\n      <th>has_seen</th>\n      <th>director_actor_facebook_likes</th>\n      <th>has_seen2</th>\n    </tr>\n    <tr>\n      <th>movie_title</th>\n      <th></th>\n      <th></th>\n      <th></th>\n      <th></th>\n      <th></th>\n      <th></th>\n      <th></th>\n      <th></th>\n      <th></th>\n      <th></th>\n      <th></th>\n      <th></th>\n      <th></th>\n      <th></th>\n      <th></th>\n      <th></th>\n      <th></th>\n      <th></th>\n      <th></th>\n      <th></th>\n      <th></th>\n    </tr>\n  </thead>\n  <tbody>\n    <tr>\n      <th>Avatar</th>\n      <td>Color</td>\n      <td>523505847.0</td>\n      <td>James Cameron</td>\n      <td>723.0</td>\n      <td>178.0</td>\n      <td>0.0</td>\n      <td>855.0</td>\n      <td>Joel David Moore</td>\n      <td>1000.0</td>\n      <td>760505847.0</td>\n      <td>...</td>\n      <td>PG-13</td>\n      <td>237000000.0</td>\n      <td>2009.0</td>\n      <td>936.0</td>\n      <td>7.9</td>\n      <td>1.78</td>\n      <td>33000</td>\n      <td>0</td>\n      <td>1936.0</td>\n      <td>0</td>\n    </tr>\n    <tr>\n      <th>Pirates of the Caribbean: At World's End</th>\n      <td>Color</td>\n      <td>9404152.0</td>\n      <td>Gore Verbinski</td>\n      <td>302.0</td>\n      <td>169.0</td>\n      <td>563.0</td>\n      <td>1000.0</td>\n      <td>Orlando Bloom</td>\n      <td>40000.0</td>\n      <td>309404152.0</td>\n      <td>...</td>\n      <td>PG-13</td>\n      <td>300000000.0</td>\n      <td>2007.0</td>\n      <td>5000.0</td>\n      <td>7.1</td>\n      <td>2.35</td>\n      <td>0</td>\n      <td>0</td>\n      <td>45563.0</td>\n      <td>0</td>\n    </tr>\n    <tr>\n      <th>Spectre</th>\n      <td>Color</td>\n      <td>-44925825.0</td>\n      <td>Sam Mendes</td>\n      <td>602.0</td>\n      <td>148.0</td>\n      <td>0.0</td>\n      <td>161.0</td>\n      <td>Rory Kinnear</td>\n      <td>11000.0</td>\n      <td>200074175.0</td>\n      <td>...</td>\n      <td>PG-13</td>\n      <td>245000000.0</td>\n      <td>2015.0</td>\n      <td>393.0</td>\n      <td>6.8</td>\n      <td>2.35</td>\n      <td>85000</td>\n      <td>0</td>\n      <td>11393.0</td>\n      <td>0</td>\n    </tr>\n    <tr>\n      <th>The Dark Knight Rises</th>\n      <td>Color</td>\n      <td>198130642.0</td>\n      <td>Christopher Nolan</td>\n      <td>813.0</td>\n      <td>164.0</td>\n      <td>22000.0</td>\n      <td>23000.0</td>\n      <td>Christian Bale</td>\n      <td>27000.0</td>\n      <td>448130642.0</td>\n      <td>...</td>\n      <td>PG-13</td>\n      <td>250000000.0</td>\n      <td>2012.0</td>\n      <td>23000.0</td>\n      <td>8.5</td>\n      <td>2.35</td>\n      <td>164000</td>\n      <td>0</td>\n      <td>72000.0</td>\n      <td>0</td>\n    </tr>\n    <tr>\n      <th>Star Wars: Episode VII - The Force Awakens</th>\n      <td>NaN</td>\n      <td>NaN</td>\n      <td>Doug Walker</td>\n      <td>NaN</td>\n      <td>NaN</td>\n      <td>131.0</td>\n      <td>NaN</td>\n      <td>Rob Walker</td>\n      <td>131.0</td>\n      <td>NaN</td>\n      <td>...</td>\n      <td>NaN</td>\n      <td>NaN</td>\n      <td>NaN</td>\n      <td>12.0</td>\n      <td>7.1</td>\n      <td>NaN</td>\n      <td>0</td>\n      <td>0</td>\n      <td>274.0</td>\n      <td>0</td>\n    </tr>\n  </tbody>\n</table>\n<p>5 rows × 31 columns</p>\n</div>"
     },
     "execution_count": 282,
     "metadata": {},
     "output_type": "execute_result"
    }
   ],
   "source": [
    "# 需求: 插入列, 在索引1的位置插入 profit 列, 它的值 = gross - budget, 即: 总盈利 = 总收入 - 总预算.\n",
    "# 语法：.insert(loc=1, column='列名', value=xx)\n",
    "# insert()函数 不是返回副本, 而是在 源数据上直接修改. \n",
    "movie.insert(loc=1, column='profit', value=movie['gross'] - movie.budget)\n",
    "movie.head()"
   ],
   "metadata": {
    "collapsed": false,
    "ExecuteTime": {
     "end_time": "2025-05-05T20:36:42.979821Z",
     "start_time": "2025-05-05T20:36:42.899363900Z"
    }
   },
   "id": "35995bc1f155f2a5"
  },
  {
   "cell_type": "markdown",
   "source": [
    "# 6. 导入和导出数据"
   ],
   "metadata": {
    "collapsed": false
   },
   "id": "89ffbc23108e8d7f"
  },
  {
   "cell_type": "markdown",
   "source": [
    "## 6.1 导出数据"
   ],
   "metadata": {
    "collapsed": false
   },
   "id": "4dfe108e51cfde02"
  },
  {
   "cell_type": "code",
   "execution_count": 283,
   "outputs": [
    {
     "data": {
      "text/plain": "                   Name        Born        Died  Age          Occupation\n0     Rosaline Franklin  1920-07-25  1958-04-16   37             Chemist\n1        William Gosset  1876-06-13  1937-10-16   61        Statistician\n2  Florence Nightingale  1820-05-12  1910-08-13   90               Nurse\n3           Marie Curie  1867-11-07  1934-07-04   66             Chemist\n4         Rachel Carson  1907-05-27  1964-04-14   56           Biologist\n5             John Snow  1813-03-15  1858-06-16   45           Physician\n6           Alan Turing  1912-06-23  1954-06-07   41  Computer Scientist\n7          Johann Gauss  1777-04-30  1855-02-23   77       Mathematician",
      "text/html": "<div>\n<style scoped>\n    .dataframe tbody tr th:only-of-type {\n        vertical-align: middle;\n    }\n\n    .dataframe tbody tr th {\n        vertical-align: top;\n    }\n\n    .dataframe thead th {\n        text-align: right;\n    }\n</style>\n<table border=\"1\" class=\"dataframe\">\n  <thead>\n    <tr style=\"text-align: right;\">\n      <th></th>\n      <th>Name</th>\n      <th>Born</th>\n      <th>Died</th>\n      <th>Age</th>\n      <th>Occupation</th>\n    </tr>\n  </thead>\n  <tbody>\n    <tr>\n      <th>0</th>\n      <td>Rosaline Franklin</td>\n      <td>1920-07-25</td>\n      <td>1958-04-16</td>\n      <td>37</td>\n      <td>Chemist</td>\n    </tr>\n    <tr>\n      <th>1</th>\n      <td>William Gosset</td>\n      <td>1876-06-13</td>\n      <td>1937-10-16</td>\n      <td>61</td>\n      <td>Statistician</td>\n    </tr>\n    <tr>\n      <th>2</th>\n      <td>Florence Nightingale</td>\n      <td>1820-05-12</td>\n      <td>1910-08-13</td>\n      <td>90</td>\n      <td>Nurse</td>\n    </tr>\n    <tr>\n      <th>3</th>\n      <td>Marie Curie</td>\n      <td>1867-11-07</td>\n      <td>1934-07-04</td>\n      <td>66</td>\n      <td>Chemist</td>\n    </tr>\n    <tr>\n      <th>4</th>\n      <td>Rachel Carson</td>\n      <td>1907-05-27</td>\n      <td>1964-04-14</td>\n      <td>56</td>\n      <td>Biologist</td>\n    </tr>\n    <tr>\n      <th>5</th>\n      <td>John Snow</td>\n      <td>1813-03-15</td>\n      <td>1858-06-16</td>\n      <td>45</td>\n      <td>Physician</td>\n    </tr>\n    <tr>\n      <th>6</th>\n      <td>Alan Turing</td>\n      <td>1912-06-23</td>\n      <td>1954-06-07</td>\n      <td>41</td>\n      <td>Computer Scientist</td>\n    </tr>\n    <tr>\n      <th>7</th>\n      <td>Johann Gauss</td>\n      <td>1777-04-30</td>\n      <td>1855-02-23</td>\n      <td>77</td>\n      <td>Mathematician</td>\n    </tr>\n  </tbody>\n</table>\n</div>"
     },
     "execution_count": 283,
     "metadata": {},
     "output_type": "execute_result"
    }
   ],
   "source": [
    "# 需求: 导出数据到 G:\\tmp\\output\\...\n",
    "# 细节: 要导出到的目的地目录, 必须存在, 即:  output目录必须存在.\n",
    "# 格式:  df.to_后缀名(路径)\n",
    "\n",
    "# 1. 准备原始df对象.\n",
    "df = pd.read_csv('../data/scientists.csv')\n",
    "df"
   ],
   "metadata": {
    "collapsed": false,
    "ExecuteTime": {
     "end_time": "2025-05-05T20:37:09.413435500Z",
     "start_time": "2025-05-05T20:37:09.367622700Z"
    }
   },
   "id": "315201bf8065ef35"
  },
  {
   "cell_type": "code",
   "execution_count": 33,
   "outputs": [
    {
     "data": {
      "text/plain": "                   Name        Born        Died  Age     Occupation\n1        William Gosset  1876-06-13  1937-10-16   61   Statistician\n2  Florence Nightingale  1820-05-12  1910-08-13   90          Nurse\n3           Marie Curie  1867-11-07  1934-07-04   66        Chemist\n7          Johann Gauss  1777-04-30  1855-02-23   77  Mathematician",
      "text/html": "<div>\n<style scoped>\n    .dataframe tbody tr th:only-of-type {\n        vertical-align: middle;\n    }\n\n    .dataframe tbody tr th {\n        vertical-align: top;\n    }\n\n    .dataframe thead th {\n        text-align: right;\n    }\n</style>\n<table border=\"1\" class=\"dataframe\">\n  <thead>\n    <tr style=\"text-align: right;\">\n      <th></th>\n      <th>Name</th>\n      <th>Born</th>\n      <th>Died</th>\n      <th>Age</th>\n      <th>Occupation</th>\n    </tr>\n  </thead>\n  <tbody>\n    <tr>\n      <th>1</th>\n      <td>William Gosset</td>\n      <td>1876-06-13</td>\n      <td>1937-10-16</td>\n      <td>61</td>\n      <td>Statistician</td>\n    </tr>\n    <tr>\n      <th>2</th>\n      <td>Florence Nightingale</td>\n      <td>1820-05-12</td>\n      <td>1910-08-13</td>\n      <td>90</td>\n      <td>Nurse</td>\n    </tr>\n    <tr>\n      <th>3</th>\n      <td>Marie Curie</td>\n      <td>1867-11-07</td>\n      <td>1934-07-04</td>\n      <td>66</td>\n      <td>Chemist</td>\n    </tr>\n    <tr>\n      <th>7</th>\n      <td>Johann Gauss</td>\n      <td>1777-04-30</td>\n      <td>1855-02-23</td>\n      <td>77</td>\n      <td>Mathematician</td>\n    </tr>\n  </tbody>\n</table>\n</div>"
     },
     "execution_count": 33,
     "metadata": {},
     "output_type": "execute_result"
    }
   ],
   "source": [
    "# 2. 对上述的df做操作, 模拟: 实际开发中, 对df对象做处理. \n",
    "# 需求: 筛选出 年龄 大于 平均年龄的数据.\n",
    "# 语法：df[df.col > df.col.mean()]\n",
    "df = pd.read_csv('../data/scientists.csv')\n",
    "df[df.Age > df.Age.mean()]\n"
   ],
   "metadata": {
    "collapsed": false,
    "ExecuteTime": {
     "end_time": "2025-05-06T07:44:02.109477Z",
     "start_time": "2025-05-06T07:44:02.075212Z"
    }
   },
   "id": "83ea36d76507a877"
  },
  {
   "cell_type": "code",
   "execution_count": 40,
   "outputs": [],
   "source": [
    "# 需求: 导出数据到 G:\\tmp\\output\\...\n",
    "# 细节: 要导出到的目的地目录, 必须存在, 即:  output目录必须存在.\n",
    "# 格式:  df.to_后缀名(路径)\n",
    "df.to_csv('mycsv.csv')\n",
    "# 3. 把上述的df对象, 写出到目的地中. \n",
    "#3.1 pickle格式文件\n",
    "# pickle: 比较适合 存储中间的df数据, 即: 后续要频繁使用的df对象, 可以存储下来. \n",
    "# pickle文件的后缀名可以是: .p, .pkl, .pickle\n",
    "# 语法：df.to_pickle('G:\\tmp\\output\\xx.pkl')\n",
    "df.to_pickle('mydf.pkl')\n",
    "#3.2 excel, csv等文件, 适合于: 存储最终结果. \n",
    "# 注意: 有三个包需要安装一下, 如果你读写excel文件, 但如果你用的是Anaconda, 已经有了, 无需安装.\n",
    "#语法：df.to_excel('G:\\tmp\\output\\xx.xls')  # 会把索引列也当做数据, 写出. \n",
    "#语法：df.to_excel('G:\\tmp\\output\\xx.xls', index=False, sheet_name='xx') # 不导出索引列, 且设置sheet名. \n",
    "\n",
    "\n",
    "# csv(用逗号隔开), tsv(用\\t隔开), 适用于 数据共享, 整合等操作. \n",
    "#语法：df.to_csv('G:\\tmp\\output\\xx.csv')\n",
    "#语法：df.to_csv('G:\\tmp\\output\\xx.csv', index=False, sep='\\t或者,')\n",
    "\n",
    "# df.to_csv(r'G:\\tmp\\output\\scientists_noindex.tsv', index=False, sep='\\t')\n"
   ],
   "metadata": {
    "collapsed": false,
    "ExecuteTime": {
     "end_time": "2025-05-06T07:46:39.123045Z",
     "start_time": "2025-05-06T07:46:39.083722Z"
    }
   },
   "id": "8dfc38abbbeb38c3"
  },
  {
   "cell_type": "markdown",
   "source": [
    "# 6.2 读取数据"
   ],
   "metadata": {
    "collapsed": false
   },
   "id": "e7acd486e6e3c2eb"
  },
  {
   "cell_type": "code",
   "execution_count": null,
   "outputs": [],
   "source": [
    "# 演示导入\n",
    "\n",
    "# pickle文件\n",
    "# pd.read_pickle(r'G:\\tmp\\output\\scientists_pickle.pkl') \n",
    "\n",
    "# excel文件\n",
    "# pd.read_excel(r'G:\\tmp\\output\\scientists.xls')            \n",
    "\n",
    "# csv文件\n",
    "# pd.read_csv(r'G:\\tmp\\output\\scientists.csv')                 \n",
    "\n",
    "pd.read_csv(r'G:\\tmp\\output\\scientists_noindex.tsv', sep='\\t')  \n"
   ],
   "metadata": {
    "collapsed": false
   },
   "id": "bcb90599febcb187"
  }
 ],
 "metadata": {
  "kernelspec": {
   "display_name": "Python 3",
   "language": "python",
   "name": "python3"
  },
  "language_info": {
   "codemirror_mode": {
    "name": "ipython",
    "version": 2
   },
   "file_extension": ".py",
   "mimetype": "text/x-python",
   "name": "python",
   "nbconvert_exporter": "python",
   "pygments_lexer": "ipython2",
   "version": "2.7.6"
  }
 },
 "nbformat": 4,
 "nbformat_minor": 5
}
