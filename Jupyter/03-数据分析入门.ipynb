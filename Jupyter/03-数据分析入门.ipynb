{
 "cells": [
  {
   "cell_type": "markdown",
   "source": [
    "# 导包"
   ],
   "metadata": {
    "collapsed": false
   },
   "id": "dc23270b81344b7"
  },
  {
   "cell_type": "code",
   "execution_count": 34,
   "outputs": [],
   "source": [
    "import numpy as np\n",
    "import pandas as pd\n",
    "import matplotlib.pyplot as plt         # Matplotlib包用于绘图的\n",
    "plt.rcParams['font.sans-serif'] = ['SimHei'] # 设置默认字体为黑体\n",
    "plt.rcParams['axes.unicode_minus'] = False   # 解决负号显示异常"
   ],
   "metadata": {
    "collapsed": false,
    "ExecuteTime": {
     "end_time": "2025-05-07T13:12:01.400480Z",
     "start_time": "2025-05-07T13:12:01.175974Z"
    }
   },
   "id": "b513f22ab17ba0f2"
  },
  {
   "cell_type": "markdown",
   "source": [
    "# 1. 演示DataFrame加载指定行, 列的数据"
   ],
   "metadata": {
    "collapsed": false
   },
   "id": "7f04a12dec1c7fb1"
  },
  {
   "cell_type": "markdown",
   "source": [
    "## 1.1 演示df加载: 列"
   ],
   "metadata": {
    "collapsed": false
   },
   "id": "9b9ec0503563189e"
  },
  {
   "cell_type": "code",
   "execution_count": 2,
   "outputs": [
    {
     "data": {
      "text/plain": "       country continent  year  lifeExp       pop   gdpPercap\n0  Afghanistan      Asia  1952   28.801   8425333  779.445314\n1  Afghanistan      Asia  1957   30.332   9240934  820.853030\n2  Afghanistan      Asia  1962   31.997  10267083  853.100710\n3  Afghanistan      Asia  1967   34.020  11537966  836.197138\n4  Afghanistan      Asia  1972   36.088  13079460  739.981106",
      "text/html": "<div>\n<style scoped>\n    .dataframe tbody tr th:only-of-type {\n        vertical-align: middle;\n    }\n\n    .dataframe tbody tr th {\n        vertical-align: top;\n    }\n\n    .dataframe thead th {\n        text-align: right;\n    }\n</style>\n<table border=\"1\" class=\"dataframe\">\n  <thead>\n    <tr style=\"text-align: right;\">\n      <th></th>\n      <th>country</th>\n      <th>continent</th>\n      <th>year</th>\n      <th>lifeExp</th>\n      <th>pop</th>\n      <th>gdpPercap</th>\n    </tr>\n  </thead>\n  <tbody>\n    <tr>\n      <th>0</th>\n      <td>Afghanistan</td>\n      <td>Asia</td>\n      <td>1952</td>\n      <td>28.801</td>\n      <td>8425333</td>\n      <td>779.445314</td>\n    </tr>\n    <tr>\n      <th>1</th>\n      <td>Afghanistan</td>\n      <td>Asia</td>\n      <td>1957</td>\n      <td>30.332</td>\n      <td>9240934</td>\n      <td>820.853030</td>\n    </tr>\n    <tr>\n      <th>2</th>\n      <td>Afghanistan</td>\n      <td>Asia</td>\n      <td>1962</td>\n      <td>31.997</td>\n      <td>10267083</td>\n      <td>853.100710</td>\n    </tr>\n    <tr>\n      <th>3</th>\n      <td>Afghanistan</td>\n      <td>Asia</td>\n      <td>1967</td>\n      <td>34.020</td>\n      <td>11537966</td>\n      <td>836.197138</td>\n    </tr>\n    <tr>\n      <th>4</th>\n      <td>Afghanistan</td>\n      <td>Asia</td>\n      <td>1972</td>\n      <td>36.088</td>\n      <td>13079460</td>\n      <td>739.981106</td>\n    </tr>\n  </tbody>\n</table>\n</div>"
     },
     "execution_count": 2,
     "metadata": {},
     "output_type": "execute_result"
    }
   ],
   "source": [
    "# 1. 读取数据源, 获取df对象.\n",
    "import pandas as pd\n",
    "df = pd.read_csv('../data/gapminder.tsv', sep='\\t')\n",
    "df.head()"
   ],
   "metadata": {
    "collapsed": false,
    "ExecuteTime": {
     "end_time": "2025-05-07T12:54:15.057068Z",
     "start_time": "2025-05-07T12:54:14.666271Z"
    }
   },
   "id": "df77f4718cfd7172"
  },
  {
   "cell_type": "code",
   "execution_count": 5,
   "outputs": [
    {
     "data": {
      "text/plain": "country       object\ncontinent     object\nyear           int64\nlifeExp      float64\npop            int64\ngdpPercap    float64\ndtype: object"
     },
     "execution_count": 5,
     "metadata": {},
     "output_type": "execute_result"
    }
   ],
   "source": [
    "# 2. 处理数据之前, 先简单的看下数据的结构. \n",
    "# df.shape  # (1704, 6)\n",
    "df.shape\n",
    "# df.dtypes  # 查看df对象, 各列的数据类型\n",
    "df.dtypes\n",
    "# df.info()  # 查看各列的基础信息, (非空)总条数, 数据类型...\n",
    "# df.describe()  # 查看各列的统计信息, 默认只看到 数值列(整数, 小数)的统计信息.\n",
    "# df.describe(include='all')  # 查看所有列的统计信息\n",
    "# df.describe(include=object)  # 查看 字符串列 的统计信息\n",
    "# df.describe(include=['int', 'float'])  # 查看 数值列 的统计信息"
   ],
   "metadata": {
    "collapsed": false,
    "ExecuteTime": {
     "end_time": "2025-05-06T08:12:50.345445Z",
     "start_time": "2025-05-06T08:12:50.296417Z"
    }
   },
   "id": "5729595259ad5edc"
  },
  {
   "cell_type": "code",
   "execution_count": 6,
   "outputs": [
    {
     "data": {
      "text/plain": "0       Afghanistan\n1       Afghanistan\n2       Afghanistan\n3       Afghanistan\n4       Afghanistan\n           ...     \n1699       Zimbabwe\n1700       Zimbabwe\n1701       Zimbabwe\n1702       Zimbabwe\n1703       Zimbabwe\nName: country, Length: 1704, dtype: object"
     },
     "execution_count": 6,
     "metadata": {},
     "output_type": "execute_result"
    }
   ],
   "source": [
    "# 3. 加载指定的 1列数据. \n",
    "# 语法： df[col]\n",
    "df['country']\n"
   ],
   "metadata": {
    "collapsed": false,
    "ExecuteTime": {
     "end_time": "2025-05-06T08:13:26.089961Z",
     "start_time": "2025-05-06T08:13:26.042778Z"
    }
   },
   "id": "bd373ead704034e7"
  },
  {
   "cell_type": "code",
   "execution_count": 8,
   "outputs": [
    {
     "data": {
      "text/plain": "          country  year\n0     Afghanistan  1952\n1     Afghanistan  1957\n2     Afghanistan  1962\n3     Afghanistan  1967\n4     Afghanistan  1972\n...           ...   ...\n1699     Zimbabwe  1987\n1700     Zimbabwe  1992\n1701     Zimbabwe  1997\n1702     Zimbabwe  2002\n1703     Zimbabwe  2007\n\n[1704 rows x 2 columns]",
      "text/html": "<div>\n<style scoped>\n    .dataframe tbody tr th:only-of-type {\n        vertical-align: middle;\n    }\n\n    .dataframe tbody tr th {\n        vertical-align: top;\n    }\n\n    .dataframe thead th {\n        text-align: right;\n    }\n</style>\n<table border=\"1\" class=\"dataframe\">\n  <thead>\n    <tr style=\"text-align: right;\">\n      <th></th>\n      <th>country</th>\n      <th>year</th>\n    </tr>\n  </thead>\n  <tbody>\n    <tr>\n      <th>0</th>\n      <td>Afghanistan</td>\n      <td>1952</td>\n    </tr>\n    <tr>\n      <th>1</th>\n      <td>Afghanistan</td>\n      <td>1957</td>\n    </tr>\n    <tr>\n      <th>2</th>\n      <td>Afghanistan</td>\n      <td>1962</td>\n    </tr>\n    <tr>\n      <th>3</th>\n      <td>Afghanistan</td>\n      <td>1967</td>\n    </tr>\n    <tr>\n      <th>4</th>\n      <td>Afghanistan</td>\n      <td>1972</td>\n    </tr>\n    <tr>\n      <th>...</th>\n      <td>...</td>\n      <td>...</td>\n    </tr>\n    <tr>\n      <th>1699</th>\n      <td>Zimbabwe</td>\n      <td>1987</td>\n    </tr>\n    <tr>\n      <th>1700</th>\n      <td>Zimbabwe</td>\n      <td>1992</td>\n    </tr>\n    <tr>\n      <th>1701</th>\n      <td>Zimbabwe</td>\n      <td>1997</td>\n    </tr>\n    <tr>\n      <th>1702</th>\n      <td>Zimbabwe</td>\n      <td>2002</td>\n    </tr>\n    <tr>\n      <th>1703</th>\n      <td>Zimbabwe</td>\n      <td>2007</td>\n    </tr>\n  </tbody>\n</table>\n<p>1704 rows × 2 columns</p>\n</div>"
     },
     "execution_count": 8,
     "metadata": {},
     "output_type": "execute_result"
    }
   ],
   "source": [
    "# 4. 加载指定的多列数据.\n",
    "# 语法： df[[col1,col2,col3,...]]\n",
    "df[['country','year']]\n"
   ],
   "metadata": {
    "collapsed": false,
    "ExecuteTime": {
     "end_time": "2025-05-06T08:13:45.382542Z",
     "start_time": "2025-05-06T08:13:45.343022Z"
    }
   },
   "id": "270e4adf769edb5"
  },
  {
   "cell_type": "markdown",
   "source": [
    "## 1.2 演示df加载: 行"
   ],
   "metadata": {
    "collapsed": false
   },
   "id": "4acfb36780fdf388"
  },
  {
   "cell_type": "code",
   "execution_count": 6,
   "outputs": [
    {
     "data": {
      "text/plain": "       country continent  year  lifeExp      pop   gdpPercap\n0  Afghanistan      Asia  1952   28.801  8425333  779.445314",
      "text/html": "<div>\n<style scoped>\n    .dataframe tbody tr th:only-of-type {\n        vertical-align: middle;\n    }\n\n    .dataframe tbody tr th {\n        vertical-align: top;\n    }\n\n    .dataframe thead th {\n        text-align: right;\n    }\n</style>\n<table border=\"1\" class=\"dataframe\">\n  <thead>\n    <tr style=\"text-align: right;\">\n      <th></th>\n      <th>country</th>\n      <th>continent</th>\n      <th>year</th>\n      <th>lifeExp</th>\n      <th>pop</th>\n      <th>gdpPercap</th>\n    </tr>\n  </thead>\n  <tbody>\n    <tr>\n      <th>0</th>\n      <td>Afghanistan</td>\n      <td>Asia</td>\n      <td>1952</td>\n      <td>28.801</td>\n      <td>8425333</td>\n      <td>779.445314</td>\n    </tr>\n  </tbody>\n</table>\n</div>"
     },
     "execution_count": 6,
     "metadata": {},
     "output_type": "execute_result"
    }
   ],
   "source": [
    "# 通过 行索引 获取指定的行.\n",
    "# 根据 行索引 获取数据\n",
    "# 语法：df.loc[x]  \n",
    "\n",
    "# 根据 行号   获取数据\n",
    "# 语法：df.iloc[x]  \n",
    "\n",
    "# tail()方式, 获取最后一行\n",
    "# 语法： df.tail()、df.tail(x)\n",
    "\n",
    "# head()方式\n",
    "# 语法： df.head(1)\n",
    "#获取第1行\n",
    "\n"
   ],
   "metadata": {
    "collapsed": false,
    "ExecuteTime": {
     "end_time": "2025-05-07T12:55:03.614981Z",
     "start_time": "2025-05-07T12:55:03.590160Z"
    }
   },
   "id": "f8156a6f836c9647"
  },
  {
   "cell_type": "markdown",
   "source": [
    "## 1.3 演示df加载: 指定行, 列数据(重要)"
   ],
   "metadata": {
    "collapsed": false
   },
   "id": "e383f337ae880c48"
  },
  {
   "cell_type": "code",
   "execution_count": null,
   "outputs": [],
   "source": [
    "# 格式: df.loc[[行], [列]]          行索引 + 列名\n",
    "# 格式: df.iloc[[行], [列]]         行号 + 列的编号\n",
    "# 1. loc方式, 获取指定多行数据.\n",
    "# 获取 行索引 为0, 1, 2的 数据\n",
    "df.loc[[0, 1, 2]]  \n",
    "\n",
    "# 2. iloc方式, 获取指定多行数据.\n",
    "df.iloc[[0, 99, 999]]  # 获取 行号 为0, 99, 999的 数据\n",
    "\n",
    "# 3. 加载指定行的指定列\n",
    "# df.loc[[20, 21, 22], ['country', 'year', 'pop']]  # 行索引 + 列名\n",
    "# df.iloc[[20, 21, 22], [0, 2, 4]]  # 行 + 列的编号\n",
    "\n",
    "# 4. 上述的 行, 列部分, 不仅可以传入固定值, 还可以通过 range(), 切片等方式实现. \n",
    "# df.loc[:, ['country']]  # : 代表所有    所有行, 1列\n",
    "# df.loc[:, ['country', 'continent', 'lifeExp']]  # 所有行, 多列\n",
    "# df.iloc[:, [0]]  # : 代表所有    所有行, 1列\n",
    "# df.iloc[:, [0, 1, 3]]  # 所有行, 多列\n",
    "\n",
    "# df.iloc[:, range(3)]  # 所有行, 前3列\n",
    "# df.iloc[:, range(1, 5, 2)]  # 所有行, 第1, 3列的数据\n",
    "# df.iloc[range(10), range(1, 5, 2)]  # 前10行, 第1, 3列的数据\n",
    "\n",
    "# df.iloc[:, :3]  # 所有行, 前3列\n",
    "# df.iloc[:, 1:5:2]  # 所有行, 第1, 3列的数据"
   ],
   "metadata": {
    "collapsed": false
   },
   "id": "7094151c68b07c27"
  },
  {
   "cell_type": "markdown",
   "source": [
    "# 2.DataFrame对象-分组聚合"
   ],
   "metadata": {
    "collapsed": false
   },
   "id": "71c9a6740ba09b26"
  },
  {
   "cell_type": "code",
   "execution_count": 7,
   "outputs": [
    {
     "data": {
      "text/plain": "       country continent  year  lifeExp       pop   gdpPercap\n0  Afghanistan      Asia  1952   28.801   8425333  779.445314\n1  Afghanistan      Asia  1957   30.332   9240934  820.853030\n2  Afghanistan      Asia  1962   31.997  10267083  853.100710\n3  Afghanistan      Asia  1967   34.020  11537966  836.197138\n4  Afghanistan      Asia  1972   36.088  13079460  739.981106",
      "text/html": "<div>\n<style scoped>\n    .dataframe tbody tr th:only-of-type {\n        vertical-align: middle;\n    }\n\n    .dataframe tbody tr th {\n        vertical-align: top;\n    }\n\n    .dataframe thead th {\n        text-align: right;\n    }\n</style>\n<table border=\"1\" class=\"dataframe\">\n  <thead>\n    <tr style=\"text-align: right;\">\n      <th></th>\n      <th>country</th>\n      <th>continent</th>\n      <th>year</th>\n      <th>lifeExp</th>\n      <th>pop</th>\n      <th>gdpPercap</th>\n    </tr>\n  </thead>\n  <tbody>\n    <tr>\n      <th>0</th>\n      <td>Afghanistan</td>\n      <td>Asia</td>\n      <td>1952</td>\n      <td>28.801</td>\n      <td>8425333</td>\n      <td>779.445314</td>\n    </tr>\n    <tr>\n      <th>1</th>\n      <td>Afghanistan</td>\n      <td>Asia</td>\n      <td>1957</td>\n      <td>30.332</td>\n      <td>9240934</td>\n      <td>820.853030</td>\n    </tr>\n    <tr>\n      <th>2</th>\n      <td>Afghanistan</td>\n      <td>Asia</td>\n      <td>1962</td>\n      <td>31.997</td>\n      <td>10267083</td>\n      <td>853.100710</td>\n    </tr>\n    <tr>\n      <th>3</th>\n      <td>Afghanistan</td>\n      <td>Asia</td>\n      <td>1967</td>\n      <td>34.020</td>\n      <td>11537966</td>\n      <td>836.197138</td>\n    </tr>\n    <tr>\n      <th>4</th>\n      <td>Afghanistan</td>\n      <td>Asia</td>\n      <td>1972</td>\n      <td>36.088</td>\n      <td>13079460</td>\n      <td>739.981106</td>\n    </tr>\n  </tbody>\n</table>\n</div>"
     },
     "execution_count": 7,
     "metadata": {},
     "output_type": "execute_result"
    }
   ],
   "source": [
    "# 1. 查看源数据\n",
    "df.head()"
   ],
   "metadata": {
    "collapsed": false,
    "ExecuteTime": {
     "end_time": "2025-05-07T12:55:21.491770Z",
     "start_time": "2025-05-07T12:55:21.457028Z"
    }
   },
   "id": "5a752902188ab3e2"
  },
  {
   "cell_type": "code",
   "execution_count": 17,
   "outputs": [
    {
     "data": {
      "text/plain": "        lifeExp           pop     gdpPercap\nyear                                       \n1952  49.057620  1.695040e+07   3725.276046\n1957  51.507401  1.876341e+07   4299.408345\n1962  53.609249  2.042101e+07   4725.812342\n1967  55.678290  2.265830e+07   5483.653047\n1972  57.647386  2.518998e+07   6770.082815\n1977  59.570157  2.767638e+07   7313.166421\n1982  61.533197  3.020730e+07   7518.901673\n1987  63.212613  3.303857e+07   7900.920218\n1992  64.160338  3.599092e+07   8158.608521\n1997  65.014676  3.883947e+07   9090.175363\n2002  65.694923  4.145759e+07   9917.848365\n2007  67.007423  4.402122e+07  11680.071820",
      "text/html": "<div>\n<style scoped>\n    .dataframe tbody tr th:only-of-type {\n        vertical-align: middle;\n    }\n\n    .dataframe tbody tr th {\n        vertical-align: top;\n    }\n\n    .dataframe thead th {\n        text-align: right;\n    }\n</style>\n<table border=\"1\" class=\"dataframe\">\n  <thead>\n    <tr style=\"text-align: right;\">\n      <th></th>\n      <th>lifeExp</th>\n      <th>pop</th>\n      <th>gdpPercap</th>\n    </tr>\n    <tr>\n      <th>year</th>\n      <th></th>\n      <th></th>\n      <th></th>\n    </tr>\n  </thead>\n  <tbody>\n    <tr>\n      <th>1952</th>\n      <td>49.057620</td>\n      <td>1.695040e+07</td>\n      <td>3725.276046</td>\n    </tr>\n    <tr>\n      <th>1957</th>\n      <td>51.507401</td>\n      <td>1.876341e+07</td>\n      <td>4299.408345</td>\n    </tr>\n    <tr>\n      <th>1962</th>\n      <td>53.609249</td>\n      <td>2.042101e+07</td>\n      <td>4725.812342</td>\n    </tr>\n    <tr>\n      <th>1967</th>\n      <td>55.678290</td>\n      <td>2.265830e+07</td>\n      <td>5483.653047</td>\n    </tr>\n    <tr>\n      <th>1972</th>\n      <td>57.647386</td>\n      <td>2.518998e+07</td>\n      <td>6770.082815</td>\n    </tr>\n    <tr>\n      <th>1977</th>\n      <td>59.570157</td>\n      <td>2.767638e+07</td>\n      <td>7313.166421</td>\n    </tr>\n    <tr>\n      <th>1982</th>\n      <td>61.533197</td>\n      <td>3.020730e+07</td>\n      <td>7518.901673</td>\n    </tr>\n    <tr>\n      <th>1987</th>\n      <td>63.212613</td>\n      <td>3.303857e+07</td>\n      <td>7900.920218</td>\n    </tr>\n    <tr>\n      <th>1992</th>\n      <td>64.160338</td>\n      <td>3.599092e+07</td>\n      <td>8158.608521</td>\n    </tr>\n    <tr>\n      <th>1997</th>\n      <td>65.014676</td>\n      <td>3.883947e+07</td>\n      <td>9090.175363</td>\n    </tr>\n    <tr>\n      <th>2002</th>\n      <td>65.694923</td>\n      <td>4.145759e+07</td>\n      <td>9917.848365</td>\n    </tr>\n    <tr>\n      <th>2007</th>\n      <td>67.007423</td>\n      <td>4.402122e+07</td>\n      <td>11680.071820</td>\n    </tr>\n  </tbody>\n</table>\n</div>"
     },
     "execution_count": 17,
     "metadata": {},
     "output_type": "execute_result"
    }
   ],
   "source": [
    "# 分组统计格式: df.groupby('分组字段')['聚合操作的字段'].具体的聚合函数名()\n",
    "# 分组统计格式: df.groupby(['分组字段1', '分组字段2'])[['聚合操作的字段1', '聚合操作的字段2']].具体的聚合函数名()\n",
    "\n",
    "# 2. 基于上述的格式, 完成如下的需求.\n",
    "# 需求1: 统计每一年平均预期寿命, 平均人口, 平均GDP\n",
    "# 年：year;预期寿命: lifeExp, 人口:pop; GDP:gdpPercap\n",
    "\n",
    "\n",
    "# 需求2: 统计每一年平均预期寿命, 平均人口, 平均GDP\n",
    "\n",
    "\n"
   ],
   "metadata": {
    "collapsed": false,
    "ExecuteTime": {
     "end_time": "2025-05-07T13:00:33.227107Z",
     "start_time": "2025-05-07T13:00:33.196421Z"
    }
   },
   "id": "fbfc079c3307e395"
  },
  {
   "cell_type": "code",
   "execution_count": 28,
   "outputs": [
    {
     "data": {
      "text/plain": "                         lifeExp       pop    gdpPercap\nyear country                                           \n1952 Afghanistan          28.801   8425333   779.445314\n     Albania              55.230   1282697  1601.056136\n     Algeria              43.077   9279525  2449.008185\n     Angola               30.015   4232095  3520.610273\n     Argentina            62.485  17876956  5911.315053\n...                          ...       ...          ...\n2007 Vietnam              74.249  85262356  2441.576404\n     West Bank and Gaza   73.422   4018332  3025.349798\n     Yemen, Rep.          62.698  22211743  2280.769906\n     Zambia               42.384  11746035  1271.211593\n     Zimbabwe             43.487  12311143   469.709298\n\n[1704 rows x 3 columns]",
      "text/html": "<div>\n<style scoped>\n    .dataframe tbody tr th:only-of-type {\n        vertical-align: middle;\n    }\n\n    .dataframe tbody tr th {\n        vertical-align: top;\n    }\n\n    .dataframe thead th {\n        text-align: right;\n    }\n</style>\n<table border=\"1\" class=\"dataframe\">\n  <thead>\n    <tr style=\"text-align: right;\">\n      <th></th>\n      <th></th>\n      <th>lifeExp</th>\n      <th>pop</th>\n      <th>gdpPercap</th>\n    </tr>\n    <tr>\n      <th>year</th>\n      <th>country</th>\n      <th></th>\n      <th></th>\n      <th></th>\n    </tr>\n  </thead>\n  <tbody>\n    <tr>\n      <th rowspan=\"5\" valign=\"top\">1952</th>\n      <th>Afghanistan</th>\n      <td>28.801</td>\n      <td>8425333</td>\n      <td>779.445314</td>\n    </tr>\n    <tr>\n      <th>Albania</th>\n      <td>55.230</td>\n      <td>1282697</td>\n      <td>1601.056136</td>\n    </tr>\n    <tr>\n      <th>Algeria</th>\n      <td>43.077</td>\n      <td>9279525</td>\n      <td>2449.008185</td>\n    </tr>\n    <tr>\n      <th>Angola</th>\n      <td>30.015</td>\n      <td>4232095</td>\n      <td>3520.610273</td>\n    </tr>\n    <tr>\n      <th>Argentina</th>\n      <td>62.485</td>\n      <td>17876956</td>\n      <td>5911.315053</td>\n    </tr>\n    <tr>\n      <th>...</th>\n      <th>...</th>\n      <td>...</td>\n      <td>...</td>\n      <td>...</td>\n    </tr>\n    <tr>\n      <th rowspan=\"5\" valign=\"top\">2007</th>\n      <th>Vietnam</th>\n      <td>74.249</td>\n      <td>85262356</td>\n      <td>2441.576404</td>\n    </tr>\n    <tr>\n      <th>West Bank and Gaza</th>\n      <td>73.422</td>\n      <td>4018332</td>\n      <td>3025.349798</td>\n    </tr>\n    <tr>\n      <th>Yemen, Rep.</th>\n      <td>62.698</td>\n      <td>22211743</td>\n      <td>2280.769906</td>\n    </tr>\n    <tr>\n      <th>Zambia</th>\n      <td>42.384</td>\n      <td>11746035</td>\n      <td>1271.211593</td>\n    </tr>\n    <tr>\n      <th>Zimbabwe</th>\n      <td>43.487</td>\n      <td>12311143</td>\n      <td>469.709298</td>\n    </tr>\n  </tbody>\n</table>\n<p>1704 rows × 3 columns</p>\n</div>"
     },
     "execution_count": 28,
     "metadata": {},
     "output_type": "execute_result"
    }
   ],
   "source": [
    "# 需求2: 按照大洲计算, 每个各个大洲的平均预期寿命, 平均人口, 平均GDP\n",
    "\n",
    "\n",
    "# 扩展, 如果计算的是 多字段的 不同的聚合需求, 可以用 agg函数实现.\n",
    "# 语法: df.groupby(['x','x']).agg({'列名':'聚合函数名', '列名':'聚合函数名'})\n",
    "# 统计每年,每个国家的平均寿命, 最大人口, 最小gdp\n"
   ],
   "metadata": {
    "collapsed": false,
    "ExecuteTime": {
     "end_time": "2025-05-07T13:06:57.223441Z",
     "start_time": "2025-05-07T13:06:57.177639Z"
    }
   },
   "id": "3ebb1bbf676a1fc5"
  },
  {
   "cell_type": "code",
   "execution_count": 33,
   "outputs": [
    {
     "data": {
      "text/plain": "continent\nAfrica      52\nAmericas    25\nAsia        33\nEurope      30\nOceania      2\nName: country, dtype: int64"
     },
     "execution_count": 33,
     "metadata": {},
     "output_type": "execute_result"
    }
   ],
   "source": [
    "# 需求3: 每个大洲, 列出了多少个国家和地区. \n",
    "df.groupby('continent')['country'].value_counts()         # 不能满足我们的要求, 它的结果是: 某个洲, 某个国家, 被统计了多少次\n",
    "# df.groupby('continent')['country'].nunique()              # 这个才是我们要的, 去重统计函数: nunique()"
   ],
   "metadata": {
    "collapsed": false,
    "ExecuteTime": {
     "end_time": "2025-05-07T13:09:55.690966Z",
     "start_time": "2025-05-07T13:09:55.648285Z"
    }
   },
   "id": "abfe509452013a5f"
  },
  {
   "cell_type": "markdown",
   "source": [
    "# 3. DataFrame基本绘图"
   ],
   "metadata": {
    "collapsed": false
   },
   "id": "698cb3019c71cd63"
  },
  {
   "cell_type": "code",
   "execution_count": 39,
   "outputs": [
    {
     "data": {
      "text/plain": "'\\nfigsize=(width, height)：\\n单位：英寸（1英寸=2.54厘米）\\n示例 (10,5) 表示宽10英寸、高5英寸\\n默认大小：(6.4, 4.8)\\n'"
     },
     "execution_count": 39,
     "metadata": {},
     "output_type": "execute_result"
    },
    {
     "data": {
      "text/plain": "<Figure size 640x480 with 1 Axes>",
      "image/png": "[encoded data removed]"
     },
     "metadata": {},
     "output_type": "display_data"
    }
   ],
   "source": [
    "# 把上述的 每年, 平均寿命 结果绘制成图形.\n",
    "# 语法：xx.plot()  # 默认是1个 折线图.\n",
    "# 语法：xx.plot(figsize=(x, y),kind='x' ) # kind='pie'\\'bar'\n",
    "\n",
    "'''\n",
    "figsize=(width, height)：\n",
    "单位：英寸（1英寸=2.54厘米）\n",
    "示例 (10,5) 表示宽10英寸、高5英寸\n",
    "默认大小：(6.4, 4.8)\n",
    "'''\n",
    "#需求：每年, 平均寿命\n",
    "\n",
    "# 绘制： 折线图\n",
    "\n",
    "# 绘制： 直方图(柱状图) \n"
   ],
   "metadata": {
    "collapsed": false,
    "ExecuteTime": {
     "end_time": "2025-05-07T13:15:27.403705Z",
     "start_time": "2025-05-07T13:15:27.347293Z"
    }
   },
   "id": "a3d0f5b4d8607ffd"
  },
  {
   "cell_type": "markdown",
   "source": [
    "# 4. DataFrame对象, 常用的统计值的方法"
   ],
   "metadata": {
    "collapsed": false
   },
   "id": "c44df2100683f456"
  },
  {
   "cell_type": "code",
   "execution_count": null,
   "outputs": [],
   "source": [
    "# 1. 加载数据源, 获取到df对象\n",
    "movie = pd.read_csv('../data/movie.csv')\n",
    "movie.head()"
   ],
   "metadata": {
    "collapsed": false
   },
   "id": "4eab0101709e3f36"
  },
  {
   "cell_type": "code",
   "execution_count": null,
   "outputs": [],
   "source": [
    "# 2. 演示常用的 统计值的方式.\n",
    "movie.shape     # 行列数\n",
    "movie.dtypes    # 每列的数据类型\n",
    "movie.info()    # 每列的基本信息, 非空值数量, 数据类型...\n",
    "movie.describe()    # 只统计 数值列 的信息\n",
    "movie.describe(include=['int', 'float'])    # 只统计 数值列 的信息, 效果同上.\n",
    "\n",
    "movie.describe(include=object)    # 只统计 字符串列 的信息\n",
    "movie.describe(include='object')  # 只统计 字符串列 的信息, 效果同上\n",
    "movie.describe(include='all')     # 统计 所有列 的信息."
   ],
   "metadata": {
    "collapsed": false
   },
   "id": "a53feee0f7d35613"
  },
  {
   "cell_type": "markdown",
   "source": [
    "# 5. DataFrame对象, 常见的排序方式"
   ],
   "metadata": {
    "collapsed": false
   },
   "id": "c2421e00af345c9a"
  },
  {
   "cell_type": "code",
   "execution_count": null,
   "outputs": [],
   "source": [
    "# 1. 查看数据源.\n",
    "movie.columns       # 查看所有的列\n",
    "movie.head()        # 查看前5条数据, 看看数据格式"
   ],
   "metadata": {
    "collapsed": false
   },
   "id": "1a93b9b5a4a48597"
  },
  {
   "cell_type": "code",
   "execution_count": null,
   "outputs": [],
   "source": [
    "# 2. 完成如下的需求.\n",
    "# df.nlargest(n, '列名')         基于某列, 找出来最大的n个      类似于SQL: order by 列名 desc limit 0, n\n",
    "# df.nsmallest(n, '列名')        基于某列, 找出来最小的n个      类似于SQL: order by 列名 asc limit 0, n\n",
    "\n",
    "# 需求1: 找到小成本, 高口碑的电影.\n",
    "# Step1: 找到该需求中, 涉及到的列.:\n",
    "movie2 = movie[['movie_title', 'imdb_score', 'budget']]\n",
    "movie2.head()\n",
    "\n",
    "# step2: 找到 评分最高的 100部电影:TOP100.\n",
    "\n",
    "\n",
    "# step3: 基于上一步, 找到 预算最小的 10部电影.\n"
   ],
   "metadata": {
    "collapsed": false
   },
   "id": "8319be18829830c7"
  },
  {
   "cell_type": "code",
   "execution_count": null,
   "outputs": [],
   "source": [
    "# 需求2: 找到每年 imdb_score 评分最高的电影.\n",
    "# 1. 从原始数据中, 找到 要用的几列数据.\n",
    "movie3 = movie[['movie_title', 'title_year', 'imdb_score']]\n",
    "movie3.head()\n",
    "\n",
    "# 2. 按照 年, 评分, 降序排列.\n",
    "# 语法1： df.sort_values(['col1', 'col2'], ascending=[False, False])  # True: 升序(默认), False(降序)\n",
    "# 语法2： df.sort_values(['col1', 'col2'], ascending=False)  # 字段都是False(降序)\n",
    "\n",
    "\n",
    "# 3. 基于上述的数据, 只获取每年的 第1条数据即可. \n",
    "# 语法： df.drop_duplicates(subset='column')\n",
    "# 参数解释, subset: 表示子级, 即: 参考某列的值, 进行(去重)删除. \n"
   ],
   "metadata": {
    "collapsed": false
   },
   "id": "a5041b05982718f8"
  },
  {
   "cell_type": "markdown",
   "source": [
    "# 6. 综合小案例-链家数据分析(12个需求)"
   ],
   "metadata": {
    "collapsed": false
   },
   "id": "3fdb7c7c408374ba"
  },
  {
   "cell_type": "code",
   "execution_count": null,
   "outputs": [],
   "source": [
    "# 1. 加载数据源, 获取df对象\n",
    "df = pd.read_csv('../data/LJdata.csv')\n",
    "df.head()"
   ],
   "metadata": {
    "collapsed": false
   },
   "id": "2ffb4d500d2661ba"
  },
  {
   "cell_type": "code",
   "execution_count": null,
   "outputs": [],
   "source": [
    "# 2. 将上述的列名, 改成英文.\n",
    "df.columns = ['district', 'address', 'title', 'house_type', 'area', 'price', 'floor', 'build_time', 'direction', 'update_time', 'view_num', 'extra_info', 'link']\n",
    "df.head()"
   ],
   "metadata": {
    "collapsed": false
   },
   "id": "b9daa489c3859e3a"
  },
  {
   "cell_type": "code",
   "execution_count": null,
   "outputs": [],
   "source": [
    "# 3. 简单的看看数据集.\n",
    "# df.shape            # 行列数, (2760, 13)\n",
    "# df.info()           # 基本信息\n",
    "df.describe()       # 统计信息"
   ],
   "metadata": {
    "collapsed": false
   },
   "id": "9deb20537fbd3d88"
  },
  {
   "cell_type": "code",
   "execution_count": null,
   "outputs": [],
   "source": [
    "# 4. 完成如下的需求. \n",
    "# 需求1: 找到租金最低, 租金最高的房子.\n",
    "# step1: 找到最低租金.\n",
    "# 语法：排序 df.sort_values(by='col')\n",
    "\n",
    "# step2: 找到最高租金.\n",
    "\n",
    "# step3: 找到租金最低的房子.\n",
    "#语法：df[df.col == df['col'].聚合函数()]\n",
    "\n",
    "\n"
   ],
   "metadata": {
    "collapsed": false
   },
   "id": "92b652b44dacc339"
  },
  {
   "cell_type": "code",
   "execution_count": null,
   "outputs": [],
   "source": [
    "# 需求2: 找到最近新上的10套房源, 更新时间降序排列, 前10个\n",
    "df.sort_values('update_time', ascending=False).head(10)"
   ],
   "metadata": {
    "collapsed": false
   },
   "id": "411b97b08806e9e3"
  },
  {
   "cell_type": "code",
   "execution_count": null,
   "outputs": [],
   "source": [
    "# 需求3: 查看所有更新时间.    细节: 去重\n",
    "df['update_time'].unique()                # ndarray类型\n",
    "# df.update_time.drop_duplicates()       # Series类型"
   ],
   "metadata": {
    "collapsed": false
   },
   "id": "54aee68e59a966a4"
  },
  {
   "cell_type": "code",
   "execution_count": null,
   "outputs": [],
   "source": [
    "# 需求4: 看房人数(view_num)   \n",
    "# df.view_num.mean()  # 13.44891304347826, 平均值\n",
    "# df.view_num.max()   # 122\n",
    "# df.view_num.min()   # 0\n",
    "# df.view_num.median()   # 10.0, 中位数. \n",
    "# df.describe()          # 验证结果\n",
    "\n",
    "\n",
    "# 进阶版需求: 不同看房人数的房源数量\n",
    "# SQL写法: select view_num, count(district) as `count` from df group by view_num;\n",
    "# 语法：df.groupby('col', as_index=False)['col'].count()  # as_index: 表示是否把分组字段充当索引列.\n",
    "# view_num(看房人数)； district（房源）\n",
    "tmp_df = df.groupby('view_num',as_index=True)['district'].count()\n",
    "tmp_df"
   ],
   "metadata": {
    "collapsed": false
   },
   "id": "e85f944d3fca02f6"
  },
  {
   "cell_type": "code",
   "execution_count": null,
   "outputs": [],
   "source": [
    "# 需求5: 房租价格的分布\n",
    "df['price'].mean()          # 房租: 平均值, 7570.800724637681\n",
    "df['price'].max()           # 房租: 最大值, 210000 \n",
    "df['price'].min()           # 房租: 最小值, 1300"
   ],
   "metadata": {
    "collapsed": false
   },
   "id": "71813c2ba778e67"
  },
  {
   "cell_type": "code",
   "execution_count": null,
   "outputs": [],
   "source": [
    "# 需求6: 看房人数最多的朝向\n",
    "tmp_df = df.groupby('direction', as_index=False)['view_num'].sum()\n",
    "tmp_df[tmp_df.view_num == tmp_df.view_num.max()]"
   ],
   "metadata": {
    "collapsed": false
   },
   "id": "316342d9d24fcbb0"
  },
  {
   "cell_type": "code",
   "execution_count": null,
   "outputs": [],
   "source": [
    "# 需求8: 房型分布情况, 绘图\n",
    "# %matplotlib inline\n",
    "# 当运行 %matplotlib inline 后，Matplotlib 绘制的图形会 直接嵌入到 Notebook 中，显示在代码单元格下方。\n",
    "# df.groupby('house_type', as_index=False)['district'].count()                           \n",
    "df.groupby('house_type')['district'].count().plot(kind='bar', figsize=(20, 10))          "
   ],
   "metadata": {
    "collapsed": false
   },
   "id": "b3cdb745cbd4e34c"
  },
  {
   "cell_type": "code",
   "execution_count": null,
   "outputs": [],
   "source": [
    "# 需求9: 最受欢迎的房型.\n",
    "tmp_df = df.groupby('house_type', as_index=False)['view_num'].sum()\n",
    "tmp_df[tmp_df.view_num == tmp_df.view_num.max()]"
   ],
   "metadata": {
    "collapsed": false
   },
   "id": "20e4b9e38d7912d3"
  },
  {
   "cell_type": "code",
   "execution_count": null,
   "outputs": [],
   "source": [
    "# 需求10: 房子的平均租房价格/m2.\n",
    "# step1: 给 df对象, 新增一列, 即: 每套房子的平均租金.\n",
    "df['price_per_m2'] = df['price'] / df['area']\n",
    "df.head()\n",
    "\n",
    "# step2: 计算平均租房价格\n",
    "df.price_per_m2.mean()          # 87.72268429900429"
   ],
   "metadata": {
    "collapsed": false
   },
   "id": "2a385bfaa5d4bd86"
  },
  {
   "cell_type": "code",
   "execution_count": null,
   "outputs": [],
   "source": [
    "# 需求11: 热门小区.   即: 看房人数最多的小区.\n",
    "tmp_df = df[['address', 'view_num']].groupby('address', as_index=False).agg({'view_num': 'sum'})\n",
    "tmp_df.sort_values('view_num', ascending=False)\n",
    "tmp_df.nlargest(10, 'view_num')"
   ],
   "metadata": {
    "collapsed": false
   },
   "id": "3a2a9f0bb919ad1e"
  },
  {
   "cell_type": "code",
   "execution_count": null,
   "outputs": [],
   "source": [
    "# 需求12: 出租房源最多的小区\n",
    "# 根据 小区分组, 计算各小区, 出租房源的总数量.\n",
    "tmp_df = df.groupby('address', as_index=False).district.count()\n",
    "tmp_df\n",
    "# 修改列名\n",
    "tmp_df.columns = ['address', 'count']\n",
    "tmp_df\n",
    "# 获取出租房源最多的小区\n",
    "# tmp_df.nlargest(1, 'count')\n",
    "# tmp_df.sort_values('count', ascending=False).head(1)\n",
    "tmp_df.sort_values('count').tail(1)"
   ],
   "metadata": {
    "collapsed": false
   },
   "id": "f3069f81944c9c99"
  }
 ],
 "metadata": {
  "kernelspec": {
   "display_name": "Python 3",
   "language": "python",
   "name": "python3"
  },
  "language_info": {
   "codemirror_mode": {
    "name": "ipython",
    "version": 2
   },
   "file_extension": ".py",
   "mimetype": "text/x-python",
   "name": "python",
   "nbconvert_exporter": "python",
   "pygments_lexer": "ipython2",
   "version": "2.7.6"
  }
 },
 "nbformat": 4,
 "nbformat_minor": 5
}
