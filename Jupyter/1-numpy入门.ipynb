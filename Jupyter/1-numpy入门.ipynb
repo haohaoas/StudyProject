{
 "cells": [
  {
   "cell_type": "markdown",
   "source": [
    "# 1.numpy入门"
   ],
   "metadata": {
    "collapsed": false
   },
   "id": "32bf886e50f61111"
  },
  {
   "cell_type": "code",
   "execution_count": 3,
   "outputs": [
    {
     "name": "stdout",
     "output_type": "stream",
     "text": [
      "[1 2 3 4 5]\n",
      "int64\n"
     ]
    }
   ],
   "source": [
    "# 导包\n",
    "import numpy as np\n",
    "\n",
    "# 基于 Python的列表, 构建: numpy对象.\n",
    "#  np.array()\n",
    "arr = np.array([1, 2, 3, 4, 5])\n",
    "#打印数据\n",
    "print(arr)\n",
    "#打印类型\n",
    "print(arr.dtype)"
   ],
   "metadata": {
    "collapsed": false,
    "ExecuteTime": {
     "end_time": "2025-05-04T03:50:31.534158Z",
     "start_time": "2025-05-04T03:50:31.499776Z"
    }
   },
   "id": "40c2e223dd5f25e4"
  },
  {
   "cell_type": "markdown",
   "source": [
    "# 2.numpy的属性"
   ],
   "metadata": {
    "collapsed": false
   },
   "id": "578abc888114d18b"
  },
  {
   "cell_type": "code",
   "execution_count": 15,
   "outputs": [
    {
     "name": "stdout",
     "output_type": "stream",
     "text": [
      "(3, 5)\n",
      "2\n",
      "15\n",
      "int64\n",
      "8\n"
     ]
    },
    {
     "data": {
      "text/plain": "8"
     },
     "execution_count": 15,
     "metadata": {},
     "output_type": "execute_result"
    }
   ],
   "source": [
    "# 1. 构建1个3行5列的 ndarray对象(n维数字), 即: 3行5列.\n",
    "# 语法： .arange(xx).reshape((xx, xx))\n",
    "arr = np.arange(15).reshape((3,5))\n",
    "#维度 .shape\n",
    "print(arr.shape)\n",
    "#轴:.ndim,几维数组, 维度(轴)就是几\n",
    "print(arr.ndim)\n",
    "#长度：.size\n",
    "print(arr.size)\n",
    "#元素的类型:.dtype\n",
    "print(arr.dtype)\n",
    "#大小(字节数):.itemsize\n",
    "print(arr.itemsize)\n",
    "#数组的类型:type(arr)\n",
    "type(arr)\n",
    "arr.itemsize"
   ],
   "metadata": {
    "collapsed": false,
    "ExecuteTime": {
     "end_time": "2025-05-04T04:03:03.247276Z",
     "start_time": "2025-05-04T04:03:03.207115Z"
    }
   },
   "id": "b1c19e6868e962a2"
  },
  {
   "cell_type": "code",
   "execution_count": null,
   "outputs": [],
   "source": [
    "# 扩展: 上述的 shape, ndim, size等属性, 可以改写成: np.属性名(对象对)的形式. \n",
    "# 例如：np.shape(arr)\n"
   ],
   "metadata": {
    "collapsed": false
   },
   "id": "fdc6471d4a1806af"
  },
  {
   "cell_type": "markdown",
   "source": [
    "# 3.创建ndarray对象"
   ],
   "metadata": {
    "collapsed": false
   },
   "id": "fc7bbfbdd0a38e09"
  },
  {
   "cell_type": "markdown",
   "source": [
    "## 3.1把Python列表封装成ndarray对象"
   ],
   "metadata": {
    "collapsed": false
   },
   "id": "6a511f4e4d4074e5"
  },
  {
   "cell_type": "code",
   "execution_count": null,
   "outputs": [],
   "source": [
    "# int数组\n",
    "arr1 = np.array([1, 2, 3, 4, 5])\n",
    "\n",
    "#数组对象打印\n",
    "print(arr1)\n",
    "#数组类型: type(xx)\n",
    "print(type(arr1))\n",
    "#数组元素类型:.dtype\n",
    "print(arr1.dtype)"
   ],
   "metadata": {
    "collapsed": false
   },
   "id": "25ac7dc314ca27d7"
  },
  {
   "cell_type": "code",
   "execution_count": null,
   "outputs": [],
   "source": [
    "# float数组\n",
    "arr11=np.ones((2, 3)).dtype(np.float64)\n",
    "#数组对象\n",
    "print(arr11)\n",
    "#数组类型\n",
    "print(type(arr11))\n",
    "#数组元素类型\n",
    "print(arr11.dtype)"
   ],
   "metadata": {
    "collapsed": false
   },
   "id": "b5c5d1c7e7544735"
  },
  {
   "cell_type": "markdown",
   "source": [
    "## 3.2 zeros()/ones()/empty() 函数创建 ndarray对象"
   ],
   "metadata": {
    "collapsed": false
   },
   "id": "56bc33d78a3f72c9"
  },
  {
   "cell_type": "code",
   "execution_count": null,
   "outputs": [],
   "source": [
    "# zeros() 创建全是0的数组, 即: ndarray对象\n",
    "#np.zeros((x, x))\n",
    "#获取：2行3列\n",
    "\n",
    "#数组对象\n",
    "\n",
    "#数组类型\n",
    "\n",
    "#数组元素类型"
   ],
   "metadata": {
    "collapsed": false
   },
   "id": "1f7abcce7d627e82"
  },
  {
   "cell_type": "code",
   "execution_count": null,
   "outputs": [],
   "source": [
    "# ones() 创建全是1的数组, 即: ndarray对象\n",
    "#np.ones((x,x))\n",
    "\n",
    "#数组对象\n",
    "\n",
    "#数组类型\n",
    "\n",
    "#数组元素类型"
   ],
   "metadata": {
    "collapsed": false
   },
   "id": "1583e53e1d056d5d"
  },
  {
   "cell_type": "code",
   "execution_count": null,
   "outputs": [],
   "source": [
    "# empty() 创建内容随机, 且依赖内存状态的随机值, 即: ndarray对象\n",
    "# np.empty((x, x))\n",
    "\n",
    "\n",
    "#数组对象\n",
    "\n",
    "#数组类型\n",
    "\n",
    "#数组元素类型\n"
   ],
   "metadata": {
    "collapsed": false
   },
   "id": "8cee5b8f428b414f"
  },
  {
   "cell_type": "markdown",
   "source": [
    "## 3.3 arange()函数, 创建ndarray对象"
   ],
   "metadata": {
    "collapsed": false
   },
   "id": "f15df85b7104d644"
  },
  {
   "cell_type": "code",
   "execution_count": null,
   "outputs": [],
   "source": [
    "# arange(起始值, 结束值, 步长, 类型), 它类似于Python中的 range()\n",
    "# 类型： （类型）dtype=np.xxx\n",
    "arr6 = np.arange(-1,10,2,dtype= float)\n",
    "print(type(arr6))\n",
    "\n",
    "#数组对象\n",
    "\n",
    "#数组类型\n",
    "\n",
    "#数组元素类型\n"
   ],
   "metadata": {
    "collapsed": false
   },
   "id": "9ad000d5d02b61a5"
  },
  {
   "cell_type": "markdown",
   "source": [
    "## 3.4 matrix() 生成二维数组"
   ],
   "metadata": {
    "collapsed": false
   },
   "id": "c392cd075e9db8d1"
  },
  {
   "cell_type": "code",
   "execution_count": null,
   "outputs": [],
   "source": [
    "# matrix()属于ndarry的子集, 生成 二维数组的. \n",
    "#np.matrix([[x, x, x], [x, x, x]])\n",
    "\n",
    "#数组对象\n",
    "\n",
    "#数组类型\n",
    "\n",
    "#数组元素类型\n"
   ],
   "metadata": {
    "collapsed": false
   },
   "id": "764240fd014aeb19"
  },
  {
   "cell_type": "markdown",
   "source": [
    "## 3.5 rand(), randint(), uniform() 生成ndarray对象"
   ],
   "metadata": {
    "collapsed": false
   },
   "id": "ec9a668220ef9735"
  },
  {
   "cell_type": "code",
   "execution_count": null,
   "outputs": [],
   "source": [
    "# rand(), 生成0.0 ~ 1.0之间的 随机数组. 包左不包右.\n",
    "# np.random.rand(xx,xx)\n",
    "# 2行3列\n",
    "\n",
    "\n",
    "#数组对象\n",
    "\n",
    "#数组类型\n",
    "\n",
    "#数组元素类型"
   ],
   "metadata": {
    "collapsed": false
   },
   "id": "3a05a1b890ab7329"
  },
  {
   "cell_type": "code",
   "execution_count": null,
   "outputs": [],
   "source": [
    "# randint(), 生成指定范围之间的 随机数组. 包左不包右.\n",
    "#np.random.randint(xx,xx, size=(xx,xx))\n",
    "\n",
    "\n",
    "#数组对象\n",
    "\n",
    "#数组类型\n",
    "\n",
    "#数组元素类型\n"
   ],
   "metadata": {
    "collapsed": false
   },
   "id": "47bdabb79500fb92"
  },
  {
   "cell_type": "code",
   "execution_count": null,
   "outputs": [],
   "source": [
    "# uniform(), 生成指定范围之间的 随机数组. 包左不包右.\n",
    "#np.random.uniform(xx, xx, size=(xx, xx))\n",
    "\n",
    "#数组对象\n",
    "\n",
    "#数组类型\n",
    "\n",
    "#数组元素类型\n"
   ],
   "metadata": {
    "collapsed": false
   },
   "id": "d6e2688f2343b3d6"
  },
  {
   "cell_type": "markdown",
   "source": [
    "## 3.6 通过 astype()函数, 把ndarray => ndarray"
   ],
   "metadata": {
    "collapsed": false
   },
   "id": "1db76b01b59c81af"
  },
  {
   "cell_type": "code",
   "execution_count": null,
   "outputs": [],
   "source": [
    "# 1. 创建1个 float类型的 数组.\n",
    "arr11 = np.ones((2, 3), dtype=np.float32)  # 2行3列\n",
    "print(f'数组对象: {arr11}')  # [[1. 1. 1.]   [1. 1. 1.]]\n",
    "print(f'数组类型: {type(arr11)}')  # <class 'numpy.ndarray'>\n",
    "print(f'数组元素类型: {arr11.dtype}')  # float32"
   ],
   "metadata": {
    "collapsed": false
   },
   "id": "539090b1f816f49d"
  },
  {
   "cell_type": "code",
   "execution_count": 36,
   "outputs": [
    {
     "name": "stdout",
     "output_type": "stream",
     "text": [
      "[1 2 3 4 5]\n",
      "<class 'numpy.ndarray'>\n",
      "int64\n"
     ]
    }
   ],
   "source": [
    "# 2. 把 arr11的元素类型, 从 float32 => int64\n",
    "# 语法： xx.astype(np.int64)\n",
    "arr11 = np.array([1.1, 2.0, 3.0, 4.0, 5.0],dtype=np.float32)\n",
    "arr11 = arr11.astype(np.int64)\n",
    "#数组对象\n",
    "print(arr11)\n",
    "#数组类型\n",
    "print(type(arr11))\n",
    "#数组元素类型\n",
    "print(arr11.dtype)"
   ],
   "metadata": {
    "collapsed": false,
    "ExecuteTime": {
     "end_time": "2025-05-04T07:57:03.173044Z",
     "start_time": "2025-05-04T07:57:03.132605Z"
    }
   },
   "id": "8338fe36e90a94aa"
  },
  {
   "cell_type": "markdown",
   "source": [
    "## 3.7 logspace()等比数列 和 linspace()等差数列"
   ],
   "metadata": {
    "collapsed": false
   },
   "id": "8f90fac377df6b7f"
  },
  {
   "cell_type": "code",
   "execution_count": 19,
   "outputs": [
    {
     "name": "stdout",
     "output_type": "stream",
     "text": [
      "[ 1.          1.46973449  2.16011948  3.1748021   4.66611616  6.85795186\n",
      " 10.0793684  14.8139954  21.77264    32.        ]\n"
     ]
    }
   ],
   "source": [
    "# logspace(起始幂值, 结束幂值, 元素个数, base=底数)   生成10^起始幂值 ~ 10^结束幂值范围内的, 指定个数的数据, 底数默认是10, 可以自定义\n",
    "# 语法： np.logspace(x,x,x,x)\n",
    "# 1.创建：10^0 ~ 10^5之间, 10个元素, 等比数列\n",
    "arr=np.logspace(0, 5, 10, base=2)\n",
    "# 1.创建：2^0 ~ 2^5之间,  10个元素, 等比数列\n",
    "arr1=np.logspace(2, 5, 10, base=2)\n",
    "#数组对象\n",
    "print(arr)\n",
    "#数组类型\n",
    "print(type(arr))\n",
    "#数组元素类型\n",
    "print(arr.dtype)"
   ],
   "metadata": {
    "collapsed": false,
    "ExecuteTime": {
     "end_time": "2025-05-04T07:49:44.391804Z",
     "start_time": "2025-05-04T07:49:44.358092Z"
    }
   },
   "id": "fd486b860e90cc3c"
  },
  {
   "cell_type": "code",
   "execution_count": 22,
   "outputs": [
    {
     "name": "stdout",
     "output_type": "stream",
     "text": [
      "[0. 1. 2. 3. 4.]\n"
     ]
    }
   ],
   "source": [
    "# linspace(起始值, 结束值, 元素个数, endpoint=True|False)   生成起始值 ~ 结束值之间的, 指定元素个数的值, 等差数列, endpoint=True(默认), 包含结束值. False:不包含\n",
    "#1.创建： 0 ~ 5之间, 5个数, 等差数列,  endpoint=True(默认值)\n",
    "arr=np.linspace(0, 5, 5, endpoint=False)\n",
    "\n",
    "#数组对象\n",
    "print(arr)\n",
    "#数组类型\n",
    "print(type(arr))\n",
    "#数组元素类型\n",
    "print(arr.dtype)"
   ],
   "metadata": {
    "collapsed": false,
    "ExecuteTime": {
     "end_time": "2025-05-04T07:51:04.265105Z",
     "start_time": "2025-05-04T07:51:04.229863Z"
    }
   },
   "id": "d25e63c78888d11"
  },
  {
   "cell_type": "markdown",
   "source": [
    "# 4. Numpy的内置函数"
   ],
   "metadata": {
    "collapsed": false
   },
   "id": "f26fe464f6d5db2d"
  },
  {
   "cell_type": "markdown",
   "source": [
    "## 4.1 内置函数之 基本函数"
   ],
   "metadata": {
    "collapsed": false
   },
   "id": "5592638a1b91af95"
  },
  {
   "cell_type": "code",
   "execution_count": 51,
   "outputs": [
    {
     "name": "stdout",
     "output_type": "stream",
     "text": [
      "数组对象: [[ 0.69823202 -0.43959253  1.82645714]\n",
      " [-0.71509976  0.07216007 -0.38988977]]\n"
     ]
    },
    {
     "data": {
      "text/plain": "array([[0.69823202, 0.        , 1.82645714],\n       [0.        , 0.07216007, 0.        ]])"
     },
     "execution_count": 51,
     "metadata": {},
     "output_type": "execute_result"
    }
   ],
   "source": [
    "# 基本函数如下: ceil(), floor(), rint(), isnan(), abs(), multiply(), divide(), where()\n",
    "# np.ceil(): 向上最接近的整数，参数是 number 或 array\n",
    "# np.floor(): 向下最接近的整数，参数是 number 或 array\n",
    "# np.rint(): 四舍五入，参数是 number 或 array\n",
    "# np.isnan(): 判断元素是否为 NaN(Not a Number)，参数是 number 或 array\n",
    "# np.multiply(): 元素相乘，参数是 number 或 array\n",
    "# np.divide(): 元素相除，参数是 number 或 array\n",
    "# np.abs()：元素的绝对值，参数是 number 或 array\n",
    "# np.where(condition, x, y): 三元运算符，x if condition else y\n",
    "# 注意: 需要注意multiply/divide 如果是两个ndarray进行运算 shape必须一致\n",
    "\n",
    "# 1. 生成ndarray对象.\n",
    "# 获取1个标准的正态分布的 2行3列的数据. \n",
    "# 语法：np.random.randn(x, x)\n",
    "arr = np.random.randn(2, 3)\n",
    "# 2. 演示函数.\n",
    "print(f'数组对象: {arr}')\n",
    "np.ceil(arr)\n",
    "np.floor(arr)\n",
    "np.rint(arr)\n",
    "np.isnan(arr)\n",
    "np.multiply(arr, 2)\n",
    "np.divide(arr, 2)\n",
    "np.abs(arr)\n",
    "np.where(arr > 0, arr, 0)"
   ],
   "metadata": {
    "collapsed": false,
    "ExecuteTime": {
     "end_time": "2025-05-04T08:06:31.018421Z",
     "start_time": "2025-05-04T08:06:30.992724Z"
    }
   },
   "id": "cf30d12043fa2f93"
  },
  {
   "cell_type": "markdown",
   "source": [
    "## 4.2 内置函数之 统计函数"
   ],
   "metadata": {
    "collapsed": false
   },
   "id": "b9c85f63dd8d8f36"
  },
  {
   "cell_type": "code",
   "execution_count": 55,
   "outputs": [
    {
     "data": {
      "text/plain": "np.int64(66)"
     },
     "execution_count": 55,
     "metadata": {},
     "output_type": "execute_result"
    }
   ],
   "source": [
    "# 统计函数介绍\n",
    "# np.mean(), np.sum()：所有元素的平均值，所有元素的和，参数是 number 或 array\n",
    "# np.max(), np.min()：所有元素的最大值，所有元素的最小值，参数是 number 或 array\n",
    "# np.std(), np.var()：所有元素的标准差，所有元素的方差，参数是 number 或 array\n",
    "# np.argmax(), np.argmin()：最大值的下标索引值，最小值的下标索引值，参数是 number 或 array\n",
    "# np.cumsum(), np.cumprod()：返回一个一维数组，每个元素都是之前所有元素的 累加和 和 累乘积，参数是 number 或 array\n",
    "# 多维数组默认统计全部维度，axis参数可以按指定轴心统计，值为0则按列统计，值为1则按行统计。\n",
    "\n",
    "# 1. 生成1个ndarray对象\n",
    "# 创建数组：3行4列\n",
    "# 语法：  np.arange(x).reshape((x, x)) \n",
    "arr=np.arange(12).reshape((3,4))\n",
    "\n",
    "# 2. 演示 cumsum(), 累加和.\n",
    "np.cumsum(arr)\n",
    "# 3. 演示 sum()求和.\n",
    "np.sum(arr)\n"
   ],
   "metadata": {
    "collapsed": false,
    "ExecuteTime": {
     "end_time": "2025-05-04T08:16:51.939134Z",
     "start_time": "2025-05-04T08:16:51.898771Z"
    }
   },
   "id": "c4ca05a7c1dfddc2"
  },
  {
   "cell_type": "markdown",
   "source": [
    "# 4.3 内置函数之 比较函数"
   ],
   "metadata": {
    "collapsed": false
   },
   "id": "d42aec80443fa6a5"
  },
  {
   "cell_type": "code",
   "execution_count": 58,
   "outputs": [
    {
     "data": {
      "text/plain": "np.False_"
     },
     "execution_count": 58,
     "metadata": {},
     "output_type": "execute_result"
    }
   ],
   "source": [
    "# any()   任意1个元素满足即可, 返回True, 否则返回False\n",
    "# all()   所有元素都要满足, 返回True, 否则返回False\n",
    "# 1. 生成1个数列.\n",
    "# 创建：2行3列的 正态分布的数据.\n",
    "# 语法：np.random.randn(x, x)\n",
    "arr=np.arange(6).reshape(2,3)\n",
    "\n",
    "# np.any(x>>0)： 只要arr的任意1个元素大于0即可.    True \n",
    "np.any(arr>0)\n",
    "# np.all(x>0)： arr的所有元素都要大于0即可.       False\n",
    "np.all(arr>1)"
   ],
   "metadata": {
    "collapsed": false,
    "ExecuteTime": {
     "end_time": "2025-05-04T08:21:58.310846Z",
     "start_time": "2025-05-04T08:21:58.264177Z"
    }
   },
   "id": "cdd62429ca146c12"
  },
  {
   "cell_type": "markdown",
   "source": [
    "## 4.4 内置函数之 排序函数"
   ],
   "metadata": {
    "collapsed": false
   },
   "id": "6e30bc0a43692f75"
  },
  {
   "cell_type": "code",
   "execution_count": 59,
   "outputs": [
    {
     "name": "stdout",
     "output_type": "stream",
     "text": [
      "排序前: [1 5 3 2 6]\n"
     ]
    },
    {
     "data": {
      "text/plain": "array([1, 2, 3, 5, 6])"
     },
     "execution_count": 59,
     "metadata": {},
     "output_type": "execute_result"
    }
   ],
   "source": [
    "# 方式1: np.sort(arr)     排序, 并返回新的副本.\n",
    "# 方式2: arr.sort()       对原数组排序.\n",
    "\n",
    "# 1. 获取ndarray对象\n",
    "arr = np.array([1, 5, 3, 2, 6])\n",
    "print(f'排序前: {arr}')\n",
    "# arr.sort()\n",
    "\n",
    "# 2. 排序\n",
    "arr.sort()\n",
    "# 3. 排序后\n",
    "arr"
   ],
   "metadata": {
    "collapsed": false,
    "ExecuteTime": {
     "end_time": "2025-05-04T08:22:59.295213Z",
     "start_time": "2025-05-04T08:22:59.255127Z"
    }
   },
   "id": "a6bc186a2d003718"
  },
  {
   "cell_type": "markdown",
   "source": [
    "## 4.5 内置函数之 去重函数"
   ],
   "metadata": {
    "collapsed": false
   },
   "id": "15efc986c5b21ef5"
  },
  {
   "cell_type": "code",
   "execution_count": 61,
   "outputs": [
    {
     "name": "stdout",
     "output_type": "stream",
     "text": [
      "[1 2 3 5 6]\n"
     ]
    }
   ],
   "source": [
    "# unique(): 去重函数, 类似于Python的 set()集合.\n",
    "\n",
    "# 1. 创建ndarray对象\n",
    "# 语法：np.array([x,x,x])\n",
    "# [[1, 2, 1, 6], [1, 3, 2, 5]]\n",
    "arr=np.array([1, 2, 1, 6, 1, 3, 2, 5])\n",
    "# 2. 去重.\n",
    "np.unique(arr)\n",
    "# 3. 打印结果.\n",
    "print(\n",
    "np.unique(arr)\n",
    ")"
   ],
   "metadata": {
    "collapsed": false,
    "ExecuteTime": {
     "end_time": "2025-05-04T09:40:30.808310Z",
     "start_time": "2025-05-04T09:40:30.764762Z"
    }
   },
   "id": "f74edad8b81be851"
  },
  {
   "cell_type": "markdown",
   "source": [
    "# 5. Numpy运算"
   ],
   "metadata": {
    "collapsed": false
   },
   "id": "34740db142cc64ea"
  },
  {
   "cell_type": "markdown",
   "source": [
    "## 5.1 基本运算, 即: 对应元素直接运算即可."
   ],
   "metadata": {
    "collapsed": false
   },
   "id": "ec413d0bf4ee41df"
  },
  {
   "cell_type": "code",
   "execution_count": 63,
   "outputs": [
    {
     "name": "stdout",
     "output_type": "stream",
     "text": [
      "[  0  20  60 120]\n",
      "[  0  20  60 120]\n"
     ]
    }
   ],
   "source": [
    "# 1. 创建两个ndarray对象.\n",
    "arr1 = np.array([10, 20, 30, 40])       # [10, 20, 30, 40]\n",
    "arr2 = np.arange(4)                     # [0, 1, 2, 3]\n",
    "\n",
    "# 2. 基本运算, 对应元素运算的.\n",
    "#2.1 加法\n",
    "np.add(arr1, arr2)\n",
    "#2.1 乘法：方法一：*； 方法二：np.multiply（x,x）\n",
    "print(arr1 * arr2)\n",
    "np.multiply(arr1, arr2)\n",
    "\n",
    "# 3. 打印结果.\n",
    "print(np.multiply(arr1, arr2))"
   ],
   "metadata": {
    "collapsed": false,
    "ExecuteTime": {
     "end_time": "2025-05-04T09:41:56.469055Z",
     "start_time": "2025-05-04T09:41:56.432469Z"
    }
   },
   "id": "d2ec189d4b52b438"
  },
  {
   "cell_type": "markdown",
   "source": [
    "## 5.2 矩阵运算, 情况1: 行列数一致"
   ],
   "metadata": {
    "collapsed": false
   },
   "id": "c75891387c222bf3"
  },
  {
   "cell_type": "code",
   "execution_count": 65,
   "outputs": [
    {
     "name": "stdout",
     "output_type": "stream",
     "text": [
      "[[ 1  4  9]\n",
      " [16 25 36]]\n"
     ]
    }
   ],
   "source": [
    "# 1. 创建两个ndarray对象, 二维的, 更好的演示 矩阵运算.\n",
    "arr1 = np.array([[1, 2, 3], [4, 5, 6]])       # [[1, 2, 3], [4, 5, 6]]\n",
    "arr2 = np.array([[1, 2, 3], [4, 5, 6]])       # [[1, 2, 3], [4, 5, 6]]\n",
    "\n",
    "# 2. 基本运算, 对应元素运算的.\n",
    "#乘法\n",
    "np.multiply(arr1, arr2)\n",
    "# 3. 打印结果.\n",
    "print(np.multiply(arr1, arr2))\n"
   ],
   "metadata": {
    "collapsed": false,
    "ExecuteTime": {
     "end_time": "2025-05-04T09:42:18.755823Z",
     "start_time": "2025-05-04T09:42:18.721212Z"
    }
   },
   "id": "56e147afbf99acad"
  },
  {
   "cell_type": "markdown",
   "source": [
    "## 5.3 矩阵运算, 情况2: 行列数相反"
   ],
   "metadata": {
    "collapsed": false
   },
   "id": "dd580333a17bcb93"
  },
  {
   "cell_type": "code",
   "execution_count": 67,
   "outputs": [
    {
     "name": "stdout",
     "output_type": "stream",
     "text": [
      "[[10 13]\n",
      " [28 40]]\n"
     ]
    }
   ],
   "source": [
    "# dot()函数, 适用于: 行列数相反的情况. \n",
    "# 1. 创建两个ndarray对象, 二维的, 更好的演示 矩阵运算.\n",
    "#语法： np.array（[[x,x],[x,x]]）\n",
    "#创建：2行3列\n",
    "arr=np.arange(6).reshape(2,3)\n",
    "#创建：3行2列\n",
    "arr1=np.arange(6).reshape(3,2)\n",
    "\n",
    "# 2. 基本运算, 对应元素运算的.\n",
    "#语法： x.dot(x)\n",
    "arr.dot(arr1)\n",
    "\n",
    "# 3. 打印结果.\n",
    "print(arr.dot(arr1))"
   ],
   "metadata": {
    "collapsed": false,
    "ExecuteTime": {
     "end_time": "2025-05-04T09:43:53.339707Z",
     "start_time": "2025-05-04T09:43:53.299073Z"
    }
   },
   "id": "b60eb443d5a441e"
  },
  {
   "cell_type": "code",
   "execution_count": null,
   "outputs": [],
   "source": [],
   "metadata": {
    "collapsed": false
   },
   "id": "586e1234d479e111"
  }
 ],
 "metadata": {
  "kernelspec": {
   "display_name": "Python 3",
   "language": "python",
   "name": "python3"
  },
  "language_info": {
   "codemirror_mode": {
    "name": "ipython",
    "version": 2
   },
   "file_extension": ".py",
   "mimetype": "text/x-python",
   "name": "python",
   "nbconvert_exporter": "python",
   "pygments_lexer": "ipython2",
   "version": "2.7.6"
  }
 },
 "nbformat": 4,
 "nbformat_minor": 5
}
